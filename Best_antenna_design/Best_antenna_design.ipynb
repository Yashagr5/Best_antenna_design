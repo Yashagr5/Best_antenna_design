{
 "cells": [
  {
   "cell_type": "code",
   "execution_count": 1,
   "metadata": {},
   "outputs": [],
   "source": [
    "import numpy as np\n",
    "import pandas as pd\n",
    "import seaborn as sns\n",
    "import matplotlib.pyplot as plt\n",
    "\n",
    "from sklearn.preprocessing import StandardScaler\n",
    "from sklearn.linear_model import LinearRegression\n",
    "from sklearn.linear_model import Lasso\n",
    "from sklearn.linear_model import Ridge\n",
    "from sklearn.linear_model import SGDRegressor\n",
    "from sklearn.neural_network import MLPRegressor\n",
    "from sklearn.svm import SVR\n",
    "from sklearn.tree import DecisionTreeRegressor\n",
    "from sklearn.ensemble import RandomForestRegressor\n",
    "from sklearn.ensemble import GradientBoostingRegressor\n",
    "from lightgbm import LGBMRegressor\n",
    "from xgboost import XGBRegressor\n",
    "\n",
    "from sklearn.model_selection import train_test_split\n",
    "from sklearn.metrics import r2_score\n",
    "from sklearn.model_selection import cross_val_score\n",
    "from sklearn.metrics import mean_squared_error"
   ]
  },
  {
   "cell_type": "code",
   "execution_count": 2,
   "metadata": {},
   "outputs": [
    {
     "data": {
      "text/html": [
       "<div>\n",
       "<style scoped>\n",
       "    .dataframe tbody tr th:only-of-type {\n",
       "        vertical-align: middle;\n",
       "    }\n",
       "\n",
       "    .dataframe tbody tr th {\n",
       "        vertical-align: top;\n",
       "    }\n",
       "\n",
       "    .dataframe thead th {\n",
       "        text-align: right;\n",
       "    }\n",
       "</style>\n",
       "<table border=\"1\" class=\"dataframe\">\n",
       "  <thead>\n",
       "    <tr style=\"text-align: right;\">\n",
       "      <th></th>\n",
       "      <th>fw</th>\n",
       "      <th>He</th>\n",
       "      <th>Rad</th>\n",
       "      <th>freq</th>\n",
       "      <th>s11</th>\n",
       "    </tr>\n",
       "  </thead>\n",
       "  <tbody>\n",
       "    <tr>\n",
       "      <th>0</th>\n",
       "      <td>2.5</td>\n",
       "      <td>3.0</td>\n",
       "      <td>6.0</td>\n",
       "      <td>2.000000</td>\n",
       "      <td>-6.273927</td>\n",
       "    </tr>\n",
       "    <tr>\n",
       "      <th>1</th>\n",
       "      <td>2.5</td>\n",
       "      <td>3.0</td>\n",
       "      <td>6.0</td>\n",
       "      <td>2.035556</td>\n",
       "      <td>-11.259256</td>\n",
       "    </tr>\n",
       "    <tr>\n",
       "      <th>2</th>\n",
       "      <td>2.5</td>\n",
       "      <td>3.0</td>\n",
       "      <td>6.0</td>\n",
       "      <td>2.071111</td>\n",
       "      <td>-13.584587</td>\n",
       "    </tr>\n",
       "    <tr>\n",
       "      <th>3</th>\n",
       "      <td>2.5</td>\n",
       "      <td>3.0</td>\n",
       "      <td>6.0</td>\n",
       "      <td>2.106667</td>\n",
       "      <td>-3.810306</td>\n",
       "    </tr>\n",
       "    <tr>\n",
       "      <th>4</th>\n",
       "      <td>2.5</td>\n",
       "      <td>3.0</td>\n",
       "      <td>6.0</td>\n",
       "      <td>2.142222</td>\n",
       "      <td>-2.167448</td>\n",
       "    </tr>\n",
       "    <tr>\n",
       "      <th>...</th>\n",
       "      <td>...</td>\n",
       "      <td>...</td>\n",
       "      <td>...</td>\n",
       "      <td>...</td>\n",
       "      <td>...</td>\n",
       "    </tr>\n",
       "    <tr>\n",
       "      <th>262139</th>\n",
       "      <td>3.0</td>\n",
       "      <td>4.5</td>\n",
       "      <td>9.0</td>\n",
       "      <td>5.840000</td>\n",
       "      <td>-9.289045</td>\n",
       "    </tr>\n",
       "    <tr>\n",
       "      <th>262140</th>\n",
       "      <td>3.0</td>\n",
       "      <td>4.5</td>\n",
       "      <td>9.0</td>\n",
       "      <td>5.875556</td>\n",
       "      <td>-8.890133</td>\n",
       "    </tr>\n",
       "    <tr>\n",
       "      <th>262141</th>\n",
       "      <td>3.0</td>\n",
       "      <td>4.5</td>\n",
       "      <td>9.0</td>\n",
       "      <td>5.911111</td>\n",
       "      <td>-8.501626</td>\n",
       "    </tr>\n",
       "    <tr>\n",
       "      <th>262142</th>\n",
       "      <td>3.0</td>\n",
       "      <td>4.5</td>\n",
       "      <td>9.0</td>\n",
       "      <td>5.946667</td>\n",
       "      <td>-8.119610</td>\n",
       "    </tr>\n",
       "    <tr>\n",
       "      <th>262143</th>\n",
       "      <td>3.0</td>\n",
       "      <td>4.5</td>\n",
       "      <td>9.0</td>\n",
       "      <td>5.982222</td>\n",
       "      <td>-7.740896</td>\n",
       "    </tr>\n",
       "  </tbody>\n",
       "</table>\n",
       "<p>262144 rows × 5 columns</p>\n",
       "</div>"
      ],
      "text/plain": [
       "         fw   He  Rad      freq        s11\n",
       "0       2.5  3.0  6.0  2.000000  -6.273927\n",
       "1       2.5  3.0  6.0  2.035556 -11.259256\n",
       "2       2.5  3.0  6.0  2.071111 -13.584587\n",
       "3       2.5  3.0  6.0  2.106667  -3.810306\n",
       "4       2.5  3.0  6.0  2.142222  -2.167448\n",
       "...     ...  ...  ...       ...        ...\n",
       "262139  3.0  4.5  9.0  5.840000  -9.289045\n",
       "262140  3.0  4.5  9.0  5.875556  -8.890133\n",
       "262141  3.0  4.5  9.0  5.911111  -8.501626\n",
       "262142  3.0  4.5  9.0  5.946667  -8.119610\n",
       "262143  3.0  4.5  9.0  5.982222  -7.740896\n",
       "\n",
       "[262144 rows x 5 columns]"
      ]
     },
     "execution_count": 2,
     "metadata": {},
     "output_type": "execute_result"
    }
   ],
   "source": [
    "set = pd.read_excel(\"modified_2.xlsx\")\n",
    "set"
   ]
  },
  {
   "cell_type": "code",
   "execution_count": 3,
   "metadata": {},
   "outputs": [
    {
     "data": {
      "text/plain": [
       "(262144, 5)"
      ]
     },
     "execution_count": 3,
     "metadata": {},
     "output_type": "execute_result"
    }
   ],
   "source": [
    "set.shape"
   ]
  },
  {
   "cell_type": "code",
   "execution_count": 4,
   "metadata": {},
   "outputs": [
    {
     "name": "stdout",
     "output_type": "stream",
     "text": [
      "<class 'pandas.core.frame.DataFrame'>\n",
      "RangeIndex: 262144 entries, 0 to 262143\n",
      "Data columns (total 5 columns):\n",
      " #   Column  Non-Null Count   Dtype  \n",
      "---  ------  --------------   -----  \n",
      " 0   fw      262144 non-null  float64\n",
      " 1   He      262144 non-null  float64\n",
      " 2   Rad     262144 non-null  float64\n",
      " 3   freq    262144 non-null  float64\n",
      " 4   s11     262144 non-null  float64\n",
      "dtypes: float64(5)\n",
      "memory usage: 10.0 MB\n"
     ]
    }
   ],
   "source": [
    "set.info()"
   ]
  },
  {
   "cell_type": "code",
   "execution_count": 5,
   "metadata": {},
   "outputs": [
    {
     "data": {
      "text/html": [
       "<div>\n",
       "<style scoped>\n",
       "    .dataframe tbody tr th:only-of-type {\n",
       "        vertical-align: middle;\n",
       "    }\n",
       "\n",
       "    .dataframe tbody tr th {\n",
       "        vertical-align: top;\n",
       "    }\n",
       "\n",
       "    .dataframe thead th {\n",
       "        text-align: right;\n",
       "    }\n",
       "</style>\n",
       "<table border=\"1\" class=\"dataframe\">\n",
       "  <thead>\n",
       "    <tr style=\"text-align: right;\">\n",
       "      <th></th>\n",
       "      <th>fw</th>\n",
       "      <th>He</th>\n",
       "      <th>Rad</th>\n",
       "      <th>freq</th>\n",
       "      <th>s11</th>\n",
       "    </tr>\n",
       "  </thead>\n",
       "  <tbody>\n",
       "    <tr>\n",
       "      <th>count</th>\n",
       "      <td>262144.000000</td>\n",
       "      <td>262144.000000</td>\n",
       "      <td>262144.000000</td>\n",
       "      <td>262144.000000</td>\n",
       "      <td>262144.000000</td>\n",
       "    </tr>\n",
       "    <tr>\n",
       "      <th>mean</th>\n",
       "      <td>2.738602</td>\n",
       "      <td>4.461611</td>\n",
       "      <td>7.997201</td>\n",
       "      <td>3.999996</td>\n",
       "      <td>-12.125988</td>\n",
       "    </tr>\n",
       "    <tr>\n",
       "      <th>std</th>\n",
       "      <td>0.152186</td>\n",
       "      <td>0.933724</td>\n",
       "      <td>1.223889</td>\n",
       "      <td>1.157267</td>\n",
       "      <td>7.653804</td>\n",
       "    </tr>\n",
       "    <tr>\n",
       "      <th>min</th>\n",
       "      <td>2.500000</td>\n",
       "      <td>3.000000</td>\n",
       "      <td>6.000000</td>\n",
       "      <td>2.000000</td>\n",
       "      <td>-79.248164</td>\n",
       "    </tr>\n",
       "    <tr>\n",
       "      <th>25%</th>\n",
       "      <td>2.600000</td>\n",
       "      <td>3.750000</td>\n",
       "      <td>7.000000</td>\n",
       "      <td>2.995556</td>\n",
       "      <td>-16.656531</td>\n",
       "    </tr>\n",
       "    <tr>\n",
       "      <th>50%</th>\n",
       "      <td>2.750000</td>\n",
       "      <td>4.500000</td>\n",
       "      <td>8.000000</td>\n",
       "      <td>4.000000</td>\n",
       "      <td>-10.483122</td>\n",
       "    </tr>\n",
       "    <tr>\n",
       "      <th>75%</th>\n",
       "      <td>2.850000</td>\n",
       "      <td>5.250000</td>\n",
       "      <td>9.000000</td>\n",
       "      <td>5.004444</td>\n",
       "      <td>-5.800364</td>\n",
       "    </tr>\n",
       "    <tr>\n",
       "      <th>max</th>\n",
       "      <td>3.000000</td>\n",
       "      <td>6.000000</td>\n",
       "      <td>10.000000</td>\n",
       "      <td>6.000000</td>\n",
       "      <td>-1.729233</td>\n",
       "    </tr>\n",
       "  </tbody>\n",
       "</table>\n",
       "</div>"
      ],
      "text/plain": [
       "                  fw             He            Rad           freq  \\\n",
       "count  262144.000000  262144.000000  262144.000000  262144.000000   \n",
       "mean        2.738602       4.461611       7.997201       3.999996   \n",
       "std         0.152186       0.933724       1.223889       1.157267   \n",
       "min         2.500000       3.000000       6.000000       2.000000   \n",
       "25%         2.600000       3.750000       7.000000       2.995556   \n",
       "50%         2.750000       4.500000       8.000000       4.000000   \n",
       "75%         2.850000       5.250000       9.000000       5.004444   \n",
       "max         3.000000       6.000000      10.000000       6.000000   \n",
       "\n",
       "                 s11  \n",
       "count  262144.000000  \n",
       "mean      -12.125988  \n",
       "std         7.653804  \n",
       "min       -79.248164  \n",
       "25%       -16.656531  \n",
       "50%       -10.483122  \n",
       "75%        -5.800364  \n",
       "max        -1.729233  "
      ]
     },
     "execution_count": 5,
     "metadata": {},
     "output_type": "execute_result"
    }
   ],
   "source": [
    "set.describe()"
   ]
  },
  {
   "cell_type": "code",
   "execution_count": 6,
   "metadata": {},
   "outputs": [
    {
     "data": {
      "text/plain": [
       "Text(0, 0.5, 'dB')"
      ]
     },
     "execution_count": 6,
     "metadata": {},
     "output_type": "execute_result"
    },
    {
     "data": {
      "image/png": "[encoded data removed]",
      "text/plain": [
       "<Figure size 640x480 with 1 Axes>"
      ]
     },
     "metadata": {},
     "output_type": "display_data"
    }
   ],
   "source": [
    "plt.scatter(x = 'Rad', y = 's11', data = set)\n",
    "plt.xlabel('Radius of Antenna')\n",
    "plt.ylabel('dB')"
   ]
  },
  {
   "cell_type": "code",
   "execution_count": 7,
   "metadata": {},
   "outputs": [
    {
     "data": {
      "text/plain": [
       "Text(0, 0.5, 'dB')"
      ]
     },
     "execution_count": 7,
     "metadata": {},
     "output_type": "execute_result"
    },
    {
     "data": {
      "image/png": "[encoded data removed]",
      "text/plain": [
       "<Figure size 640x480 with 1 Axes>"
      ]
     },
     "metadata": {},
     "output_type": "display_data"
    }
   ],
   "source": [
    "plt.scatter(x = 'He', y = 's11', data = set)\n",
    "plt.xlabel('Height of Antenna')\n",
    "plt.ylabel('dB')"
   ]
  },
  {
   "cell_type": "code",
   "execution_count": 8,
   "metadata": {},
   "outputs": [
    {
     "data": {
      "text/plain": [
       "Text(0, 0.5, 'dB')"
      ]
     },
     "execution_count": 8,
     "metadata": {},
     "output_type": "execute_result"
    },
    {
     "data": {
      "image/png": "[encoded data removed]",
      "text/plain": [
       "<Figure size 640x480 with 1 Axes>"
      ]
     },
     "metadata": {},
     "output_type": "display_data"
    }
   ],
   "source": [
    "plt.scatter(x = 'fw', y = 's11', data = set)\n",
    "plt.xlabel('Width of Antenna')\n",
    "plt.ylabel('dB')"
   ]
  },
  {
   "cell_type": "code",
   "execution_count": 9,
   "metadata": {},
   "outputs": [
    {
     "data": {
      "text/plain": [
       "Text(0, 0.5, 'dB')"
      ]
     },
     "execution_count": 9,
     "metadata": {},
     "output_type": "execute_result"
    },
    {
     "data": {
      "image/png": "[encoded data removed]",
      "text/plain": [
       "<Figure size 640x480 with 1 Axes>"
      ]
     },
     "metadata": {},
     "output_type": "display_data"
    }
   ],
   "source": [
    "plt.scatter(x = 'freq', y = 's11', data = set)\n",
    "plt.xlabel('Frequency')\n",
    "plt.ylabel('dB')"
   ]
  },
  {
   "cell_type": "code",
   "execution_count": 10,
   "metadata": {},
   "outputs": [
    {
     "data": {
      "image/png": "[encoded data removed]",
      "text/plain": [
       "<Figure size 1800x1400 with 6 Axes>"
      ]
     },
     "metadata": {},
     "output_type": "display_data"
    }
   ],
   "source": [
    "set.hist(bins=50, figsize=(18,14))\n",
    "plt.show()"
   ]
  },
  {
   "cell_type": "code",
   "execution_count": 11,
   "metadata": {},
   "outputs": [
    {
     "data": {
      "text/html": [
       "<div>\n",
       "<style scoped>\n",
       "    .dataframe tbody tr th:only-of-type {\n",
       "        vertical-align: middle;\n",
       "    }\n",
       "\n",
       "    .dataframe tbody tr th {\n",
       "        vertical-align: top;\n",
       "    }\n",
       "\n",
       "    .dataframe thead th {\n",
       "        text-align: right;\n",
       "    }\n",
       "</style>\n",
       "<table border=\"1\" class=\"dataframe\">\n",
       "  <thead>\n",
       "    <tr style=\"text-align: right;\">\n",
       "      <th></th>\n",
       "      <th>fw</th>\n",
       "      <th>He</th>\n",
       "      <th>Rad</th>\n",
       "      <th>freq</th>\n",
       "      <th>s11</th>\n",
       "    </tr>\n",
       "  </thead>\n",
       "  <tbody>\n",
       "    <tr>\n",
       "      <th>fw</th>\n",
       "      <td>1.000000e+00</td>\n",
       "      <td>-0.070613</td>\n",
       "      <td>-0.003922</td>\n",
       "      <td>8.398197e-07</td>\n",
       "      <td>-0.067817</td>\n",
       "    </tr>\n",
       "    <tr>\n",
       "      <th>He</th>\n",
       "      <td>-7.061284e-02</td>\n",
       "      <td>1.000000</td>\n",
       "      <td>-0.000102</td>\n",
       "      <td>-9.001064e-06</td>\n",
       "      <td>0.000997</td>\n",
       "    </tr>\n",
       "    <tr>\n",
       "      <th>Rad</th>\n",
       "      <td>-3.922079e-03</td>\n",
       "      <td>-0.000102</td>\n",
       "      <td>1.000000</td>\n",
       "      <td>1.345067e-06</td>\n",
       "      <td>0.034435</td>\n",
       "    </tr>\n",
       "    <tr>\n",
       "      <th>freq</th>\n",
       "      <td>8.398197e-07</td>\n",
       "      <td>-0.000009</td>\n",
       "      <td>0.000001</td>\n",
       "      <td>1.000000e+00</td>\n",
       "      <td>-0.091407</td>\n",
       "    </tr>\n",
       "    <tr>\n",
       "      <th>s11</th>\n",
       "      <td>-6.781665e-02</td>\n",
       "      <td>0.000997</td>\n",
       "      <td>0.034435</td>\n",
       "      <td>-9.140693e-02</td>\n",
       "      <td>1.000000</td>\n",
       "    </tr>\n",
       "  </tbody>\n",
       "</table>\n",
       "</div>"
      ],
      "text/plain": [
       "                fw        He       Rad          freq       s11\n",
       "fw    1.000000e+00 -0.070613 -0.003922  8.398197e-07 -0.067817\n",
       "He   -7.061284e-02  1.000000 -0.000102 -9.001064e-06  0.000997\n",
       "Rad  -3.922079e-03 -0.000102  1.000000  1.345067e-06  0.034435\n",
       "freq  8.398197e-07 -0.000009  0.000001  1.000000e+00 -0.091407\n",
       "s11  -6.781665e-02  0.000997  0.034435 -9.140693e-02  1.000000"
      ]
     },
     "execution_count": 11,
     "metadata": {},
     "output_type": "execute_result"
    }
   ],
   "source": [
    "set_correlation = set.corr()\n",
    "set_correlation"
   ]
  },
  {
   "cell_type": "code",
   "execution_count": 12,
   "metadata": {},
   "outputs": [
    {
     "data": {
      "image/png": "[encoded data removed]",
      "text/plain": [
       "<Figure size 1000x800 with 2 Axes>"
      ]
     },
     "metadata": {},
     "output_type": "display_data"
    }
   ],
   "source": [
    "plt.subplots(figsize=(10, 8))\n",
    "sns.heatmap(set_correlation, annot=True)\n",
    "plt.show()"
   ]
  },
  {
   "cell_type": "code",
   "execution_count": 13,
   "metadata": {},
   "outputs": [
    {
     "name": "stdout",
     "output_type": "stream",
     "text": [
      "    fw   He  Rad      freq\n",
      "0  2.5  3.0  6.0  2.000000\n",
      "1  2.5  3.0  6.0  2.035556\n",
      "2  2.5  3.0  6.0  2.071111\n",
      "3  2.5  3.0  6.0  2.106667\n",
      "4  2.5  3.0  6.0  2.142222\n",
      "\n",
      "\n",
      "0    -6.273927\n",
      "1   -11.259256\n",
      "2   -13.584587\n",
      "3    -3.810306\n",
      "4    -2.167448\n",
      "Name: s11, dtype: float64\n"
     ]
    }
   ],
   "source": [
    "x=set.drop(['s11'], axis=1)\n",
    "y=set['s11']\n",
    "print(x.head())\n",
    "print('\\n')\n",
    "print(y.head())"
   ]
  },
  {
   "cell_type": "code",
   "execution_count": 14,
   "metadata": {},
   "outputs": [
    {
     "data": {
      "text/html": [
       "<div>\n",
       "<style scoped>\n",
       "    .dataframe tbody tr th:only-of-type {\n",
       "        vertical-align: middle;\n",
       "    }\n",
       "\n",
       "    .dataframe tbody tr th {\n",
       "        vertical-align: top;\n",
       "    }\n",
       "\n",
       "    .dataframe thead th {\n",
       "        text-align: right;\n",
       "    }\n",
       "</style>\n",
       "<table border=\"1\" class=\"dataframe\">\n",
       "  <thead>\n",
       "    <tr style=\"text-align: right;\">\n",
       "      <th></th>\n",
       "      <th>fw</th>\n",
       "      <th>He</th>\n",
       "      <th>Rad</th>\n",
       "      <th>freq</th>\n",
       "    </tr>\n",
       "  </thead>\n",
       "  <tbody>\n",
       "    <tr>\n",
       "      <th>257753</th>\n",
       "      <td>3.00</td>\n",
       "      <td>4.00</td>\n",
       "      <td>8.00</td>\n",
       "      <td>2.231111</td>\n",
       "    </tr>\n",
       "    <tr>\n",
       "      <th>15456</th>\n",
       "      <td>2.50</td>\n",
       "      <td>5.00</td>\n",
       "      <td>6.25</td>\n",
       "      <td>2.328889</td>\n",
       "    </tr>\n",
       "    <tr>\n",
       "      <th>210053</th>\n",
       "      <td>2.90</td>\n",
       "      <td>4.25</td>\n",
       "      <td>8.25</td>\n",
       "      <td>6.000000</td>\n",
       "    </tr>\n",
       "    <tr>\n",
       "      <th>133660</th>\n",
       "      <td>2.75</td>\n",
       "      <td>4.00</td>\n",
       "      <td>9.00</td>\n",
       "      <td>3.822222</td>\n",
       "    </tr>\n",
       "    <tr>\n",
       "      <th>198006</th>\n",
       "      <td>2.85</td>\n",
       "      <td>6.00</td>\n",
       "      <td>7.25</td>\n",
       "      <td>2.604444</td>\n",
       "    </tr>\n",
       "    <tr>\n",
       "      <th>...</th>\n",
       "      <td>...</td>\n",
       "      <td>...</td>\n",
       "      <td>...</td>\n",
       "      <td>...</td>\n",
       "    </tr>\n",
       "    <tr>\n",
       "      <th>207736</th>\n",
       "      <td>2.90</td>\n",
       "      <td>4.00</td>\n",
       "      <td>7.50</td>\n",
       "      <td>3.795556</td>\n",
       "    </tr>\n",
       "    <tr>\n",
       "      <th>91351</th>\n",
       "      <td>2.65</td>\n",
       "      <td>5.00</td>\n",
       "      <td>8.75</td>\n",
       "      <td>2.835556</td>\n",
       "    </tr>\n",
       "    <tr>\n",
       "      <th>11157</th>\n",
       "      <td>2.50</td>\n",
       "      <td>4.25</td>\n",
       "      <td>9.25</td>\n",
       "      <td>5.822222</td>\n",
       "    </tr>\n",
       "    <tr>\n",
       "      <th>121567</th>\n",
       "      <td>2.70</td>\n",
       "      <td>5.75</td>\n",
       "      <td>7.75</td>\n",
       "      <td>2.800000</td>\n",
       "    </tr>\n",
       "    <tr>\n",
       "      <th>157365</th>\n",
       "      <td>2.80</td>\n",
       "      <td>4.00</td>\n",
       "      <td>6.25</td>\n",
       "      <td>4.800000</td>\n",
       "    </tr>\n",
       "  </tbody>\n",
       "</table>\n",
       "<p>209715 rows × 4 columns</p>\n",
       "</div>"
      ],
      "text/plain": [
       "          fw    He   Rad      freq\n",
       "257753  3.00  4.00  8.00  2.231111\n",
       "15456   2.50  5.00  6.25  2.328889\n",
       "210053  2.90  4.25  8.25  6.000000\n",
       "133660  2.75  4.00  9.00  3.822222\n",
       "198006  2.85  6.00  7.25  2.604444\n",
       "...      ...   ...   ...       ...\n",
       "207736  2.90  4.00  7.50  3.795556\n",
       "91351   2.65  5.00  8.75  2.835556\n",
       "11157   2.50  4.25  9.25  5.822222\n",
       "121567  2.70  5.75  7.75  2.800000\n",
       "157365  2.80  4.00  6.25  4.800000\n",
       "\n",
       "[209715 rows x 4 columns]"
      ]
     },
     "execution_count": 14,
     "metadata": {},
     "output_type": "execute_result"
    }
   ],
   "source": [
    "x_train, x_test, y_train, y_test = train_test_split(x, y, shuffle=True, test_size=0.2)\n",
    "x_train"
   ]
  },
  {
   "cell_type": "code",
   "execution_count": 15,
   "metadata": {},
   "outputs": [
    {
     "data": {
      "text/html": [
       "<style>#sk-container-id-1 {color: black;background-color: white;}#sk-container-id-1 pre{padding: 0;}#sk-container-id-1 div.sk-toggleable {background-color: white;}#sk-container-id-1 label.sk-toggleable__label {cursor: pointer;display: block;width: 100%;margin-bottom: 0;padding: 0.3em;box-sizing: border-box;text-align: center;}#sk-container-id-1 label.sk-toggleable__label-arrow:before {content: \"▸\";float: left;margin-right: 0.25em;color: #696969;}#sk-container-id-1 label.sk-toggleable__label-arrow:hover:before {color: black;}#sk-container-id-1 div.sk-estimator:hover label.sk-toggleable__label-arrow:before {color: black;}#sk-container-id-1 div.sk-toggleable__content {max-height: 0;max-width: 0;overflow: hidden;text-align: left;background-color: #f0f8ff;}#sk-container-id-1 div.sk-toggleable__content pre {margin: 0.2em;color: black;border-radius: 0.25em;background-color: #f0f8ff;}#sk-container-id-1 input.sk-toggleable__control:checked~div.sk-toggleable__content {max-height: 200px;max-width: 100%;overflow: auto;}#sk-container-id-1 input.sk-toggleable__control:checked~label.sk-toggleable__label-arrow:before {content: \"▾\";}#sk-container-id-1 div.sk-estimator input.sk-toggleable__control:checked~label.sk-toggleable__label {background-color: #d4ebff;}#sk-container-id-1 div.sk-label input.sk-toggleable__control:checked~label.sk-toggleable__label {background-color: #d4ebff;}#sk-container-id-1 input.sk-hidden--visually {border: 0;clip: rect(1px 1px 1px 1px);clip: rect(1px, 1px, 1px, 1px);height: 1px;margin: -1px;overflow: hidden;padding: 0;position: absolute;width: 1px;}#sk-container-id-1 div.sk-estimator {font-family: monospace;background-color: #f0f8ff;border: 1px dotted black;border-radius: 0.25em;box-sizing: border-box;margin-bottom: 0.5em;}#sk-container-id-1 div.sk-estimator:hover {background-color: #d4ebff;}#sk-container-id-1 div.sk-parallel-item::after {content: \"\";width: 100%;border-bottom: 1px solid gray;flex-grow: 1;}#sk-container-id-1 div.sk-label:hover label.sk-toggleable__label {background-color: #d4ebff;}#sk-container-id-1 div.sk-serial::before {content: \"\";position: absolute;border-left: 1px solid gray;box-sizing: border-box;top: 0;bottom: 0;left: 50%;z-index: 0;}#sk-container-id-1 div.sk-serial {display: flex;flex-direction: column;align-items: center;background-color: white;padding-right: 0.2em;padding-left: 0.2em;position: relative;}#sk-container-id-1 div.sk-item {position: relative;z-index: 1;}#sk-container-id-1 div.sk-parallel {display: flex;align-items: stretch;justify-content: center;background-color: white;position: relative;}#sk-container-id-1 div.sk-item::before, #sk-container-id-1 div.sk-parallel-item::before {content: \"\";position: absolute;border-left: 1px solid gray;box-sizing: border-box;top: 0;bottom: 0;left: 50%;z-index: -1;}#sk-container-id-1 div.sk-parallel-item {display: flex;flex-direction: column;z-index: 1;position: relative;background-color: white;}#sk-container-id-1 div.sk-parallel-item:first-child::after {align-self: flex-end;width: 50%;}#sk-container-id-1 div.sk-parallel-item:last-child::after {align-self: flex-start;width: 50%;}#sk-container-id-1 div.sk-parallel-item:only-child::after {width: 0;}#sk-container-id-1 div.sk-dashed-wrapped {border: 1px dashed gray;margin: 0 0.4em 0.5em 0.4em;box-sizing: border-box;padding-bottom: 0.4em;background-color: white;}#sk-container-id-1 div.sk-label label {font-family: monospace;font-weight: bold;display: inline-block;line-height: 1.2em;}#sk-container-id-1 div.sk-label-container {text-align: center;}#sk-container-id-1 div.sk-container {/* jupyter's `normalize.less` sets `[hidden] { display: none; }` but bootstrap.min.css set `[hidden] { display: none !important; }` so we also need the `!important` here to be able to override the default hidden behavior on the sphinx rendered scikit-learn.org. See: https://github.com/scikit-learn/scikit-learn/issues/21755 */display: inline-block !important;position: relative;}#sk-container-id-1 div.sk-text-repr-fallback {display: none;}</style><div id=\"sk-container-id-1\" class=\"sk-top-container\"><div class=\"sk-text-repr-fallback\"><pre>LinearRegression()</pre><b>In a Jupyter environment, please rerun this cell to show the HTML representation or trust the notebook. <br />On GitHub, the HTML representation is unable to render, please try loading this page with nbviewer.org.</b></div><div class=\"sk-container\" hidden><div class=\"sk-item\"><div class=\"sk-estimator sk-toggleable\"><input class=\"sk-toggleable__control sk-hidden--visually\" id=\"sk-estimator-id-1\" type=\"checkbox\" checked><label for=\"sk-estimator-id-1\" class=\"sk-toggleable__label sk-toggleable__label-arrow\">LinearRegression</label><div class=\"sk-toggleable__content\"><pre>LinearRegression()</pre></div></div></div></div></div>"
      ],
      "text/plain": [
       "LinearRegression()"
      ]
     },
     "execution_count": 15,
     "metadata": {},
     "output_type": "execute_result"
    }
   ],
   "source": [
    "# Linear Regression\n",
    "linear_regression = LinearRegression()\n",
    "linear_regression.fit(x_train, y_train)"
   ]
  },
  {
   "cell_type": "code",
   "execution_count": 16,
   "metadata": {},
   "outputs": [
    {
     "name": "stdout",
     "output_type": "stream",
     "text": [
      "Linear Regression training accuracy:  0.014131332992780576\n"
     ]
    }
   ],
   "source": [
    "print('Linear Regression training accuracy: ', linear_regression.score(x_train, y_train))"
   ]
  },
  {
   "cell_type": "code",
   "execution_count": 17,
   "metadata": {},
   "outputs": [
    {
     "name": "stdout",
     "output_type": "stream",
     "text": [
      "Linear Regression testing accuracy:  0.01414833075052957\n"
     ]
    }
   ],
   "source": [
    "print('Linear Regression testing accuracy: ', linear_regression.score(x_test, y_test))"
   ]
  },
  {
   "cell_type": "code",
   "execution_count": 18,
   "metadata": {},
   "outputs": [
    {
     "name": "stdout",
     "output_type": "stream",
     "text": [
      "[-11.91970284 -10.70547277 -13.82369736 ... -12.14687127 -11.36895947\n",
      " -13.18257994]\n"
     ]
    }
   ],
   "source": [
    "y_pred = linear_regression.predict(x_train)\n",
    "limited_predictions = y_pred[:52429]\n",
    "print(y_pred)"
   ]
  },
  {
   "cell_type": "code",
   "execution_count": 20,
   "metadata": {},
   "outputs": [
    {
     "name": "stdout",
     "output_type": "stream",
     "text": [
      "Linear Regression\n",
      "R2_score -0.014453245623178956\n",
      "MSE 59.355963556881406\n",
      "           y_test     y_pred\n",
      "12490   -3.939709 -13.812849\n",
      "260222  -9.552725 -13.299371\n",
      "177825  -7.463220 -12.397819\n",
      "207182 -17.498614 -11.933933\n",
      "73228  -17.318941 -11.715874\n",
      "151792 -13.270137 -13.003470\n",
      "208807  -5.895756 -12.393854\n",
      "190129 -17.103408 -11.863084\n",
      "222042 -21.491813 -12.402650\n",
      "209730  -6.511727 -12.012957\n"
     ]
    }
   ],
   "source": [
    "print('Linear Regression')\n",
    "r2= r2_score(y_test, limited_predictions)\n",
    "print(\"R2_score\", r2)\n",
    "mse= mean_squared_error(y_test, limited_predictions)\n",
    "print(\"MSE\", mse)\n",
    "# accuracies = cross_val_score(estimator = linear_regression, X = x_train, y = y_train)\n",
    "# print(accuracies.mean())\n",
    "# print(accuracies.std())\n",
    "set_y = pd.DataFrame({'y_test' : y_test, 'y_pred' : limited_predictions})\n",
    "print(set_y.sample(10))"
   ]
  },
  {
   "cell_type": "code",
   "execution_count": 21,
   "metadata": {},
   "outputs": [
    {
     "data": {
      "text/html": [
       "<style>#sk-container-id-2 {color: black;background-color: white;}#sk-container-id-2 pre{padding: 0;}#sk-container-id-2 div.sk-toggleable {background-color: white;}#sk-container-id-2 label.sk-toggleable__label {cursor: pointer;display: block;width: 100%;margin-bottom: 0;padding: 0.3em;box-sizing: border-box;text-align: center;}#sk-container-id-2 label.sk-toggleable__label-arrow:before {content: \"▸\";float: left;margin-right: 0.25em;color: #696969;}#sk-container-id-2 label.sk-toggleable__label-arrow:hover:before {color: black;}#sk-container-id-2 div.sk-estimator:hover label.sk-toggleable__label-arrow:before {color: black;}#sk-container-id-2 div.sk-toggleable__content {max-height: 0;max-width: 0;overflow: hidden;text-align: left;background-color: #f0f8ff;}#sk-container-id-2 div.sk-toggleable__content pre {margin: 0.2em;color: black;border-radius: 0.25em;background-color: #f0f8ff;}#sk-container-id-2 input.sk-toggleable__control:checked~div.sk-toggleable__content {max-height: 200px;max-width: 100%;overflow: auto;}#sk-container-id-2 input.sk-toggleable__control:checked~label.sk-toggleable__label-arrow:before {content: \"▾\";}#sk-container-id-2 div.sk-estimator input.sk-toggleable__control:checked~label.sk-toggleable__label {background-color: #d4ebff;}#sk-container-id-2 div.sk-label input.sk-toggleable__control:checked~label.sk-toggleable__label {background-color: #d4ebff;}#sk-container-id-2 input.sk-hidden--visually {border: 0;clip: rect(1px 1px 1px 1px);clip: rect(1px, 1px, 1px, 1px);height: 1px;margin: -1px;overflow: hidden;padding: 0;position: absolute;width: 1px;}#sk-container-id-2 div.sk-estimator {font-family: monospace;background-color: #f0f8ff;border: 1px dotted black;border-radius: 0.25em;box-sizing: border-box;margin-bottom: 0.5em;}#sk-container-id-2 div.sk-estimator:hover {background-color: #d4ebff;}#sk-container-id-2 div.sk-parallel-item::after {content: \"\";width: 100%;border-bottom: 1px solid gray;flex-grow: 1;}#sk-container-id-2 div.sk-label:hover label.sk-toggleable__label {background-color: #d4ebff;}#sk-container-id-2 div.sk-serial::before {content: \"\";position: absolute;border-left: 1px solid gray;box-sizing: border-box;top: 0;bottom: 0;left: 50%;z-index: 0;}#sk-container-id-2 div.sk-serial {display: flex;flex-direction: column;align-items: center;background-color: white;padding-right: 0.2em;padding-left: 0.2em;position: relative;}#sk-container-id-2 div.sk-item {position: relative;z-index: 1;}#sk-container-id-2 div.sk-parallel {display: flex;align-items: stretch;justify-content: center;background-color: white;position: relative;}#sk-container-id-2 div.sk-item::before, #sk-container-id-2 div.sk-parallel-item::before {content: \"\";position: absolute;border-left: 1px solid gray;box-sizing: border-box;top: 0;bottom: 0;left: 50%;z-index: -1;}#sk-container-id-2 div.sk-parallel-item {display: flex;flex-direction: column;z-index: 1;position: relative;background-color: white;}#sk-container-id-2 div.sk-parallel-item:first-child::after {align-self: flex-end;width: 50%;}#sk-container-id-2 div.sk-parallel-item:last-child::after {align-self: flex-start;width: 50%;}#sk-container-id-2 div.sk-parallel-item:only-child::after {width: 0;}#sk-container-id-2 div.sk-dashed-wrapped {border: 1px dashed gray;margin: 0 0.4em 0.5em 0.4em;box-sizing: border-box;padding-bottom: 0.4em;background-color: white;}#sk-container-id-2 div.sk-label label {font-family: monospace;font-weight: bold;display: inline-block;line-height: 1.2em;}#sk-container-id-2 div.sk-label-container {text-align: center;}#sk-container-id-2 div.sk-container {/* jupyter's `normalize.less` sets `[hidden] { display: none; }` but bootstrap.min.css set `[hidden] { display: none !important; }` so we also need the `!important` here to be able to override the default hidden behavior on the sphinx rendered scikit-learn.org. See: https://github.com/scikit-learn/scikit-learn/issues/21755 */display: inline-block !important;position: relative;}#sk-container-id-2 div.sk-text-repr-fallback {display: none;}</style><div id=\"sk-container-id-2\" class=\"sk-top-container\"><div class=\"sk-text-repr-fallback\"><pre>Lasso(alpha=0.2, max_iter=10000)</pre><b>In a Jupyter environment, please rerun this cell to show the HTML representation or trust the notebook. <br />On GitHub, the HTML representation is unable to render, please try loading this page with nbviewer.org.</b></div><div class=\"sk-container\" hidden><div class=\"sk-item\"><div class=\"sk-estimator sk-toggleable\"><input class=\"sk-toggleable__control sk-hidden--visually\" id=\"sk-estimator-id-2\" type=\"checkbox\" checked><label for=\"sk-estimator-id-2\" class=\"sk-toggleable__label sk-toggleable__label-arrow\">Lasso</label><div class=\"sk-toggleable__content\"><pre>Lasso(alpha=0.2, max_iter=10000)</pre></div></div></div></div></div>"
      ],
      "text/plain": [
       "Lasso(alpha=0.2, max_iter=10000)"
      ]
     },
     "execution_count": 21,
     "metadata": {},
     "output_type": "execute_result"
    }
   ],
   "source": [
    "Lasso_regression = Lasso(alpha=0.2, max_iter = 10000) \n",
    "Lasso_regression.fit(x_train, y_train)"
   ]
  },
  {
   "cell_type": "code",
   "execution_count": 22,
   "metadata": {},
   "outputs": [
    {
     "name": "stdout",
     "output_type": "stream",
     "text": [
      "Lasso regression training accuracy:  0.008666831238981598\n"
     ]
    }
   ],
   "source": [
    "print('Lasso regression training accuracy: ', Lasso_regression.score(x_train, y_train)) "
   ]
  },
  {
   "cell_type": "code",
   "execution_count": 23,
   "metadata": {},
   "outputs": [
    {
     "name": "stdout",
     "output_type": "stream",
     "text": [
      "Lasso Regression testing accuracy:  0.008378499759102986\n"
     ]
    }
   ],
   "source": [
    "print('Lasso Regression testing accuracy: ', Lasso_regression.score(x_test, y_test))"
   ]
  },
  {
   "cell_type": "code",
   "execution_count": 24,
   "metadata": {},
   "outputs": [
    {
     "data": {
      "text/plain": [
       "array([-12.38173865, -12.23477968, -12.58078036, ..., -12.84600356,\n",
       "       -12.44591678, -11.88777733])"
      ]
     },
     "execution_count": 24,
     "metadata": {},
     "output_type": "execute_result"
    }
   ],
   "source": [
    "y_pred = Lasso_regression.predict(x_test)\n",
    "y_pred"
   ]
  },
  {
   "cell_type": "code",
   "execution_count": 25,
   "metadata": {},
   "outputs": [
    {
     "name": "stdout",
     "output_type": "stream",
     "text": [
      "Lasso Regression\n",
      "R2_score 0.008378499759102986\n",
      "MSE 58.020071289102994\n",
      "           y_test     y_pred\n",
      "84071  -10.955893 -12.259790\n",
      "5047    -3.802751 -12.568105\n",
      "139109  -3.841803 -12.625876\n",
      "173909 -14.582213 -11.915992\n",
      "49802  -21.535697 -12.331237\n",
      "16140   -6.097858 -11.505672\n",
      "240313 -34.884544 -11.949613\n",
      "8845   -17.742521 -11.990883\n",
      "126281  -2.528597 -11.080095\n",
      "49116   -7.911655 -12.303884\n"
     ]
    }
   ],
   "source": [
    "print('Lasso Regression')\n",
    "r2= r2_score(y_test, y_pred)\n",
    "print(\"R2_score\", r2)\n",
    "mse= mean_squared_error(y_test, y_pred)\n",
    "print(\"MSE\", mse)\n",
    "# accuracies = cross_val_score(estimator = Lasso_regression, X = x_train, y = y_train)\n",
    "# print(\"accuracies mean\", accuracies.mean())\n",
    "# print(\"accuracies standard deviation\", accuracies.std())\n",
    "set_y = pd.DataFrame({'y_test' : y_test, 'y_pred' : y_pred})\n",
    "print(set_y.sample(10))"
   ]
  },
  {
   "cell_type": "code",
   "execution_count": 26,
   "metadata": {},
   "outputs": [
    {
     "data": {
      "text/html": [
       "<style>#sk-container-id-3 {color: black;background-color: white;}#sk-container-id-3 pre{padding: 0;}#sk-container-id-3 div.sk-toggleable {background-color: white;}#sk-container-id-3 label.sk-toggleable__label {cursor: pointer;display: block;width: 100%;margin-bottom: 0;padding: 0.3em;box-sizing: border-box;text-align: center;}#sk-container-id-3 label.sk-toggleable__label-arrow:before {content: \"▸\";float: left;margin-right: 0.25em;color: #696969;}#sk-container-id-3 label.sk-toggleable__label-arrow:hover:before {color: black;}#sk-container-id-3 div.sk-estimator:hover label.sk-toggleable__label-arrow:before {color: black;}#sk-container-id-3 div.sk-toggleable__content {max-height: 0;max-width: 0;overflow: hidden;text-align: left;background-color: #f0f8ff;}#sk-container-id-3 div.sk-toggleable__content pre {margin: 0.2em;color: black;border-radius: 0.25em;background-color: #f0f8ff;}#sk-container-id-3 input.sk-toggleable__control:checked~div.sk-toggleable__content {max-height: 200px;max-width: 100%;overflow: auto;}#sk-container-id-3 input.sk-toggleable__control:checked~label.sk-toggleable__label-arrow:before {content: \"▾\";}#sk-container-id-3 div.sk-estimator input.sk-toggleable__control:checked~label.sk-toggleable__label {background-color: #d4ebff;}#sk-container-id-3 div.sk-label input.sk-toggleable__control:checked~label.sk-toggleable__label {background-color: #d4ebff;}#sk-container-id-3 input.sk-hidden--visually {border: 0;clip: rect(1px 1px 1px 1px);clip: rect(1px, 1px, 1px, 1px);height: 1px;margin: -1px;overflow: hidden;padding: 0;position: absolute;width: 1px;}#sk-container-id-3 div.sk-estimator {font-family: monospace;background-color: #f0f8ff;border: 1px dotted black;border-radius: 0.25em;box-sizing: border-box;margin-bottom: 0.5em;}#sk-container-id-3 div.sk-estimator:hover {background-color: #d4ebff;}#sk-container-id-3 div.sk-parallel-item::after {content: \"\";width: 100%;border-bottom: 1px solid gray;flex-grow: 1;}#sk-container-id-3 div.sk-label:hover label.sk-toggleable__label {background-color: #d4ebff;}#sk-container-id-3 div.sk-serial::before {content: \"\";position: absolute;border-left: 1px solid gray;box-sizing: border-box;top: 0;bottom: 0;left: 50%;z-index: 0;}#sk-container-id-3 div.sk-serial {display: flex;flex-direction: column;align-items: center;background-color: white;padding-right: 0.2em;padding-left: 0.2em;position: relative;}#sk-container-id-3 div.sk-item {position: relative;z-index: 1;}#sk-container-id-3 div.sk-parallel {display: flex;align-items: stretch;justify-content: center;background-color: white;position: relative;}#sk-container-id-3 div.sk-item::before, #sk-container-id-3 div.sk-parallel-item::before {content: \"\";position: absolute;border-left: 1px solid gray;box-sizing: border-box;top: 0;bottom: 0;left: 50%;z-index: -1;}#sk-container-id-3 div.sk-parallel-item {display: flex;flex-direction: column;z-index: 1;position: relative;background-color: white;}#sk-container-id-3 div.sk-parallel-item:first-child::after {align-self: flex-end;width: 50%;}#sk-container-id-3 div.sk-parallel-item:last-child::after {align-self: flex-start;width: 50%;}#sk-container-id-3 div.sk-parallel-item:only-child::after {width: 0;}#sk-container-id-3 div.sk-dashed-wrapped {border: 1px dashed gray;margin: 0 0.4em 0.5em 0.4em;box-sizing: border-box;padding-bottom: 0.4em;background-color: white;}#sk-container-id-3 div.sk-label label {font-family: monospace;font-weight: bold;display: inline-block;line-height: 1.2em;}#sk-container-id-3 div.sk-label-container {text-align: center;}#sk-container-id-3 div.sk-container {/* jupyter's `normalize.less` sets `[hidden] { display: none; }` but bootstrap.min.css set `[hidden] { display: none !important; }` so we also need the `!important` here to be able to override the default hidden behavior on the sphinx rendered scikit-learn.org. See: https://github.com/scikit-learn/scikit-learn/issues/21755 */display: inline-block !important;position: relative;}#sk-container-id-3 div.sk-text-repr-fallback {display: none;}</style><div id=\"sk-container-id-3\" class=\"sk-top-container\"><div class=\"sk-text-repr-fallback\"><pre>Ridge()</pre><b>In a Jupyter environment, please rerun this cell to show the HTML representation or trust the notebook. <br />On GitHub, the HTML representation is unable to render, please try loading this page with nbviewer.org.</b></div><div class=\"sk-container\" hidden><div class=\"sk-item\"><div class=\"sk-estimator sk-toggleable\"><input class=\"sk-toggleable__control sk-hidden--visually\" id=\"sk-estimator-id-3\" type=\"checkbox\" checked><label for=\"sk-estimator-id-3\" class=\"sk-toggleable__label sk-toggleable__label-arrow\">Ridge</label><div class=\"sk-toggleable__content\"><pre>Ridge()</pre></div></div></div></div></div>"
      ],
      "text/plain": [
       "Ridge()"
      ]
     },
     "execution_count": 26,
     "metadata": {},
     "output_type": "execute_result"
    }
   ],
   "source": [
    "Ridge_regression= Ridge(alpha=1.0) \n",
    "Ridge_regression.fit(x_train, y_train)"
   ]
  },
  {
   "cell_type": "code",
   "execution_count": 27,
   "metadata": {},
   "outputs": [
    {
     "name": "stdout",
     "output_type": "stream",
     "text": [
      "Ridge regression training accuracy:  0.014131332800696783\n"
     ]
    }
   ],
   "source": [
    "print('Ridge regression training accuracy: ', Ridge_regression.score(x_train, y_train))"
   ]
  },
  {
   "cell_type": "code",
   "execution_count": 28,
   "metadata": {},
   "outputs": [
    {
     "name": "stdout",
     "output_type": "stream",
     "text": [
      "Ridge Regression testing accuracy:  0.014148228854837464\n"
     ]
    }
   ],
   "source": [
    "print('Ridge Regression testing accuracy: ', Ridge_regression.score(x_test, y_test))"
   ]
  },
  {
   "cell_type": "code",
   "execution_count": 29,
   "metadata": {},
   "outputs": [
    {
     "data": {
      "text/plain": [
       "array([-12.13343904, -11.71424543, -12.17887824, ..., -13.4696486 ,\n",
       "       -12.35230333, -12.382298  ])"
      ]
     },
     "execution_count": 29,
     "metadata": {},
     "output_type": "execute_result"
    }
   ],
   "source": [
    "y_pred = Ridge_regression.predict(x_test)\n",
    "y_pred"
   ]
  },
  {
   "cell_type": "code",
   "execution_count": 30,
   "metadata": {},
   "outputs": [
    {
     "name": "stdout",
     "output_type": "stream",
     "text": [
      "Ridge Regression\n",
      "R2_score 0.014148228854837464\n",
      "MSE 57.68248270981946\n",
      "           y_test     y_pred\n",
      "149893 -26.458894 -12.379544\n",
      "31257   -9.262243 -10.957276\n",
      "111700  -9.517555 -12.673046\n",
      "179830  -8.574721 -13.280821\n",
      "210047 -13.623713 -13.694122\n",
      "1525    -6.967093 -11.060503\n",
      "170488  -5.561211 -10.939648\n",
      "49857   -6.864919 -11.289384\n",
      "73197   -8.420610 -11.251858\n",
      "45252  -34.353177 -11.051643\n"
     ]
    }
   ],
   "source": [
    "print('Ridge Regression')\n",
    "r2= r2_score(y_test, y_pred)\n",
    "print(\"R2_score\", r2)\n",
    "mse= mean_squared_error(y_test, y_pred)\n",
    "print(\"MSE\", mse)\n",
    "# accuracies = cross_val_score(estimator = Ridge_regression, X = x_train, y = y_train)\n",
    "# print(\"Accuracies mean \",accuracies.mean())\n",
    "# print(\"Accuracies standard \",accuracies.std())\n",
    "set_y = pd.DataFrame({'y_test' : y_test, 'y_pred' : y_pred})\n",
    "print(set_y.sample(10))"
   ]
  },
  {
   "cell_type": "code",
   "execution_count": 31,
   "metadata": {},
   "outputs": [
    {
     "data": {
      "text/html": [
       "<style>#sk-container-id-4 {color: black;background-color: white;}#sk-container-id-4 pre{padding: 0;}#sk-container-id-4 div.sk-toggleable {background-color: white;}#sk-container-id-4 label.sk-toggleable__label {cursor: pointer;display: block;width: 100%;margin-bottom: 0;padding: 0.3em;box-sizing: border-box;text-align: center;}#sk-container-id-4 label.sk-toggleable__label-arrow:before {content: \"▸\";float: left;margin-right: 0.25em;color: #696969;}#sk-container-id-4 label.sk-toggleable__label-arrow:hover:before {color: black;}#sk-container-id-4 div.sk-estimator:hover label.sk-toggleable__label-arrow:before {color: black;}#sk-container-id-4 div.sk-toggleable__content {max-height: 0;max-width: 0;overflow: hidden;text-align: left;background-color: #f0f8ff;}#sk-container-id-4 div.sk-toggleable__content pre {margin: 0.2em;color: black;border-radius: 0.25em;background-color: #f0f8ff;}#sk-container-id-4 input.sk-toggleable__control:checked~div.sk-toggleable__content {max-height: 200px;max-width: 100%;overflow: auto;}#sk-container-id-4 input.sk-toggleable__control:checked~label.sk-toggleable__label-arrow:before {content: \"▾\";}#sk-container-id-4 div.sk-estimator input.sk-toggleable__control:checked~label.sk-toggleable__label {background-color: #d4ebff;}#sk-container-id-4 div.sk-label input.sk-toggleable__control:checked~label.sk-toggleable__label {background-color: #d4ebff;}#sk-container-id-4 input.sk-hidden--visually {border: 0;clip: rect(1px 1px 1px 1px);clip: rect(1px, 1px, 1px, 1px);height: 1px;margin: -1px;overflow: hidden;padding: 0;position: absolute;width: 1px;}#sk-container-id-4 div.sk-estimator {font-family: monospace;background-color: #f0f8ff;border: 1px dotted black;border-radius: 0.25em;box-sizing: border-box;margin-bottom: 0.5em;}#sk-container-id-4 div.sk-estimator:hover {background-color: #d4ebff;}#sk-container-id-4 div.sk-parallel-item::after {content: \"\";width: 100%;border-bottom: 1px solid gray;flex-grow: 1;}#sk-container-id-4 div.sk-label:hover label.sk-toggleable__label {background-color: #d4ebff;}#sk-container-id-4 div.sk-serial::before {content: \"\";position: absolute;border-left: 1px solid gray;box-sizing: border-box;top: 0;bottom: 0;left: 50%;z-index: 0;}#sk-container-id-4 div.sk-serial {display: flex;flex-direction: column;align-items: center;background-color: white;padding-right: 0.2em;padding-left: 0.2em;position: relative;}#sk-container-id-4 div.sk-item {position: relative;z-index: 1;}#sk-container-id-4 div.sk-parallel {display: flex;align-items: stretch;justify-content: center;background-color: white;position: relative;}#sk-container-id-4 div.sk-item::before, #sk-container-id-4 div.sk-parallel-item::before {content: \"\";position: absolute;border-left: 1px solid gray;box-sizing: border-box;top: 0;bottom: 0;left: 50%;z-index: -1;}#sk-container-id-4 div.sk-parallel-item {display: flex;flex-direction: column;z-index: 1;position: relative;background-color: white;}#sk-container-id-4 div.sk-parallel-item:first-child::after {align-self: flex-end;width: 50%;}#sk-container-id-4 div.sk-parallel-item:last-child::after {align-self: flex-start;width: 50%;}#sk-container-id-4 div.sk-parallel-item:only-child::after {width: 0;}#sk-container-id-4 div.sk-dashed-wrapped {border: 1px dashed gray;margin: 0 0.4em 0.5em 0.4em;box-sizing: border-box;padding-bottom: 0.4em;background-color: white;}#sk-container-id-4 div.sk-label label {font-family: monospace;font-weight: bold;display: inline-block;line-height: 1.2em;}#sk-container-id-4 div.sk-label-container {text-align: center;}#sk-container-id-4 div.sk-container {/* jupyter's `normalize.less` sets `[hidden] { display: none; }` but bootstrap.min.css set `[hidden] { display: none !important; }` so we also need the `!important` here to be able to override the default hidden behavior on the sphinx rendered scikit-learn.org. See: https://github.com/scikit-learn/scikit-learn/issues/21755 */display: inline-block !important;position: relative;}#sk-container-id-4 div.sk-text-repr-fallback {display: none;}</style><div id=\"sk-container-id-4\" class=\"sk-top-container\"><div class=\"sk-text-repr-fallback\"><pre>SGDRegressor(max_iter=2000)</pre><b>In a Jupyter environment, please rerun this cell to show the HTML representation or trust the notebook. <br />On GitHub, the HTML representation is unable to render, please try loading this page with nbviewer.org.</b></div><div class=\"sk-container\" hidden><div class=\"sk-item\"><div class=\"sk-estimator sk-toggleable\"><input class=\"sk-toggleable__control sk-hidden--visually\" id=\"sk-estimator-id-4\" type=\"checkbox\" checked><label for=\"sk-estimator-id-4\" class=\"sk-toggleable__label sk-toggleable__label-arrow\">SGDRegressor</label><div class=\"sk-toggleable__content\"><pre>SGDRegressor(max_iter=2000)</pre></div></div></div></div></div>"
      ],
      "text/plain": [
       "SGDRegressor(max_iter=2000)"
      ]
     },
     "execution_count": 31,
     "metadata": {},
     "output_type": "execute_result"
    }
   ],
   "source": [
    "SGD_regression= SGDRegressor(max_iter = 2000) \n",
    "SGD_regression.fit(x_train, y_train)"
   ]
  },
  {
   "cell_type": "code",
   "execution_count": 32,
   "metadata": {},
   "outputs": [
    {
     "name": "stdout",
     "output_type": "stream",
     "text": [
      "SGD regression training accuracy:  0.0003435828721275458\n"
     ]
    }
   ],
   "source": [
    "print('SGD regression training accuracy: ', SGD_regression.score(x_train, y_train)) "
   ]
  },
  {
   "cell_type": "code",
   "execution_count": 33,
   "metadata": {},
   "outputs": [
    {
     "name": "stdout",
     "output_type": "stream",
     "text": [
      "SGD regression testing accuracy:  0.00016858922104445728\n"
     ]
    }
   ],
   "source": [
    "print('SGD regression testing accuracy: ', SGD_regression.score(x_test, y_test)) "
   ]
  },
  {
   "cell_type": "code",
   "execution_count": 34,
   "metadata": {},
   "outputs": [
    {
     "name": "stdout",
     "output_type": "stream",
     "text": [
      "[-12.95086711 -12.51497223 -13.06373357 ... -14.29253612 -13.15077808\n",
      " -13.27965493]\n"
     ]
    }
   ],
   "source": [
    "y_pred = SGD_regression.predict(x_test)\n",
    "print(y_pred)"
   ]
  },
  {
   "cell_type": "code",
   "execution_count": 35,
   "metadata": {},
   "outputs": [
    {
     "name": "stdout",
     "output_type": "stream",
     "text": [
      "SGD Regression\n",
      "R2_score 0.00016858922104445728\n",
      "MSE 58.500435616197144\n",
      "           y_test     y_pred\n",
      "202674  -9.804559 -13.348317\n",
      "169231 -13.634957 -14.540806\n",
      "16007  -17.704193 -13.480624\n",
      "17488   -4.222892 -11.653554\n",
      "109883 -14.069876 -13.136467\n",
      "218462 -11.278648 -13.551391\n",
      "220795 -15.991295 -13.421176\n",
      "59828  -12.171261 -12.997587\n",
      "30080   -8.839146 -12.774523\n",
      "246878  -6.249234 -13.971014\n"
     ]
    }
   ],
   "source": [
    "print('SGD Regression')\n",
    "r2= r2_score(y_test, y_pred)\n",
    "print(\"R2_score\", r2)\n",
    "mse= mean_squared_error(y_test, y_pred)\n",
    "print(\"MSE\", mse)\n",
    "# accuracies = cross_val_score(estimator = SGD_regression, X = x_train, y = y_train)\n",
    "# print(\"Accuracies mean \",accuracies.mean())\n",
    "# print(\"Accuracies standard \",accuracies.std())\n",
    "set_y = pd.DataFrame({'y_test' : y_test, 'y_pred' : y_pred})\n",
    "print(set_y.sample(10))"
   ]
  },
  {
   "cell_type": "code",
   "execution_count": 36,
   "metadata": {},
   "outputs": [
    {
     "data": {
      "text/html": [
       "<style>#sk-container-id-5 {color: black;background-color: white;}#sk-container-id-5 pre{padding: 0;}#sk-container-id-5 div.sk-toggleable {background-color: white;}#sk-container-id-5 label.sk-toggleable__label {cursor: pointer;display: block;width: 100%;margin-bottom: 0;padding: 0.3em;box-sizing: border-box;text-align: center;}#sk-container-id-5 label.sk-toggleable__label-arrow:before {content: \"▸\";float: left;margin-right: 0.25em;color: #696969;}#sk-container-id-5 label.sk-toggleable__label-arrow:hover:before {color: black;}#sk-container-id-5 div.sk-estimator:hover label.sk-toggleable__label-arrow:before {color: black;}#sk-container-id-5 div.sk-toggleable__content {max-height: 0;max-width: 0;overflow: hidden;text-align: left;background-color: #f0f8ff;}#sk-container-id-5 div.sk-toggleable__content pre {margin: 0.2em;color: black;border-radius: 0.25em;background-color: #f0f8ff;}#sk-container-id-5 input.sk-toggleable__control:checked~div.sk-toggleable__content {max-height: 200px;max-width: 100%;overflow: auto;}#sk-container-id-5 input.sk-toggleable__control:checked~label.sk-toggleable__label-arrow:before {content: \"▾\";}#sk-container-id-5 div.sk-estimator input.sk-toggleable__control:checked~label.sk-toggleable__label {background-color: #d4ebff;}#sk-container-id-5 div.sk-label input.sk-toggleable__control:checked~label.sk-toggleable__label {background-color: #d4ebff;}#sk-container-id-5 input.sk-hidden--visually {border: 0;clip: rect(1px 1px 1px 1px);clip: rect(1px, 1px, 1px, 1px);height: 1px;margin: -1px;overflow: hidden;padding: 0;position: absolute;width: 1px;}#sk-container-id-5 div.sk-estimator {font-family: monospace;background-color: #f0f8ff;border: 1px dotted black;border-radius: 0.25em;box-sizing: border-box;margin-bottom: 0.5em;}#sk-container-id-5 div.sk-estimator:hover {background-color: #d4ebff;}#sk-container-id-5 div.sk-parallel-item::after {content: \"\";width: 100%;border-bottom: 1px solid gray;flex-grow: 1;}#sk-container-id-5 div.sk-label:hover label.sk-toggleable__label {background-color: #d4ebff;}#sk-container-id-5 div.sk-serial::before {content: \"\";position: absolute;border-left: 1px solid gray;box-sizing: border-box;top: 0;bottom: 0;left: 50%;z-index: 0;}#sk-container-id-5 div.sk-serial {display: flex;flex-direction: column;align-items: center;background-color: white;padding-right: 0.2em;padding-left: 0.2em;position: relative;}#sk-container-id-5 div.sk-item {position: relative;z-index: 1;}#sk-container-id-5 div.sk-parallel {display: flex;align-items: stretch;justify-content: center;background-color: white;position: relative;}#sk-container-id-5 div.sk-item::before, #sk-container-id-5 div.sk-parallel-item::before {content: \"\";position: absolute;border-left: 1px solid gray;box-sizing: border-box;top: 0;bottom: 0;left: 50%;z-index: -1;}#sk-container-id-5 div.sk-parallel-item {display: flex;flex-direction: column;z-index: 1;position: relative;background-color: white;}#sk-container-id-5 div.sk-parallel-item:first-child::after {align-self: flex-end;width: 50%;}#sk-container-id-5 div.sk-parallel-item:last-child::after {align-self: flex-start;width: 50%;}#sk-container-id-5 div.sk-parallel-item:only-child::after {width: 0;}#sk-container-id-5 div.sk-dashed-wrapped {border: 1px dashed gray;margin: 0 0.4em 0.5em 0.4em;box-sizing: border-box;padding-bottom: 0.4em;background-color: white;}#sk-container-id-5 div.sk-label label {font-family: monospace;font-weight: bold;display: inline-block;line-height: 1.2em;}#sk-container-id-5 div.sk-label-container {text-align: center;}#sk-container-id-5 div.sk-container {/* jupyter's `normalize.less` sets `[hidden] { display: none; }` but bootstrap.min.css set `[hidden] { display: none !important; }` so we also need the `!important` here to be able to override the default hidden behavior on the sphinx rendered scikit-learn.org. See: https://github.com/scikit-learn/scikit-learn/issues/21755 */display: inline-block !important;position: relative;}#sk-container-id-5 div.sk-text-repr-fallback {display: none;}</style><div id=\"sk-container-id-5\" class=\"sk-top-container\"><div class=\"sk-text-repr-fallback\"><pre>DecisionTreeRegressor()</pre><b>In a Jupyter environment, please rerun this cell to show the HTML representation or trust the notebook. <br />On GitHub, the HTML representation is unable to render, please try loading this page with nbviewer.org.</b></div><div class=\"sk-container\" hidden><div class=\"sk-item\"><div class=\"sk-estimator sk-toggleable\"><input class=\"sk-toggleable__control sk-hidden--visually\" id=\"sk-estimator-id-5\" type=\"checkbox\" checked><label for=\"sk-estimator-id-5\" class=\"sk-toggleable__label sk-toggleable__label-arrow\">DecisionTreeRegressor</label><div class=\"sk-toggleable__content\"><pre>DecisionTreeRegressor()</pre></div></div></div></div></div>"
      ],
      "text/plain": [
       "DecisionTreeRegressor()"
      ]
     },
     "execution_count": 36,
     "metadata": {},
     "output_type": "execute_result"
    }
   ],
   "source": [
    "dt_regression = DecisionTreeRegressor()\n",
    "dt_regression.fit(x_train, y_train)"
   ]
  },
  {
   "cell_type": "code",
   "execution_count": 37,
   "metadata": {},
   "outputs": [
    {
     "name": "stdout",
     "output_type": "stream",
     "text": [
      "Decision Tree regression training accuracy:  1.0\n"
     ]
    }
   ],
   "source": [
    "print('Decision Tree regression training accuracy: ', dt_regression.score(x_train, y_train))"
   ]
  },
  {
   "cell_type": "code",
   "execution_count": 38,
   "metadata": {},
   "outputs": [
    {
     "name": "stdout",
     "output_type": "stream",
     "text": [
      "Decision Tree regression testing accuracy:  0.9602167371913859\n"
     ]
    }
   ],
   "source": [
    "print('Decision Tree regression testing accuracy: ', dt_regression.score(x_test, y_test))"
   ]
  },
  {
   "cell_type": "code",
   "execution_count": 39,
   "metadata": {},
   "outputs": [
    {
     "name": "stdout",
     "output_type": "stream",
     "text": [
      "[-15.7841111  -11.19343132 -11.16543592 ...  -8.92628215 -23.11256345\n",
      " -29.85045611]\n"
     ]
    }
   ],
   "source": [
    "y_pred = dt_regression.predict(x_test)\n",
    "print(y_pred)"
   ]
  },
  {
   "cell_type": "code",
   "execution_count": 40,
   "metadata": {},
   "outputs": [
    {
     "name": "stdout",
     "output_type": "stream",
     "text": [
      "Decision Regression\n",
      "R2_score 0.9602167371913859\n",
      "MSE 2.3277306348321076\n",
      "           y_test     y_pred\n",
      "152875 -16.214666 -15.355863\n",
      "113287  -7.222383  -7.308891\n",
      "87372  -19.425528 -23.028726\n",
      "118466 -14.334191 -14.259665\n",
      "165540  -9.679886 -10.058069\n",
      "250677 -20.503429 -19.928462\n",
      "160124  -7.938212  -7.750252\n",
      "234629 -23.959233 -19.255928\n",
      "239529  -7.158460  -6.642394\n",
      "98178   -6.441020  -6.619418\n"
     ]
    }
   ],
   "source": [
    "print('Decision Regression')\n",
    "r2= r2_score(y_test, y_pred)\n",
    "print(\"R2_score\", r2)\n",
    "mse= mean_squared_error(y_test, y_pred)\n",
    "print(\"MSE\", mse)\n",
    "# accuracies = cross_val_score(estimator = dt_regression, X = x_train, y = y_train)\n",
    "# print(\"Accuracies mean \",accuracies.mean())\n",
    "# print(\"Accuracies standard \",accuracies.std())\n",
    "set_y = pd.DataFrame({'y_test' : y_test, 'y_pred' : y_pred})\n",
    "print(set_y.sample(10))"
   ]
  },
  {
   "cell_type": "code",
   "execution_count": 41,
   "metadata": {},
   "outputs": [
    {
     "data": {
      "text/html": [
       "<style>#sk-container-id-6 {color: black;background-color: white;}#sk-container-id-6 pre{padding: 0;}#sk-container-id-6 div.sk-toggleable {background-color: white;}#sk-container-id-6 label.sk-toggleable__label {cursor: pointer;display: block;width: 100%;margin-bottom: 0;padding: 0.3em;box-sizing: border-box;text-align: center;}#sk-container-id-6 label.sk-toggleable__label-arrow:before {content: \"▸\";float: left;margin-right: 0.25em;color: #696969;}#sk-container-id-6 label.sk-toggleable__label-arrow:hover:before {color: black;}#sk-container-id-6 div.sk-estimator:hover label.sk-toggleable__label-arrow:before {color: black;}#sk-container-id-6 div.sk-toggleable__content {max-height: 0;max-width: 0;overflow: hidden;text-align: left;background-color: #f0f8ff;}#sk-container-id-6 div.sk-toggleable__content pre {margin: 0.2em;color: black;border-radius: 0.25em;background-color: #f0f8ff;}#sk-container-id-6 input.sk-toggleable__control:checked~div.sk-toggleable__content {max-height: 200px;max-width: 100%;overflow: auto;}#sk-container-id-6 input.sk-toggleable__control:checked~label.sk-toggleable__label-arrow:before {content: \"▾\";}#sk-container-id-6 div.sk-estimator input.sk-toggleable__control:checked~label.sk-toggleable__label {background-color: #d4ebff;}#sk-container-id-6 div.sk-label input.sk-toggleable__control:checked~label.sk-toggleable__label {background-color: #d4ebff;}#sk-container-id-6 input.sk-hidden--visually {border: 0;clip: rect(1px 1px 1px 1px);clip: rect(1px, 1px, 1px, 1px);height: 1px;margin: -1px;overflow: hidden;padding: 0;position: absolute;width: 1px;}#sk-container-id-6 div.sk-estimator {font-family: monospace;background-color: #f0f8ff;border: 1px dotted black;border-radius: 0.25em;box-sizing: border-box;margin-bottom: 0.5em;}#sk-container-id-6 div.sk-estimator:hover {background-color: #d4ebff;}#sk-container-id-6 div.sk-parallel-item::after {content: \"\";width: 100%;border-bottom: 1px solid gray;flex-grow: 1;}#sk-container-id-6 div.sk-label:hover label.sk-toggleable__label {background-color: #d4ebff;}#sk-container-id-6 div.sk-serial::before {content: \"\";position: absolute;border-left: 1px solid gray;box-sizing: border-box;top: 0;bottom: 0;left: 50%;z-index: 0;}#sk-container-id-6 div.sk-serial {display: flex;flex-direction: column;align-items: center;background-color: white;padding-right: 0.2em;padding-left: 0.2em;position: relative;}#sk-container-id-6 div.sk-item {position: relative;z-index: 1;}#sk-container-id-6 div.sk-parallel {display: flex;align-items: stretch;justify-content: center;background-color: white;position: relative;}#sk-container-id-6 div.sk-item::before, #sk-container-id-6 div.sk-parallel-item::before {content: \"\";position: absolute;border-left: 1px solid gray;box-sizing: border-box;top: 0;bottom: 0;left: 50%;z-index: -1;}#sk-container-id-6 div.sk-parallel-item {display: flex;flex-direction: column;z-index: 1;position: relative;background-color: white;}#sk-container-id-6 div.sk-parallel-item:first-child::after {align-self: flex-end;width: 50%;}#sk-container-id-6 div.sk-parallel-item:last-child::after {align-self: flex-start;width: 50%;}#sk-container-id-6 div.sk-parallel-item:only-child::after {width: 0;}#sk-container-id-6 div.sk-dashed-wrapped {border: 1px dashed gray;margin: 0 0.4em 0.5em 0.4em;box-sizing: border-box;padding-bottom: 0.4em;background-color: white;}#sk-container-id-6 div.sk-label label {font-family: monospace;font-weight: bold;display: inline-block;line-height: 1.2em;}#sk-container-id-6 div.sk-label-container {text-align: center;}#sk-container-id-6 div.sk-container {/* jupyter's `normalize.less` sets `[hidden] { display: none; }` but bootstrap.min.css set `[hidden] { display: none !important; }` so we also need the `!important` here to be able to override the default hidden behavior on the sphinx rendered scikit-learn.org. See: https://github.com/scikit-learn/scikit-learn/issues/21755 */display: inline-block !important;position: relative;}#sk-container-id-6 div.sk-text-repr-fallback {display: none;}</style><div id=\"sk-container-id-6\" class=\"sk-top-container\"><div class=\"sk-text-repr-fallback\"><pre>RandomForestRegressor()</pre><b>In a Jupyter environment, please rerun this cell to show the HTML representation or trust the notebook. <br />On GitHub, the HTML representation is unable to render, please try loading this page with nbviewer.org.</b></div><div class=\"sk-container\" hidden><div class=\"sk-item\"><div class=\"sk-estimator sk-toggleable\"><input class=\"sk-toggleable__control sk-hidden--visually\" id=\"sk-estimator-id-6\" type=\"checkbox\" checked><label for=\"sk-estimator-id-6\" class=\"sk-toggleable__label sk-toggleable__label-arrow\">RandomForestRegressor</label><div class=\"sk-toggleable__content\"><pre>RandomForestRegressor()</pre></div></div></div></div></div>"
      ],
      "text/plain": [
       "RandomForestRegressor()"
      ]
     },
     "execution_count": 41,
     "metadata": {},
     "output_type": "execute_result"
    }
   ],
   "source": [
    "rf_regression = RandomForestRegressor()\n",
    "rf_regression.fit(x_train, y_train)"
   ]
  },
  {
   "cell_type": "code",
   "execution_count": 42,
   "metadata": {},
   "outputs": [
    {
     "name": "stdout",
     "output_type": "stream",
     "text": [
      "Random forest regression training accuracy:  0.9973167605114428\n"
     ]
    }
   ],
   "source": [
    "print('Random forest regression training accuracy: ', rf_regression.score(x_train, y_train)) "
   ]
  },
  {
   "cell_type": "code",
   "execution_count": 43,
   "metadata": {},
   "outputs": [
    {
     "name": "stdout",
     "output_type": "stream",
     "text": [
      "Random forest regression testing accuracy:  0.9809749204760172\n"
     ]
    }
   ],
   "source": [
    "print('Random forest regression testing accuracy: ', rf_regression.score(x_test, y_test)) "
   ]
  },
  {
   "cell_type": "code",
   "execution_count": 44,
   "metadata": {},
   "outputs": [
    {
     "name": "stdout",
     "output_type": "stream",
     "text": [
      "[-15.75263166 -11.36441941 -11.38125153 ...  -9.03228998 -22.87962322\n",
      " -31.20433389]\n"
     ]
    }
   ],
   "source": [
    "y_pred = rf_regression.predict(x_test)\n",
    "print(y_pred)"
   ]
  },
  {
   "cell_type": "code",
   "execution_count": 45,
   "metadata": {},
   "outputs": [
    {
     "name": "stdout",
     "output_type": "stream",
     "text": [
      "Random forest Regression\n",
      "R2_score 0.9809749204760172\n",
      "MSE 1.1131631070869088\n",
      "           y_test     y_pred\n",
      "213567  -7.843730  -7.974642\n",
      "14617   -7.380968  -7.613121\n",
      "30106   -2.547428  -2.550504\n",
      "227315  -4.925154  -4.945492\n",
      "153176  -2.741376  -2.772829\n",
      "141988 -19.281938 -20.190522\n",
      "181672 -18.256514 -18.719062\n",
      "76324  -10.302245  -9.689909\n",
      "62407  -15.016949 -14.950335\n",
      "201347  -6.667952  -6.737381\n"
     ]
    }
   ],
   "source": [
    "print('Random forest Regression')\n",
    "r2= r2_score(y_test, y_pred)\n",
    "print(\"R2_score\", r2)\n",
    "mse= mean_squared_error(y_test, y_pred)\n",
    "print(\"MSE\", mse)\n",
    "# accuracies = cross_val_score(estimator = rf_regression, X = x_train, y = y_train)\n",
    "# print(\"Accuracies mean \",accuracies.mean())\n",
    "# print(\"Accuracies standard \",accuracies.std())\n",
    "set_y = pd.DataFrame({'y_test' : y_test, 'y_pred' : y_pred})\n",
    "print(set_y.sample(10))"
   ]
  },
  {
   "cell_type": "code",
   "execution_count": 46,
   "metadata": {},
   "outputs": [
    {
     "data": {
      "text/html": [
       "<style>#sk-container-id-7 {color: black;background-color: white;}#sk-container-id-7 pre{padding: 0;}#sk-container-id-7 div.sk-toggleable {background-color: white;}#sk-container-id-7 label.sk-toggleable__label {cursor: pointer;display: block;width: 100%;margin-bottom: 0;padding: 0.3em;box-sizing: border-box;text-align: center;}#sk-container-id-7 label.sk-toggleable__label-arrow:before {content: \"▸\";float: left;margin-right: 0.25em;color: #696969;}#sk-container-id-7 label.sk-toggleable__label-arrow:hover:before {color: black;}#sk-container-id-7 div.sk-estimator:hover label.sk-toggleable__label-arrow:before {color: black;}#sk-container-id-7 div.sk-toggleable__content {max-height: 0;max-width: 0;overflow: hidden;text-align: left;background-color: #f0f8ff;}#sk-container-id-7 div.sk-toggleable__content pre {margin: 0.2em;color: black;border-radius: 0.25em;background-color: #f0f8ff;}#sk-container-id-7 input.sk-toggleable__control:checked~div.sk-toggleable__content {max-height: 200px;max-width: 100%;overflow: auto;}#sk-container-id-7 input.sk-toggleable__control:checked~label.sk-toggleable__label-arrow:before {content: \"▾\";}#sk-container-id-7 div.sk-estimator input.sk-toggleable__control:checked~label.sk-toggleable__label {background-color: #d4ebff;}#sk-container-id-7 div.sk-label input.sk-toggleable__control:checked~label.sk-toggleable__label {background-color: #d4ebff;}#sk-container-id-7 input.sk-hidden--visually {border: 0;clip: rect(1px 1px 1px 1px);clip: rect(1px, 1px, 1px, 1px);height: 1px;margin: -1px;overflow: hidden;padding: 0;position: absolute;width: 1px;}#sk-container-id-7 div.sk-estimator {font-family: monospace;background-color: #f0f8ff;border: 1px dotted black;border-radius: 0.25em;box-sizing: border-box;margin-bottom: 0.5em;}#sk-container-id-7 div.sk-estimator:hover {background-color: #d4ebff;}#sk-container-id-7 div.sk-parallel-item::after {content: \"\";width: 100%;border-bottom: 1px solid gray;flex-grow: 1;}#sk-container-id-7 div.sk-label:hover label.sk-toggleable__label {background-color: #d4ebff;}#sk-container-id-7 div.sk-serial::before {content: \"\";position: absolute;border-left: 1px solid gray;box-sizing: border-box;top: 0;bottom: 0;left: 50%;z-index: 0;}#sk-container-id-7 div.sk-serial {display: flex;flex-direction: column;align-items: center;background-color: white;padding-right: 0.2em;padding-left: 0.2em;position: relative;}#sk-container-id-7 div.sk-item {position: relative;z-index: 1;}#sk-container-id-7 div.sk-parallel {display: flex;align-items: stretch;justify-content: center;background-color: white;position: relative;}#sk-container-id-7 div.sk-item::before, #sk-container-id-7 div.sk-parallel-item::before {content: \"\";position: absolute;border-left: 1px solid gray;box-sizing: border-box;top: 0;bottom: 0;left: 50%;z-index: -1;}#sk-container-id-7 div.sk-parallel-item {display: flex;flex-direction: column;z-index: 1;position: relative;background-color: white;}#sk-container-id-7 div.sk-parallel-item:first-child::after {align-self: flex-end;width: 50%;}#sk-container-id-7 div.sk-parallel-item:last-child::after {align-self: flex-start;width: 50%;}#sk-container-id-7 div.sk-parallel-item:only-child::after {width: 0;}#sk-container-id-7 div.sk-dashed-wrapped {border: 1px dashed gray;margin: 0 0.4em 0.5em 0.4em;box-sizing: border-box;padding-bottom: 0.4em;background-color: white;}#sk-container-id-7 div.sk-label label {font-family: monospace;font-weight: bold;display: inline-block;line-height: 1.2em;}#sk-container-id-7 div.sk-label-container {text-align: center;}#sk-container-id-7 div.sk-container {/* jupyter's `normalize.less` sets `[hidden] { display: none; }` but bootstrap.min.css set `[hidden] { display: none !important; }` so we also need the `!important` here to be able to override the default hidden behavior on the sphinx rendered scikit-learn.org. See: https://github.com/scikit-learn/scikit-learn/issues/21755 */display: inline-block !important;position: relative;}#sk-container-id-7 div.sk-text-repr-fallback {display: none;}</style><div id=\"sk-container-id-7\" class=\"sk-top-container\"><div class=\"sk-text-repr-fallback\"><pre>GradientBoostingRegressor()</pre><b>In a Jupyter environment, please rerun this cell to show the HTML representation or trust the notebook. <br />On GitHub, the HTML representation is unable to render, please try loading this page with nbviewer.org.</b></div><div class=\"sk-container\" hidden><div class=\"sk-item\"><div class=\"sk-estimator sk-toggleable\"><input class=\"sk-toggleable__control sk-hidden--visually\" id=\"sk-estimator-id-7\" type=\"checkbox\" checked><label for=\"sk-estimator-id-7\" class=\"sk-toggleable__label sk-toggleable__label-arrow\">GradientBoostingRegressor</label><div class=\"sk-toggleable__content\"><pre>GradientBoostingRegressor()</pre></div></div></div></div></div>"
      ],
      "text/plain": [
       "GradientBoostingRegressor()"
      ]
     },
     "execution_count": 46,
     "metadata": {},
     "output_type": "execute_result"
    }
   ],
   "source": [
    "gb_regression = GradientBoostingRegressor()\n",
    "gb_regression.fit(x_train, y_train)"
   ]
  },
  {
   "cell_type": "code",
   "execution_count": 47,
   "metadata": {},
   "outputs": [
    {
     "name": "stdout",
     "output_type": "stream",
     "text": [
      "Gradient Boosting regression training accuracy:  0.7978709802278068\n"
     ]
    }
   ],
   "source": [
    "print('Gradient Boosting regression training accuracy: ', gb_regression.score(x_train, y_train)) "
   ]
  },
  {
   "cell_type": "code",
   "execution_count": 48,
   "metadata": {},
   "outputs": [
    {
     "name": "stdout",
     "output_type": "stream",
     "text": [
      "Gradient Boosting regression testing accuracy:  0.7976943954247379\n"
     ]
    }
   ],
   "source": [
    "print('Gradient Boosting regression testing accuracy: ', gb_regression.score(x_test, y_test)) "
   ]
  },
  {
   "cell_type": "code",
   "execution_count": 49,
   "metadata": {},
   "outputs": [
    {
     "name": "stdout",
     "output_type": "stream",
     "text": [
      "[-13.27402874 -10.73493986 -10.43494472 ... -10.29881126 -13.95905414\n",
      " -29.92702264]\n"
     ]
    }
   ],
   "source": [
    "y_pred = gb_regression.predict(x_test)\n",
    "print(y_pred)"
   ]
  },
  {
   "cell_type": "code",
   "execution_count": 50,
   "metadata": {},
   "outputs": [
    {
     "name": "stdout",
     "output_type": "stream",
     "text": [
      "Gradient Boosting Regression\n",
      "R2_score 0.7976943954247379\n",
      "MSE 11.836961579383162\n",
      "           y_test     y_pred\n",
      "172546 -25.208373 -27.833127\n",
      "132845 -10.839800 -11.029579\n",
      "165492  -5.331613  -7.264507\n",
      "225281  -3.492107  -3.816751\n",
      "125121  -8.825965  -8.318296\n",
      "174788  -9.939594 -11.423212\n",
      "174091  -3.895563  -4.389981\n",
      "201239 -11.841053 -12.810070\n",
      "57786  -16.226985 -14.746001\n",
      "98212   -3.591802  -2.713910\n"
     ]
    }
   ],
   "source": [
    "print('Gradient Boosting Regression')\n",
    "r2= r2_score(y_test, y_pred)\n",
    "print(\"R2_score\", r2)\n",
    "mse= mean_squared_error(y_test, y_pred)\n",
    "print(\"MSE\", mse)\n",
    "# accuracies = cross_val_score(estimator = gb_regression, X = x_train, y = y_train)\n",
    "# print(\"Accuracies mean \",accuracies.mean())\n",
    "# print(\"Accuracies standard \",accuracies.std())\n",
    "set_y = pd.DataFrame({'y_test' : y_test, 'y_pred' : y_pred})\n",
    "print(set_y.sample(10))"
   ]
  },
  {
   "cell_type": "code",
   "execution_count": 51,
   "metadata": {},
   "outputs": [
    {
     "data": {
      "text/html": [
       "<style>#sk-container-id-8 {color: black;background-color: white;}#sk-container-id-8 pre{padding: 0;}#sk-container-id-8 div.sk-toggleable {background-color: white;}#sk-container-id-8 label.sk-toggleable__label {cursor: pointer;display: block;width: 100%;margin-bottom: 0;padding: 0.3em;box-sizing: border-box;text-align: center;}#sk-container-id-8 label.sk-toggleable__label-arrow:before {content: \"▸\";float: left;margin-right: 0.25em;color: #696969;}#sk-container-id-8 label.sk-toggleable__label-arrow:hover:before {color: black;}#sk-container-id-8 div.sk-estimator:hover label.sk-toggleable__label-arrow:before {color: black;}#sk-container-id-8 div.sk-toggleable__content {max-height: 0;max-width: 0;overflow: hidden;text-align: left;background-color: #f0f8ff;}#sk-container-id-8 div.sk-toggleable__content pre {margin: 0.2em;color: black;border-radius: 0.25em;background-color: #f0f8ff;}#sk-container-id-8 input.sk-toggleable__control:checked~div.sk-toggleable__content {max-height: 200px;max-width: 100%;overflow: auto;}#sk-container-id-8 input.sk-toggleable__control:checked~label.sk-toggleable__label-arrow:before {content: \"▾\";}#sk-container-id-8 div.sk-estimator input.sk-toggleable__control:checked~label.sk-toggleable__label {background-color: #d4ebff;}#sk-container-id-8 div.sk-label input.sk-toggleable__control:checked~label.sk-toggleable__label {background-color: #d4ebff;}#sk-container-id-8 input.sk-hidden--visually {border: 0;clip: rect(1px 1px 1px 1px);clip: rect(1px, 1px, 1px, 1px);height: 1px;margin: -1px;overflow: hidden;padding: 0;position: absolute;width: 1px;}#sk-container-id-8 div.sk-estimator {font-family: monospace;background-color: #f0f8ff;border: 1px dotted black;border-radius: 0.25em;box-sizing: border-box;margin-bottom: 0.5em;}#sk-container-id-8 div.sk-estimator:hover {background-color: #d4ebff;}#sk-container-id-8 div.sk-parallel-item::after {content: \"\";width: 100%;border-bottom: 1px solid gray;flex-grow: 1;}#sk-container-id-8 div.sk-label:hover label.sk-toggleable__label {background-color: #d4ebff;}#sk-container-id-8 div.sk-serial::before {content: \"\";position: absolute;border-left: 1px solid gray;box-sizing: border-box;top: 0;bottom: 0;left: 50%;z-index: 0;}#sk-container-id-8 div.sk-serial {display: flex;flex-direction: column;align-items: center;background-color: white;padding-right: 0.2em;padding-left: 0.2em;position: relative;}#sk-container-id-8 div.sk-item {position: relative;z-index: 1;}#sk-container-id-8 div.sk-parallel {display: flex;align-items: stretch;justify-content: center;background-color: white;position: relative;}#sk-container-id-8 div.sk-item::before, #sk-container-id-8 div.sk-parallel-item::before {content: \"\";position: absolute;border-left: 1px solid gray;box-sizing: border-box;top: 0;bottom: 0;left: 50%;z-index: -1;}#sk-container-id-8 div.sk-parallel-item {display: flex;flex-direction: column;z-index: 1;position: relative;background-color: white;}#sk-container-id-8 div.sk-parallel-item:first-child::after {align-self: flex-end;width: 50%;}#sk-container-id-8 div.sk-parallel-item:last-child::after {align-self: flex-start;width: 50%;}#sk-container-id-8 div.sk-parallel-item:only-child::after {width: 0;}#sk-container-id-8 div.sk-dashed-wrapped {border: 1px dashed gray;margin: 0 0.4em 0.5em 0.4em;box-sizing: border-box;padding-bottom: 0.4em;background-color: white;}#sk-container-id-8 div.sk-label label {font-family: monospace;font-weight: bold;display: inline-block;line-height: 1.2em;}#sk-container-id-8 div.sk-label-container {text-align: center;}#sk-container-id-8 div.sk-container {/* jupyter's `normalize.less` sets `[hidden] { display: none; }` but bootstrap.min.css set `[hidden] { display: none !important; }` so we also need the `!important` here to be able to override the default hidden behavior on the sphinx rendered scikit-learn.org. See: https://github.com/scikit-learn/scikit-learn/issues/21755 */display: inline-block !important;position: relative;}#sk-container-id-8 div.sk-text-repr-fallback {display: none;}</style><div id=\"sk-container-id-8\" class=\"sk-top-container\"><div class=\"sk-text-repr-fallback\"><pre>LGBMRegressor()</pre><b>In a Jupyter environment, please rerun this cell to show the HTML representation or trust the notebook. <br />On GitHub, the HTML representation is unable to render, please try loading this page with nbviewer.org.</b></div><div class=\"sk-container\" hidden><div class=\"sk-item\"><div class=\"sk-estimator sk-toggleable\"><input class=\"sk-toggleable__control sk-hidden--visually\" id=\"sk-estimator-id-8\" type=\"checkbox\" checked><label for=\"sk-estimator-id-8\" class=\"sk-toggleable__label sk-toggleable__label-arrow\">LGBMRegressor</label><div class=\"sk-toggleable__content\"><pre>LGBMRegressor()</pre></div></div></div></div></div>"
      ],
      "text/plain": [
       "LGBMRegressor()"
      ]
     },
     "execution_count": 51,
     "metadata": {},
     "output_type": "execute_result"
    }
   ],
   "source": [
    "lgbm_regression = LGBMRegressor()\n",
    "lgbm_regression.fit(x_train, y_train)"
   ]
  },
  {
   "cell_type": "code",
   "execution_count": 52,
   "metadata": {},
   "outputs": [
    {
     "name": "stdout",
     "output_type": "stream",
     "text": [
      "light Gradient Boosting regression training accuracy:  0.9604768988595501\n"
     ]
    }
   ],
   "source": [
    "print('light Gradient Boosting regression training accuracy: ', lgbm_regression.score(x_train, y_train)) "
   ]
  },
  {
   "cell_type": "code",
   "execution_count": 53,
   "metadata": {},
   "outputs": [
    {
     "name": "stdout",
     "output_type": "stream",
     "text": [
      "light Gradient Boosting regression testing accuracy:  0.9600876236362589\n"
     ]
    }
   ],
   "source": [
    "print('light Gradient Boosting regression testing accuracy: ', lgbm_regression.score(x_test, y_test)) "
   ]
  },
  {
   "cell_type": "code",
   "execution_count": 54,
   "metadata": {},
   "outputs": [
    {
     "name": "stdout",
     "output_type": "stream",
     "text": [
      "[-18.4892507   -9.69684454 -10.88448468 ...  -7.71613759 -20.77463723\n",
      " -30.59008803]\n"
     ]
    }
   ],
   "source": [
    "y_pred = lgbm_regression.predict(x_test)\n",
    "print(y_pred)"
   ]
  },
  {
   "cell_type": "code",
   "execution_count": 55,
   "metadata": {},
   "outputs": [
    {
     "name": "stdout",
     "output_type": "stream",
     "text": [
      "Light Gradient Boosting Regression\n",
      "R2_score 0.9600876236362589\n",
      "MSE 2.3352851076536836\n",
      "           y_test     y_pred\n",
      "109803  -4.344311  -4.378104\n",
      "29494  -12.212610 -13.076397\n",
      "120837  -8.269849  -8.219358\n",
      "206436 -12.760016 -12.899615\n",
      "81344  -19.369062 -19.538363\n",
      "167788  -6.751343  -6.686721\n",
      "201838  -6.027870  -6.047271\n",
      "175742  -4.773361  -5.431665\n",
      "203665 -22.787631 -24.053224\n",
      "173936  -6.106614  -7.608574\n"
     ]
    }
   ],
   "source": [
    "print('Light Gradient Boosting Regression')\n",
    "r2= r2_score(y_test, y_pred)\n",
    "print(\"R2_score\", r2)\n",
    "mse= mean_squared_error(y_test, y_pred)\n",
    "print(\"MSE\", mse)\n",
    "# accuracies = cross_val_score(estimator = lgbm_regression, X = x_train, y = y_train)\n",
    "# print(\"Accuracies mean \",accuracies.mean())\n",
    "# print(\"Accuracies standard \",accuracies.std())\n",
    "set_y = pd.DataFrame({'y_test' : y_test, 'y_pred' : y_pred})\n",
    "print(set_y.sample(10))"
   ]
  },
  {
   "cell_type": "code",
   "execution_count": 56,
   "metadata": {},
   "outputs": [
    {
     "data": {
      "text/html": [
       "<style>#sk-container-id-9 {color: black;background-color: white;}#sk-container-id-9 pre{padding: 0;}#sk-container-id-9 div.sk-toggleable {background-color: white;}#sk-container-id-9 label.sk-toggleable__label {cursor: pointer;display: block;width: 100%;margin-bottom: 0;padding: 0.3em;box-sizing: border-box;text-align: center;}#sk-container-id-9 label.sk-toggleable__label-arrow:before {content: \"▸\";float: left;margin-right: 0.25em;color: #696969;}#sk-container-id-9 label.sk-toggleable__label-arrow:hover:before {color: black;}#sk-container-id-9 div.sk-estimator:hover label.sk-toggleable__label-arrow:before {color: black;}#sk-container-id-9 div.sk-toggleable__content {max-height: 0;max-width: 0;overflow: hidden;text-align: left;background-color: #f0f8ff;}#sk-container-id-9 div.sk-toggleable__content pre {margin: 0.2em;color: black;border-radius: 0.25em;background-color: #f0f8ff;}#sk-container-id-9 input.sk-toggleable__control:checked~div.sk-toggleable__content {max-height: 200px;max-width: 100%;overflow: auto;}#sk-container-id-9 input.sk-toggleable__control:checked~label.sk-toggleable__label-arrow:before {content: \"▾\";}#sk-container-id-9 div.sk-estimator input.sk-toggleable__control:checked~label.sk-toggleable__label {background-color: #d4ebff;}#sk-container-id-9 div.sk-label input.sk-toggleable__control:checked~label.sk-toggleable__label {background-color: #d4ebff;}#sk-container-id-9 input.sk-hidden--visually {border: 0;clip: rect(1px 1px 1px 1px);clip: rect(1px, 1px, 1px, 1px);height: 1px;margin: -1px;overflow: hidden;padding: 0;position: absolute;width: 1px;}#sk-container-id-9 div.sk-estimator {font-family: monospace;background-color: #f0f8ff;border: 1px dotted black;border-radius: 0.25em;box-sizing: border-box;margin-bottom: 0.5em;}#sk-container-id-9 div.sk-estimator:hover {background-color: #d4ebff;}#sk-container-id-9 div.sk-parallel-item::after {content: \"\";width: 100%;border-bottom: 1px solid gray;flex-grow: 1;}#sk-container-id-9 div.sk-label:hover label.sk-toggleable__label {background-color: #d4ebff;}#sk-container-id-9 div.sk-serial::before {content: \"\";position: absolute;border-left: 1px solid gray;box-sizing: border-box;top: 0;bottom: 0;left: 50%;z-index: 0;}#sk-container-id-9 div.sk-serial {display: flex;flex-direction: column;align-items: center;background-color: white;padding-right: 0.2em;padding-left: 0.2em;position: relative;}#sk-container-id-9 div.sk-item {position: relative;z-index: 1;}#sk-container-id-9 div.sk-parallel {display: flex;align-items: stretch;justify-content: center;background-color: white;position: relative;}#sk-container-id-9 div.sk-item::before, #sk-container-id-9 div.sk-parallel-item::before {content: \"\";position: absolute;border-left: 1px solid gray;box-sizing: border-box;top: 0;bottom: 0;left: 50%;z-index: -1;}#sk-container-id-9 div.sk-parallel-item {display: flex;flex-direction: column;z-index: 1;position: relative;background-color: white;}#sk-container-id-9 div.sk-parallel-item:first-child::after {align-self: flex-end;width: 50%;}#sk-container-id-9 div.sk-parallel-item:last-child::after {align-self: flex-start;width: 50%;}#sk-container-id-9 div.sk-parallel-item:only-child::after {width: 0;}#sk-container-id-9 div.sk-dashed-wrapped {border: 1px dashed gray;margin: 0 0.4em 0.5em 0.4em;box-sizing: border-box;padding-bottom: 0.4em;background-color: white;}#sk-container-id-9 div.sk-label label {font-family: monospace;font-weight: bold;display: inline-block;line-height: 1.2em;}#sk-container-id-9 div.sk-label-container {text-align: center;}#sk-container-id-9 div.sk-container {/* jupyter's `normalize.less` sets `[hidden] { display: none; }` but bootstrap.min.css set `[hidden] { display: none !important; }` so we also need the `!important` here to be able to override the default hidden behavior on the sphinx rendered scikit-learn.org. See: https://github.com/scikit-learn/scikit-learn/issues/21755 */display: inline-block !important;position: relative;}#sk-container-id-9 div.sk-text-repr-fallback {display: none;}</style><div id=\"sk-container-id-9\" class=\"sk-top-container\"><div class=\"sk-text-repr-fallback\"><pre>XGBRegressor(base_score=None, booster=None, callbacks=None,\n",
       "             colsample_bylevel=None, colsample_bynode=None,\n",
       "             colsample_bytree=None, early_stopping_rounds=None,\n",
       "             enable_categorical=False, eval_metric=None, feature_types=None,\n",
       "             gamma=None, gpu_id=None, grow_policy=None, importance_type=None,\n",
       "             interaction_constraints=None, learning_rate=None, max_bin=None,\n",
       "             max_cat_threshold=None, max_cat_to_onehot=None,\n",
       "             max_delta_step=None, max_depth=None, max_leaves=None,\n",
       "             min_child_weight=None, missing=nan, monotone_constraints=None,\n",
       "             n_estimators=100, n_jobs=None, num_parallel_tree=None,\n",
       "             predictor=None, random_state=None, ...)</pre><b>In a Jupyter environment, please rerun this cell to show the HTML representation or trust the notebook. <br />On GitHub, the HTML representation is unable to render, please try loading this page with nbviewer.org.</b></div><div class=\"sk-container\" hidden><div class=\"sk-item\"><div class=\"sk-estimator sk-toggleable\"><input class=\"sk-toggleable__control sk-hidden--visually\" id=\"sk-estimator-id-9\" type=\"checkbox\" checked><label for=\"sk-estimator-id-9\" class=\"sk-toggleable__label sk-toggleable__label-arrow\">XGBRegressor</label><div class=\"sk-toggleable__content\"><pre>XGBRegressor(base_score=None, booster=None, callbacks=None,\n",
       "             colsample_bylevel=None, colsample_bynode=None,\n",
       "             colsample_bytree=None, early_stopping_rounds=None,\n",
       "             enable_categorical=False, eval_metric=None, feature_types=None,\n",
       "             gamma=None, gpu_id=None, grow_policy=None, importance_type=None,\n",
       "             interaction_constraints=None, learning_rate=None, max_bin=None,\n",
       "             max_cat_threshold=None, max_cat_to_onehot=None,\n",
       "             max_delta_step=None, max_depth=None, max_leaves=None,\n",
       "             min_child_weight=None, missing=nan, monotone_constraints=None,\n",
       "             n_estimators=100, n_jobs=None, num_parallel_tree=None,\n",
       "             predictor=None, random_state=None, ...)</pre></div></div></div></div></div>"
      ],
      "text/plain": [
       "XGBRegressor(base_score=None, booster=None, callbacks=None,\n",
       "             colsample_bylevel=None, colsample_bynode=None,\n",
       "             colsample_bytree=None, early_stopping_rounds=None,\n",
       "             enable_categorical=False, eval_metric=None, feature_types=None,\n",
       "             gamma=None, gpu_id=None, grow_policy=None, importance_type=None,\n",
       "             interaction_constraints=None, learning_rate=None, max_bin=None,\n",
       "             max_cat_threshold=None, max_cat_to_onehot=None,\n",
       "             max_delta_step=None, max_depth=None, max_leaves=None,\n",
       "             min_child_weight=None, missing=nan, monotone_constraints=None,\n",
       "             n_estimators=100, n_jobs=None, num_parallel_tree=None,\n",
       "             predictor=None, random_state=None, ...)"
      ]
     },
     "execution_count": 56,
     "metadata": {},
     "output_type": "execute_result"
    }
   ],
   "source": [
    "xgb_regression = XGBRegressor()\n",
    "xgb_regression.fit(x_train, y_train)"
   ]
  },
  {
   "cell_type": "code",
   "execution_count": 57,
   "metadata": {},
   "outputs": [
    {
     "name": "stdout",
     "output_type": "stream",
     "text": [
      "extreme Gradient Boosting regression training accuracy:  0.9761928591904504\n"
     ]
    }
   ],
   "source": [
    "print('extreme Gradient Boosting regression training accuracy: ', xgb_regression.score(x_train, y_train)) "
   ]
  },
  {
   "cell_type": "code",
   "execution_count": 58,
   "metadata": {},
   "outputs": [
    {
     "name": "stdout",
     "output_type": "stream",
     "text": [
      "extreme Gradient Boosting regression testing accuracy:  0.9743147180132679\n"
     ]
    }
   ],
   "source": [
    "print('extreme Gradient Boosting regression testing accuracy: ', xgb_regression.score(x_test, y_test)) "
   ]
  },
  {
   "cell_type": "code",
   "execution_count": 59,
   "metadata": {},
   "outputs": [
    {
     "name": "stdout",
     "output_type": "stream",
     "text": [
      "[-16.281935 -11.362837 -10.955513 ...  -8.689303 -21.267193 -31.061638]\n"
     ]
    }
   ],
   "source": [
    "y_pred = xgb_regression.predict(x_test)\n",
    "print(y_pred)"
   ]
  },
  {
   "cell_type": "code",
   "execution_count": 60,
   "metadata": {},
   "outputs": [
    {
     "name": "stdout",
     "output_type": "stream",
     "text": [
      "extreme Gradient Boosting Regression\n",
      "R2_score 0.9743147180132679\n",
      "MSE 1.50285355005804\n",
      "           y_test     y_pred\n",
      "75471  -24.525116 -25.073381\n",
      "137696 -15.695681 -15.715172\n",
      "15339   -2.504392  -2.239562\n",
      "95660   -6.478290  -6.361631\n",
      "207100  -5.958483  -5.657641\n",
      "123299 -12.008838 -13.275680\n",
      "138880  -5.303150  -5.296482\n",
      "837    -19.956539 -21.082424\n",
      "164228  -9.663987 -10.003082\n",
      "78980  -17.750691 -18.135517\n"
     ]
    }
   ],
   "source": [
    "print('extreme Gradient Boosting Regression')\n",
    "r2= r2_score(y_test, y_pred)\n",
    "print(\"R2_score\", r2)\n",
    "mse= mean_squared_error(y_test, y_pred)\n",
    "print(\"MSE\", mse)\n",
    "# accuracies = cross_val_score(estimator = xgb_regression, X = x_train, y = y_train)\n",
    "# print(\"Accuracies mean \",accuracies.mean())\n",
    "# print(\"Accuracies standard \",accuracies.std())\n",
    "set_y = pd.DataFrame({'y_test' : y_test, 'y_pred' : y_pred})\n",
    "print(set_y.sample(10))"
   ]
  },
  {
   "cell_type": "code",
   "execution_count": 61,
   "metadata": {},
   "outputs": [],
   "source": [
    "from sklearn.model_selection import GridSearchCV\n",
    "# Create the parameter grid based on the results of random search \n",
    "param_grid = {\n",
    "    'bootstrap': [True],\n",
    "    'max_depth': [80, 90, 100, 110],\n",
    "    'max_features': [2, 3],\n",
    "    # 'min_samples_leaf': [3, 4, 5],\n",
    "    # 'min_samples_split': [8, 10, 12],\n",
    "    'n_estimators': [100, 200, 300, 1000]\n",
    "}"
   ]
  },
  {
   "cell_type": "code",
   "execution_count": 62,
   "metadata": {},
   "outputs": [
    {
     "name": "stdout",
     "output_type": "stream",
     "text": [
      "Fitting 3 folds for each of 32 candidates, totalling 96 fits\n",
      "[CV] END bootstrap=True, max_depth=80, max_features=2, n_estimators=100; total time=  20.0s\n",
      "[CV] END bootstrap=True, max_depth=80, max_features=2, n_estimators=100; total time=  19.8s\n",
      "[CV] END bootstrap=True, max_depth=80, max_features=2, n_estimators=100; total time=  19.9s\n",
      "[CV] END bootstrap=True, max_depth=80, max_features=2, n_estimators=200; total time=  40.8s\n",
      "[CV] END bootstrap=True, max_depth=80, max_features=2, n_estimators=200; total time=  39.8s\n",
      "[CV] END bootstrap=True, max_depth=80, max_features=2, n_estimators=200; total time=  40.4s\n",
      "[CV] END bootstrap=True, max_depth=80, max_features=2, n_estimators=300; total time= 1.0min\n",
      "[CV] END bootstrap=True, max_depth=80, max_features=2, n_estimators=300; total time= 1.0min\n",
      "[CV] END bootstrap=True, max_depth=80, max_features=2, n_estimators=300; total time= 1.0min\n",
      "[CV] END bootstrap=True, max_depth=80, max_features=2, n_estimators=1000; total time=22.7min\n",
      "[CV] END bootstrap=True, max_depth=80, max_features=2, n_estimators=1000; total time=14.3min\n",
      "[CV] END bootstrap=True, max_depth=80, max_features=2, n_estimators=1000; total time=14.3min\n",
      "[CV] END bootstrap=True, max_depth=80, max_features=3, n_estimators=100; total time=  26.3s\n",
      "[CV] END bootstrap=True, max_depth=80, max_features=3, n_estimators=100; total time=  24.2s\n",
      "[CV] END bootstrap=True, max_depth=80, max_features=3, n_estimators=100; total time=  24.5s\n",
      "[CV] END bootstrap=True, max_depth=80, max_features=3, n_estimators=200; total time=  49.0s\n",
      "[CV] END bootstrap=True, max_depth=80, max_features=3, n_estimators=200; total time=  48.4s\n",
      "[CV] END bootstrap=True, max_depth=80, max_features=3, n_estimators=200; total time=  48.8s\n",
      "[CV] END bootstrap=True, max_depth=80, max_features=3, n_estimators=300; total time= 1.2min\n",
      "[CV] END bootstrap=True, max_depth=80, max_features=3, n_estimators=300; total time= 1.2min\n",
      "[CV] END bootstrap=True, max_depth=80, max_features=3, n_estimators=300; total time= 1.2min\n",
      "[CV] END bootstrap=True, max_depth=80, max_features=3, n_estimators=1000; total time=15.3min\n",
      "[CV] END bootstrap=True, max_depth=80, max_features=3, n_estimators=1000; total time=15.4min\n",
      "[CV] END bootstrap=True, max_depth=80, max_features=3, n_estimators=1000; total time=14.5min\n",
      "[CV] END bootstrap=True, max_depth=90, max_features=2, n_estimators=100; total time=  22.7s\n",
      "[CV] END bootstrap=True, max_depth=90, max_features=2, n_estimators=100; total time=  20.5s\n",
      "[CV] END bootstrap=True, max_depth=90, max_features=2, n_estimators=100; total time=  20.2s\n",
      "[CV] END bootstrap=True, max_depth=90, max_features=2, n_estimators=200; total time=  40.6s\n",
      "[CV] END bootstrap=True, max_depth=90, max_features=2, n_estimators=200; total time=  40.6s\n",
      "[CV] END bootstrap=True, max_depth=90, max_features=2, n_estimators=200; total time=  40.0s\n",
      "[CV] END bootstrap=True, max_depth=90, max_features=2, n_estimators=300; total time= 1.0min\n",
      "[CV] END bootstrap=True, max_depth=90, max_features=2, n_estimators=300; total time= 1.0min\n",
      "[CV] END bootstrap=True, max_depth=90, max_features=2, n_estimators=300; total time= 1.0min\n",
      "[CV] END bootstrap=True, max_depth=90, max_features=2, n_estimators=1000; total time=16.9min\n",
      "[CV] END bootstrap=True, max_depth=90, max_features=2, n_estimators=1000; total time=14.0min\n",
      "[CV] END bootstrap=True, max_depth=90, max_features=2, n_estimators=1000; total time=14.9min\n",
      "[CV] END bootstrap=True, max_depth=90, max_features=3, n_estimators=100; total time=  26.9s\n",
      "[CV] END bootstrap=True, max_depth=90, max_features=3, n_estimators=100; total time=  24.3s\n",
      "[CV] END bootstrap=True, max_depth=90, max_features=3, n_estimators=100; total time=  24.1s\n",
      "[CV] END bootstrap=True, max_depth=90, max_features=3, n_estimators=200; total time=  49.2s\n",
      "[CV] END bootstrap=True, max_depth=90, max_features=3, n_estimators=200; total time=  48.7s\n",
      "[CV] END bootstrap=True, max_depth=90, max_features=3, n_estimators=200; total time=  49.5s\n",
      "[CV] END bootstrap=True, max_depth=90, max_features=3, n_estimators=300; total time= 1.2min\n",
      "[CV] END bootstrap=True, max_depth=90, max_features=3, n_estimators=300; total time= 1.2min\n",
      "[CV] END bootstrap=True, max_depth=90, max_features=3, n_estimators=300; total time= 1.2min\n",
      "[CV] END bootstrap=True, max_depth=90, max_features=3, n_estimators=1000; total time=13.0min\n",
      "[CV] END bootstrap=True, max_depth=90, max_features=3, n_estimators=1000; total time=13.7min\n",
      "[CV] END bootstrap=True, max_depth=90, max_features=3, n_estimators=1000; total time=12.8min\n",
      "[CV] END bootstrap=True, max_depth=100, max_features=2, n_estimators=100; total time=  23.9s\n",
      "[CV] END bootstrap=True, max_depth=100, max_features=2, n_estimators=100; total time=  20.7s\n",
      "[CV] END bootstrap=True, max_depth=100, max_features=2, n_estimators=100; total time=  20.7s\n",
      "[CV] END bootstrap=True, max_depth=100, max_features=2, n_estimators=200; total time=  41.0s\n",
      "[CV] END bootstrap=True, max_depth=100, max_features=2, n_estimators=200; total time=  40.8s\n",
      "[CV] END bootstrap=True, max_depth=100, max_features=2, n_estimators=200; total time=  40.5s\n",
      "[CV] END bootstrap=True, max_depth=100, max_features=2, n_estimators=300; total time= 1.0min\n",
      "[CV] END bootstrap=True, max_depth=100, max_features=2, n_estimators=300; total time= 1.0min\n",
      "[CV] END bootstrap=True, max_depth=100, max_features=2, n_estimators=300; total time= 1.0min\n",
      "[CV] END bootstrap=True, max_depth=100, max_features=2, n_estimators=1000; total time=12.9min\n",
      "[CV] END bootstrap=True, max_depth=100, max_features=2, n_estimators=1000; total time=13.7min\n",
      "[CV] END bootstrap=True, max_depth=100, max_features=2, n_estimators=1000; total time=13.9min\n",
      "[CV] END bootstrap=True, max_depth=100, max_features=3, n_estimators=100; total time=  27.1s\n",
      "[CV] END bootstrap=True, max_depth=100, max_features=3, n_estimators=100; total time=  24.2s\n",
      "[CV] END bootstrap=True, max_depth=100, max_features=3, n_estimators=100; total time=  24.3s\n",
      "[CV] END bootstrap=True, max_depth=100, max_features=3, n_estimators=200; total time=  48.5s\n",
      "[CV] END bootstrap=True, max_depth=100, max_features=3, n_estimators=200; total time=  48.1s\n",
      "[CV] END bootstrap=True, max_depth=100, max_features=3, n_estimators=200; total time=  48.4s\n",
      "[CV] END bootstrap=True, max_depth=100, max_features=3, n_estimators=300; total time= 1.2min\n",
      "[CV] END bootstrap=True, max_depth=100, max_features=3, n_estimators=300; total time= 1.2min\n",
      "[CV] END bootstrap=True, max_depth=100, max_features=3, n_estimators=300; total time= 1.2min\n",
      "[CV] END bootstrap=True, max_depth=100, max_features=3, n_estimators=1000; total time=12.2min\n",
      "[CV] END bootstrap=True, max_depth=100, max_features=3, n_estimators=1000; total time=13.9min\n",
      "[CV] END bootstrap=True, max_depth=100, max_features=3, n_estimators=1000; total time=14.3min\n",
      "[CV] END bootstrap=True, max_depth=110, max_features=2, n_estimators=100; total time=  23.7s\n",
      "[CV] END bootstrap=True, max_depth=110, max_features=2, n_estimators=100; total time=  20.3s\n",
      "[CV] END bootstrap=True, max_depth=110, max_features=2, n_estimators=100; total time=  20.5s\n",
      "[CV] END bootstrap=True, max_depth=110, max_features=2, n_estimators=200; total time=  41.2s\n",
      "[CV] END bootstrap=True, max_depth=110, max_features=2, n_estimators=200; total time=  40.4s\n",
      "[CV] END bootstrap=True, max_depth=110, max_features=2, n_estimators=200; total time=  40.2s\n",
      "[CV] END bootstrap=True, max_depth=110, max_features=2, n_estimators=300; total time= 1.0min\n",
      "[CV] END bootstrap=True, max_depth=110, max_features=2, n_estimators=300; total time= 1.0min\n",
      "[CV] END bootstrap=True, max_depth=110, max_features=2, n_estimators=300; total time=  59.9s\n",
      "[CV] END bootstrap=True, max_depth=110, max_features=2, n_estimators=1000; total time=12.9min\n",
      "[CV] END bootstrap=True, max_depth=110, max_features=2, n_estimators=1000; total time=12.5min\n",
      "[CV] END bootstrap=True, max_depth=110, max_features=2, n_estimators=1000; total time=16.3min\n",
      "[CV] END bootstrap=True, max_depth=110, max_features=3, n_estimators=100; total time=  29.4s\n",
      "[CV] END bootstrap=True, max_depth=110, max_features=3, n_estimators=100; total time=  24.4s\n",
      "[CV] END bootstrap=True, max_depth=110, max_features=3, n_estimators=100; total time=  24.2s\n",
      "[CV] END bootstrap=True, max_depth=110, max_features=3, n_estimators=200; total time=  48.8s\n",
      "[CV] END bootstrap=True, max_depth=110, max_features=3, n_estimators=200; total time=  48.8s\n",
      "[CV] END bootstrap=True, max_depth=110, max_features=3, n_estimators=200; total time=  48.1s\n",
      "[CV] END bootstrap=True, max_depth=110, max_features=3, n_estimators=300; total time= 1.2min\n",
      "[CV] END bootstrap=True, max_depth=110, max_features=3, n_estimators=300; total time= 1.2min\n",
      "[CV] END bootstrap=True, max_depth=110, max_features=3, n_estimators=300; total time= 1.2min\n",
      "[CV] END bootstrap=True, max_depth=110, max_features=3, n_estimators=1000; total time=13.1min\n",
      "[CV] END bootstrap=True, max_depth=110, max_features=3, n_estimators=1000; total time=13.4min\n",
      "[CV] END bootstrap=True, max_depth=110, max_features=3, n_estimators=1000; total time=14.3min\n"
     ]
    },
    {
     "data": {
      "text/html": [
       "<style>#sk-container-id-10 {color: black;background-color: white;}#sk-container-id-10 pre{padding: 0;}#sk-container-id-10 div.sk-toggleable {background-color: white;}#sk-container-id-10 label.sk-toggleable__label {cursor: pointer;display: block;width: 100%;margin-bottom: 0;padding: 0.3em;box-sizing: border-box;text-align: center;}#sk-container-id-10 label.sk-toggleable__label-arrow:before {content: \"▸\";float: left;margin-right: 0.25em;color: #696969;}#sk-container-id-10 label.sk-toggleable__label-arrow:hover:before {color: black;}#sk-container-id-10 div.sk-estimator:hover label.sk-toggleable__label-arrow:before {color: black;}#sk-container-id-10 div.sk-toggleable__content {max-height: 0;max-width: 0;overflow: hidden;text-align: left;background-color: #f0f8ff;}#sk-container-id-10 div.sk-toggleable__content pre {margin: 0.2em;color: black;border-radius: 0.25em;background-color: #f0f8ff;}#sk-container-id-10 input.sk-toggleable__control:checked~div.sk-toggleable__content {max-height: 200px;max-width: 100%;overflow: auto;}#sk-container-id-10 input.sk-toggleable__control:checked~label.sk-toggleable__label-arrow:before {content: \"▾\";}#sk-container-id-10 div.sk-estimator input.sk-toggleable__control:checked~label.sk-toggleable__label {background-color: #d4ebff;}#sk-container-id-10 div.sk-label input.sk-toggleable__control:checked~label.sk-toggleable__label {background-color: #d4ebff;}#sk-container-id-10 input.sk-hidden--visually {border: 0;clip: rect(1px 1px 1px 1px);clip: rect(1px, 1px, 1px, 1px);height: 1px;margin: -1px;overflow: hidden;padding: 0;position: absolute;width: 1px;}#sk-container-id-10 div.sk-estimator {font-family: monospace;background-color: #f0f8ff;border: 1px dotted black;border-radius: 0.25em;box-sizing: border-box;margin-bottom: 0.5em;}#sk-container-id-10 div.sk-estimator:hover {background-color: #d4ebff;}#sk-container-id-10 div.sk-parallel-item::after {content: \"\";width: 100%;border-bottom: 1px solid gray;flex-grow: 1;}#sk-container-id-10 div.sk-label:hover label.sk-toggleable__label {background-color: #d4ebff;}#sk-container-id-10 div.sk-serial::before {content: \"\";position: absolute;border-left: 1px solid gray;box-sizing: border-box;top: 0;bottom: 0;left: 50%;z-index: 0;}#sk-container-id-10 div.sk-serial {display: flex;flex-direction: column;align-items: center;background-color: white;padding-right: 0.2em;padding-left: 0.2em;position: relative;}#sk-container-id-10 div.sk-item {position: relative;z-index: 1;}#sk-container-id-10 div.sk-parallel {display: flex;align-items: stretch;justify-content: center;background-color: white;position: relative;}#sk-container-id-10 div.sk-item::before, #sk-container-id-10 div.sk-parallel-item::before {content: \"\";position: absolute;border-left: 1px solid gray;box-sizing: border-box;top: 0;bottom: 0;left: 50%;z-index: -1;}#sk-container-id-10 div.sk-parallel-item {display: flex;flex-direction: column;z-index: 1;position: relative;background-color: white;}#sk-container-id-10 div.sk-parallel-item:first-child::after {align-self: flex-end;width: 50%;}#sk-container-id-10 div.sk-parallel-item:last-child::after {align-self: flex-start;width: 50%;}#sk-container-id-10 div.sk-parallel-item:only-child::after {width: 0;}#sk-container-id-10 div.sk-dashed-wrapped {border: 1px dashed gray;margin: 0 0.4em 0.5em 0.4em;box-sizing: border-box;padding-bottom: 0.4em;background-color: white;}#sk-container-id-10 div.sk-label label {font-family: monospace;font-weight: bold;display: inline-block;line-height: 1.2em;}#sk-container-id-10 div.sk-label-container {text-align: center;}#sk-container-id-10 div.sk-container {/* jupyter's `normalize.less` sets `[hidden] { display: none; }` but bootstrap.min.css set `[hidden] { display: none !important; }` so we also need the `!important` here to be able to override the default hidden behavior on the sphinx rendered scikit-learn.org. See: https://github.com/scikit-learn/scikit-learn/issues/21755 */display: inline-block !important;position: relative;}#sk-container-id-10 div.sk-text-repr-fallback {display: none;}</style><div id=\"sk-container-id-10\" class=\"sk-top-container\"><div class=\"sk-text-repr-fallback\"><pre>GridSearchCV(cv=3, estimator=RandomForestRegressor(),\n",
       "             param_grid={&#x27;bootstrap&#x27;: [True], &#x27;max_depth&#x27;: [80, 90, 100, 110],\n",
       "                         &#x27;max_features&#x27;: [2, 3],\n",
       "                         &#x27;n_estimators&#x27;: [100, 200, 300, 1000]},\n",
       "             verbose=2)</pre><b>In a Jupyter environment, please rerun this cell to show the HTML representation or trust the notebook. <br />On GitHub, the HTML representation is unable to render, please try loading this page with nbviewer.org.</b></div><div class=\"sk-container\" hidden><div class=\"sk-item sk-dashed-wrapped\"><div class=\"sk-label-container\"><div class=\"sk-label sk-toggleable\"><input class=\"sk-toggleable__control sk-hidden--visually\" id=\"sk-estimator-id-10\" type=\"checkbox\" ><label for=\"sk-estimator-id-10\" class=\"sk-toggleable__label sk-toggleable__label-arrow\">GridSearchCV</label><div class=\"sk-toggleable__content\"><pre>GridSearchCV(cv=3, estimator=RandomForestRegressor(),\n",
       "             param_grid={&#x27;bootstrap&#x27;: [True], &#x27;max_depth&#x27;: [80, 90, 100, 110],\n",
       "                         &#x27;max_features&#x27;: [2, 3],\n",
       "                         &#x27;n_estimators&#x27;: [100, 200, 300, 1000]},\n",
       "             verbose=2)</pre></div></div></div><div class=\"sk-parallel\"><div class=\"sk-parallel-item\"><div class=\"sk-item\"><div class=\"sk-label-container\"><div class=\"sk-label sk-toggleable\"><input class=\"sk-toggleable__control sk-hidden--visually\" id=\"sk-estimator-id-11\" type=\"checkbox\" ><label for=\"sk-estimator-id-11\" class=\"sk-toggleable__label sk-toggleable__label-arrow\">estimator: RandomForestRegressor</label><div class=\"sk-toggleable__content\"><pre>RandomForestRegressor()</pre></div></div></div><div class=\"sk-serial\"><div class=\"sk-item\"><div class=\"sk-estimator sk-toggleable\"><input class=\"sk-toggleable__control sk-hidden--visually\" id=\"sk-estimator-id-12\" type=\"checkbox\" ><label for=\"sk-estimator-id-12\" class=\"sk-toggleable__label sk-toggleable__label-arrow\">RandomForestRegressor</label><div class=\"sk-toggleable__content\"><pre>RandomForestRegressor()</pre></div></div></div></div></div></div></div></div></div></div>"
      ],
      "text/plain": [
       "GridSearchCV(cv=3, estimator=RandomForestRegressor(),\n",
       "             param_grid={'bootstrap': [True], 'max_depth': [80, 90, 100, 110],\n",
       "                         'max_features': [2, 3],\n",
       "                         'n_estimators': [100, 200, 300, 1000]},\n",
       "             verbose=2)"
      ]
     },
     "execution_count": 62,
     "metadata": {},
     "output_type": "execute_result"
    }
   ],
   "source": [
    "from sklearn.ensemble import RandomForestRegressor\n",
    "\n",
    "# Create a based model\n",
    "rf = RandomForestRegressor()\n",
    "# Instantiate the grid search model\n",
    "grid_search = GridSearchCV(estimator = rf, param_grid = param_grid,\n",
    "                          cv = 3, verbose = 2)\n",
    "# Fit the grid search to the datas\n",
    "grid_search.fit(x_train,y_train)"
   ]
  },
  {
   "cell_type": "code",
   "execution_count": 63,
   "metadata": {
    "scrolled": false
   },
   "outputs": [
    {
     "data": {
      "text/plain": [
       "{'bootstrap': True, 'max_depth': 80, 'max_features': 2, 'n_estimators': 1000}"
      ]
     },
     "execution_count": 63,
     "metadata": {},
     "output_type": "execute_result"
    }
   ],
   "source": [
    "grid_search.best_params_"
   ]
  },
  {
   "cell_type": "code",
   "execution_count": 64,
   "metadata": {},
   "outputs": [
    {
     "data": {
      "text/html": [
       "<div>\n",
       "<style scoped>\n",
       "    .dataframe tbody tr th:only-of-type {\n",
       "        vertical-align: middle;\n",
       "    }\n",
       "\n",
       "    .dataframe tbody tr th {\n",
       "        vertical-align: top;\n",
       "    }\n",
       "\n",
       "    .dataframe thead th {\n",
       "        text-align: right;\n",
       "    }\n",
       "</style>\n",
       "<table border=\"1\" class=\"dataframe\">\n",
       "  <thead>\n",
       "    <tr style=\"text-align: right;\">\n",
       "      <th></th>\n",
       "      <th>mean_fit_time</th>\n",
       "      <th>std_fit_time</th>\n",
       "      <th>mean_score_time</th>\n",
       "      <th>std_score_time</th>\n",
       "      <th>param_bootstrap</th>\n",
       "      <th>param_max_depth</th>\n",
       "      <th>param_max_features</th>\n",
       "      <th>param_n_estimators</th>\n",
       "      <th>params</th>\n",
       "      <th>split0_test_score</th>\n",
       "      <th>split1_test_score</th>\n",
       "      <th>split2_test_score</th>\n",
       "      <th>mean_test_score</th>\n",
       "      <th>std_test_score</th>\n",
       "      <th>rank_test_score</th>\n",
       "    </tr>\n",
       "  </thead>\n",
       "  <tbody>\n",
       "    <tr>\n",
       "      <th>0</th>\n",
       "      <td>18.478439</td>\n",
       "      <td>0.051674</td>\n",
       "      <td>1.536112</td>\n",
       "      <td>0.007378</td>\n",
       "      <td>True</td>\n",
       "      <td>80</td>\n",
       "      <td>2</td>\n",
       "      <td>100</td>\n",
       "      <td>{'bootstrap': True, 'max_depth': 80, 'max_feat...</td>\n",
       "      <td>0.981858</td>\n",
       "      <td>0.981981</td>\n",
       "      <td>0.981278</td>\n",
       "      <td>0.981706</td>\n",
       "      <td>0.000307</td>\n",
       "      <td>15</td>\n",
       "    </tr>\n",
       "    <tr>\n",
       "      <th>1</th>\n",
       "      <td>37.332299</td>\n",
       "      <td>0.435606</td>\n",
       "      <td>3.082609</td>\n",
       "      <td>0.026551</td>\n",
       "      <td>True</td>\n",
       "      <td>80</td>\n",
       "      <td>2</td>\n",
       "      <td>200</td>\n",
       "      <td>{'bootstrap': True, 'max_depth': 80, 'max_feat...</td>\n",
       "      <td>0.982342</td>\n",
       "      <td>0.982491</td>\n",
       "      <td>0.981322</td>\n",
       "      <td>0.982052</td>\n",
       "      <td>0.000520</td>\n",
       "      <td>8</td>\n",
       "    </tr>\n",
       "    <tr>\n",
       "      <th>2</th>\n",
       "      <td>55.823255</td>\n",
       "      <td>0.082809</td>\n",
       "      <td>4.776392</td>\n",
       "      <td>0.068554</td>\n",
       "      <td>True</td>\n",
       "      <td>80</td>\n",
       "      <td>2</td>\n",
       "      <td>300</td>\n",
       "      <td>{'bootstrap': True, 'max_depth': 80, 'max_feat...</td>\n",
       "      <td>0.982293</td>\n",
       "      <td>0.982459</td>\n",
       "      <td>0.981478</td>\n",
       "      <td>0.982077</td>\n",
       "      <td>0.000429</td>\n",
       "      <td>7</td>\n",
       "    </tr>\n",
       "    <tr>\n",
       "      <th>3</th>\n",
       "      <td>196.388380</td>\n",
       "      <td>0.594756</td>\n",
       "      <td>829.078798</td>\n",
       "      <td>238.091417</td>\n",
       "      <td>True</td>\n",
       "      <td>80</td>\n",
       "      <td>2</td>\n",
       "      <td>1000</td>\n",
       "      <td>{'bootstrap': True, 'max_depth': 80, 'max_feat...</td>\n",
       "      <td>0.982490</td>\n",
       "      <td>0.982562</td>\n",
       "      <td>0.981515</td>\n",
       "      <td>0.982189</td>\n",
       "      <td>0.000477</td>\n",
       "      <td>1</td>\n",
       "    </tr>\n",
       "    <tr>\n",
       "      <th>4</th>\n",
       "      <td>23.504805</td>\n",
       "      <td>0.929207</td>\n",
       "      <td>1.603777</td>\n",
       "      <td>0.019532</td>\n",
       "      <td>True</td>\n",
       "      <td>80</td>\n",
       "      <td>3</td>\n",
       "      <td>100</td>\n",
       "      <td>{'bootstrap': True, 'max_depth': 80, 'max_feat...</td>\n",
       "      <td>0.981045</td>\n",
       "      <td>0.981702</td>\n",
       "      <td>0.980138</td>\n",
       "      <td>0.980962</td>\n",
       "      <td>0.000641</td>\n",
       "      <td>31</td>\n",
       "    </tr>\n",
       "    <tr>\n",
       "      <th>5</th>\n",
       "      <td>45.713823</td>\n",
       "      <td>0.216966</td>\n",
       "      <td>3.150269</td>\n",
       "      <td>0.058871</td>\n",
       "      <td>True</td>\n",
       "      <td>80</td>\n",
       "      <td>3</td>\n",
       "      <td>200</td>\n",
       "      <td>{'bootstrap': True, 'max_depth': 80, 'max_feat...</td>\n",
       "      <td>0.981150</td>\n",
       "      <td>0.981738</td>\n",
       "      <td>0.980233</td>\n",
       "      <td>0.981040</td>\n",
       "      <td>0.000619</td>\n",
       "      <td>28</td>\n",
       "    </tr>\n",
       "    <tr>\n",
       "      <th>6</th>\n",
       "      <td>67.363243</td>\n",
       "      <td>0.412162</td>\n",
       "      <td>4.754372</td>\n",
       "      <td>0.030012</td>\n",
       "      <td>True</td>\n",
       "      <td>80</td>\n",
       "      <td>3</td>\n",
       "      <td>300</td>\n",
       "      <td>{'bootstrap': True, 'max_depth': 80, 'max_feat...</td>\n",
       "      <td>0.981174</td>\n",
       "      <td>0.981728</td>\n",
       "      <td>0.980330</td>\n",
       "      <td>0.981077</td>\n",
       "      <td>0.000575</td>\n",
       "      <td>26</td>\n",
       "    </tr>\n",
       "    <tr>\n",
       "      <th>7</th>\n",
       "      <td>238.339502</td>\n",
       "      <td>3.299726</td>\n",
       "      <td>666.063478</td>\n",
       "      <td>21.978166</td>\n",
       "      <td>True</td>\n",
       "      <td>80</td>\n",
       "      <td>3</td>\n",
       "      <td>1000</td>\n",
       "      <td>{'bootstrap': True, 'max_depth': 80, 'max_feat...</td>\n",
       "      <td>0.981286</td>\n",
       "      <td>0.981850</td>\n",
       "      <td>0.980340</td>\n",
       "      <td>0.981159</td>\n",
       "      <td>0.000623</td>\n",
       "      <td>19</td>\n",
       "    </tr>\n",
       "    <tr>\n",
       "      <th>8</th>\n",
       "      <td>19.676179</td>\n",
       "      <td>1.089566</td>\n",
       "      <td>1.587533</td>\n",
       "      <td>0.031380</td>\n",
       "      <td>True</td>\n",
       "      <td>90</td>\n",
       "      <td>2</td>\n",
       "      <td>100</td>\n",
       "      <td>{'bootstrap': True, 'max_depth': 90, 'max_feat...</td>\n",
       "      <td>0.982102</td>\n",
       "      <td>0.982158</td>\n",
       "      <td>0.981147</td>\n",
       "      <td>0.981802</td>\n",
       "      <td>0.000464</td>\n",
       "      <td>13</td>\n",
       "    </tr>\n",
       "    <tr>\n",
       "      <th>9</th>\n",
       "      <td>37.275020</td>\n",
       "      <td>0.266423</td>\n",
       "      <td>3.244143</td>\n",
       "      <td>0.036739</td>\n",
       "      <td>True</td>\n",
       "      <td>90</td>\n",
       "      <td>2</td>\n",
       "      <td>200</td>\n",
       "      <td>{'bootstrap': True, 'max_depth': 90, 'max_feat...</td>\n",
       "      <td>0.982248</td>\n",
       "      <td>0.982411</td>\n",
       "      <td>0.981331</td>\n",
       "      <td>0.981997</td>\n",
       "      <td>0.000475</td>\n",
       "      <td>11</td>\n",
       "    </tr>\n",
       "    <tr>\n",
       "      <th>10</th>\n",
       "      <td>56.051307</td>\n",
       "      <td>0.025361</td>\n",
       "      <td>4.774931</td>\n",
       "      <td>0.064199</td>\n",
       "      <td>True</td>\n",
       "      <td>90</td>\n",
       "      <td>2</td>\n",
       "      <td>300</td>\n",
       "      <td>{'bootstrap': True, 'max_depth': 90, 'max_feat...</td>\n",
       "      <td>0.982437</td>\n",
       "      <td>0.982443</td>\n",
       "      <td>0.981405</td>\n",
       "      <td>0.982095</td>\n",
       "      <td>0.000488</td>\n",
       "      <td>5</td>\n",
       "    </tr>\n",
       "    <tr>\n",
       "      <th>11</th>\n",
       "      <td>196.160836</td>\n",
       "      <td>1.600465</td>\n",
       "      <td>719.279687</td>\n",
       "      <td>73.476971</td>\n",
       "      <td>True</td>\n",
       "      <td>90</td>\n",
       "      <td>2</td>\n",
       "      <td>1000</td>\n",
       "      <td>{'bootstrap': True, 'max_depth': 90, 'max_feat...</td>\n",
       "      <td>0.982395</td>\n",
       "      <td>0.982574</td>\n",
       "      <td>0.981522</td>\n",
       "      <td>0.982164</td>\n",
       "      <td>0.000460</td>\n",
       "      <td>3</td>\n",
       "    </tr>\n",
       "    <tr>\n",
       "      <th>12</th>\n",
       "      <td>23.603095</td>\n",
       "      <td>1.218383</td>\n",
       "      <td>1.619355</td>\n",
       "      <td>0.072362</td>\n",
       "      <td>True</td>\n",
       "      <td>90</td>\n",
       "      <td>3</td>\n",
       "      <td>100</td>\n",
       "      <td>{'bootstrap': True, 'max_depth': 90, 'max_feat...</td>\n",
       "      <td>0.980906</td>\n",
       "      <td>0.981752</td>\n",
       "      <td>0.980069</td>\n",
       "      <td>0.980909</td>\n",
       "      <td>0.000687</td>\n",
       "      <td>32</td>\n",
       "    </tr>\n",
       "    <tr>\n",
       "      <th>13</th>\n",
       "      <td>45.996721</td>\n",
       "      <td>0.310471</td>\n",
       "      <td>3.249241</td>\n",
       "      <td>0.071016</td>\n",
       "      <td>True</td>\n",
       "      <td>90</td>\n",
       "      <td>3</td>\n",
       "      <td>200</td>\n",
       "      <td>{'bootstrap': True, 'max_depth': 90, 'max_feat...</td>\n",
       "      <td>0.981159</td>\n",
       "      <td>0.981741</td>\n",
       "      <td>0.980284</td>\n",
       "      <td>0.981061</td>\n",
       "      <td>0.000598</td>\n",
       "      <td>27</td>\n",
       "    </tr>\n",
       "    <tr>\n",
       "      <th>14</th>\n",
       "      <td>68.323532</td>\n",
       "      <td>0.265312</td>\n",
       "      <td>4.660361</td>\n",
       "      <td>0.048288</td>\n",
       "      <td>True</td>\n",
       "      <td>90</td>\n",
       "      <td>3</td>\n",
       "      <td>300</td>\n",
       "      <td>{'bootstrap': True, 'max_depth': 90, 'max_feat...</td>\n",
       "      <td>0.981180</td>\n",
       "      <td>0.981787</td>\n",
       "      <td>0.980338</td>\n",
       "      <td>0.981102</td>\n",
       "      <td>0.000594</td>\n",
       "      <td>24</td>\n",
       "    </tr>\n",
       "    <tr>\n",
       "      <th>15</th>\n",
       "      <td>234.660131</td>\n",
       "      <td>2.063431</td>\n",
       "      <td>555.714646</td>\n",
       "      <td>22.781147</td>\n",
       "      <td>True</td>\n",
       "      <td>90</td>\n",
       "      <td>3</td>\n",
       "      <td>1000</td>\n",
       "      <td>{'bootstrap': True, 'max_depth': 90, 'max_feat...</td>\n",
       "      <td>0.981307</td>\n",
       "      <td>0.981898</td>\n",
       "      <td>0.980408</td>\n",
       "      <td>0.981204</td>\n",
       "      <td>0.000612</td>\n",
       "      <td>17</td>\n",
       "    </tr>\n",
       "    <tr>\n",
       "      <th>16</th>\n",
       "      <td>20.215130</td>\n",
       "      <td>1.464711</td>\n",
       "      <td>1.629858</td>\n",
       "      <td>0.051589</td>\n",
       "      <td>True</td>\n",
       "      <td>100</td>\n",
       "      <td>2</td>\n",
       "      <td>100</td>\n",
       "      <td>{'bootstrap': True, 'max_depth': 100, 'max_fea...</td>\n",
       "      <td>0.981997</td>\n",
       "      <td>0.982139</td>\n",
       "      <td>0.981151</td>\n",
       "      <td>0.981762</td>\n",
       "      <td>0.000436</td>\n",
       "      <td>14</td>\n",
       "    </tr>\n",
       "    <tr>\n",
       "      <th>17</th>\n",
       "      <td>37.722751</td>\n",
       "      <td>0.200072</td>\n",
       "      <td>3.181553</td>\n",
       "      <td>0.026542</td>\n",
       "      <td>True</td>\n",
       "      <td>100</td>\n",
       "      <td>2</td>\n",
       "      <td>200</td>\n",
       "      <td>{'bootstrap': True, 'max_depth': 100, 'max_fea...</td>\n",
       "      <td>0.982275</td>\n",
       "      <td>0.982367</td>\n",
       "      <td>0.981367</td>\n",
       "      <td>0.982003</td>\n",
       "      <td>0.000452</td>\n",
       "      <td>10</td>\n",
       "    </tr>\n",
       "    <tr>\n",
       "      <th>18</th>\n",
       "      <td>55.985206</td>\n",
       "      <td>0.322266</td>\n",
       "      <td>4.624899</td>\n",
       "      <td>0.013978</td>\n",
       "      <td>True</td>\n",
       "      <td>100</td>\n",
       "      <td>2</td>\n",
       "      <td>300</td>\n",
       "      <td>{'bootstrap': True, 'max_depth': 100, 'max_fea...</td>\n",
       "      <td>0.982326</td>\n",
       "      <td>0.982475</td>\n",
       "      <td>0.981447</td>\n",
       "      <td>0.982083</td>\n",
       "      <td>0.000454</td>\n",
       "      <td>6</td>\n",
       "    </tr>\n",
       "    <tr>\n",
       "      <th>19</th>\n",
       "      <td>197.527295</td>\n",
       "      <td>2.992714</td>\n",
       "      <td>613.138165</td>\n",
       "      <td>26.284144</td>\n",
       "      <td>True</td>\n",
       "      <td>100</td>\n",
       "      <td>2</td>\n",
       "      <td>1000</td>\n",
       "      <td>{'bootstrap': True, 'max_depth': 100, 'max_fea...</td>\n",
       "      <td>0.982463</td>\n",
       "      <td>0.982530</td>\n",
       "      <td>0.981563</td>\n",
       "      <td>0.982185</td>\n",
       "      <td>0.000441</td>\n",
       "      <td>2</td>\n",
       "    </tr>\n",
       "    <tr>\n",
       "      <th>20</th>\n",
       "      <td>23.715394</td>\n",
       "      <td>1.313288</td>\n",
       "      <td>1.624657</td>\n",
       "      <td>0.033731</td>\n",
       "      <td>True</td>\n",
       "      <td>100</td>\n",
       "      <td>3</td>\n",
       "      <td>100</td>\n",
       "      <td>{'bootstrap': True, 'max_depth': 100, 'max_fea...</td>\n",
       "      <td>0.981195</td>\n",
       "      <td>0.981585</td>\n",
       "      <td>0.980112</td>\n",
       "      <td>0.980964</td>\n",
       "      <td>0.000623</td>\n",
       "      <td>30</td>\n",
       "    </tr>\n",
       "    <tr>\n",
       "      <th>21</th>\n",
       "      <td>45.276755</td>\n",
       "      <td>0.136251</td>\n",
       "      <td>3.134716</td>\n",
       "      <td>0.048339</td>\n",
       "      <td>True</td>\n",
       "      <td>100</td>\n",
       "      <td>3</td>\n",
       "      <td>200</td>\n",
       "      <td>{'bootstrap': True, 'max_depth': 100, 'max_fea...</td>\n",
       "      <td>0.981211</td>\n",
       "      <td>0.981828</td>\n",
       "      <td>0.980276</td>\n",
       "      <td>0.981105</td>\n",
       "      <td>0.000638</td>\n",
       "      <td>23</td>\n",
       "    </tr>\n",
       "    <tr>\n",
       "      <th>22</th>\n",
       "      <td>67.905802</td>\n",
       "      <td>0.590277</td>\n",
       "      <td>4.667194</td>\n",
       "      <td>0.020027</td>\n",
       "      <td>True</td>\n",
       "      <td>100</td>\n",
       "      <td>3</td>\n",
       "      <td>300</td>\n",
       "      <td>{'bootstrap': True, 'max_depth': 100, 'max_fea...</td>\n",
       "      <td>0.981241</td>\n",
       "      <td>0.981849</td>\n",
       "      <td>0.980294</td>\n",
       "      <td>0.981128</td>\n",
       "      <td>0.000640</td>\n",
       "      <td>22</td>\n",
       "    </tr>\n",
       "    <tr>\n",
       "      <th>23</th>\n",
       "      <td>236.004879</td>\n",
       "      <td>4.199603</td>\n",
       "      <td>573.058667</td>\n",
       "      <td>53.258349</td>\n",
       "      <td>True</td>\n",
       "      <td>100</td>\n",
       "      <td>3</td>\n",
       "      <td>1000</td>\n",
       "      <td>{'bootstrap': True, 'max_depth': 100, 'max_fea...</td>\n",
       "      <td>0.981277</td>\n",
       "      <td>0.981855</td>\n",
       "      <td>0.980351</td>\n",
       "      <td>0.981161</td>\n",
       "      <td>0.000620</td>\n",
       "      <td>18</td>\n",
       "    </tr>\n",
       "    <tr>\n",
       "      <th>24</th>\n",
       "      <td>19.964098</td>\n",
       "      <td>1.537681</td>\n",
       "      <td>1.624576</td>\n",
       "      <td>0.038210</td>\n",
       "      <td>True</td>\n",
       "      <td>110</td>\n",
       "      <td>2</td>\n",
       "      <td>100</td>\n",
       "      <td>{'bootstrap': True, 'max_depth': 110, 'max_fea...</td>\n",
       "      <td>0.981807</td>\n",
       "      <td>0.982203</td>\n",
       "      <td>0.981086</td>\n",
       "      <td>0.981699</td>\n",
       "      <td>0.000463</td>\n",
       "      <td>16</td>\n",
       "    </tr>\n",
       "    <tr>\n",
       "      <th>25</th>\n",
       "      <td>37.562823</td>\n",
       "      <td>0.391619</td>\n",
       "      <td>3.155562</td>\n",
       "      <td>0.055670</td>\n",
       "      <td>True</td>\n",
       "      <td>110</td>\n",
       "      <td>2</td>\n",
       "      <td>200</td>\n",
       "      <td>{'bootstrap': True, 'max_depth': 110, 'max_fea...</td>\n",
       "      <td>0.982135</td>\n",
       "      <td>0.982395</td>\n",
       "      <td>0.981334</td>\n",
       "      <td>0.981955</td>\n",
       "      <td>0.000452</td>\n",
       "      <td>12</td>\n",
       "    </tr>\n",
       "    <tr>\n",
       "      <th>26</th>\n",
       "      <td>55.789062</td>\n",
       "      <td>0.400315</td>\n",
       "      <td>4.701991</td>\n",
       "      <td>0.022051</td>\n",
       "      <td>True</td>\n",
       "      <td>110</td>\n",
       "      <td>2</td>\n",
       "      <td>300</td>\n",
       "      <td>{'bootstrap': True, 'max_depth': 110, 'max_fea...</td>\n",
       "      <td>0.982282</td>\n",
       "      <td>0.982409</td>\n",
       "      <td>0.981430</td>\n",
       "      <td>0.982040</td>\n",
       "      <td>0.000435</td>\n",
       "      <td>9</td>\n",
       "    </tr>\n",
       "    <tr>\n",
       "      <th>27</th>\n",
       "      <td>198.836170</td>\n",
       "      <td>5.207339</td>\n",
       "      <td>632.917453</td>\n",
       "      <td>102.469186</td>\n",
       "      <td>True</td>\n",
       "      <td>110</td>\n",
       "      <td>2</td>\n",
       "      <td>1000</td>\n",
       "      <td>{'bootstrap': True, 'max_depth': 110, 'max_fea...</td>\n",
       "      <td>0.982445</td>\n",
       "      <td>0.982524</td>\n",
       "      <td>0.981504</td>\n",
       "      <td>0.982157</td>\n",
       "      <td>0.000463</td>\n",
       "      <td>4</td>\n",
       "    </tr>\n",
       "    <tr>\n",
       "      <th>28</th>\n",
       "      <td>24.521907</td>\n",
       "      <td>2.355847</td>\n",
       "      <td>1.572578</td>\n",
       "      <td>0.048266</td>\n",
       "      <td>True</td>\n",
       "      <td>110</td>\n",
       "      <td>3</td>\n",
       "      <td>100</td>\n",
       "      <td>{'bootstrap': True, 'max_depth': 110, 'max_fea...</td>\n",
       "      <td>0.981026</td>\n",
       "      <td>0.981646</td>\n",
       "      <td>0.980227</td>\n",
       "      <td>0.980967</td>\n",
       "      <td>0.000581</td>\n",
       "      <td>29</td>\n",
       "    </tr>\n",
       "    <tr>\n",
       "      <th>29</th>\n",
       "      <td>45.520529</td>\n",
       "      <td>0.284919</td>\n",
       "      <td>3.145095</td>\n",
       "      <td>0.070251</td>\n",
       "      <td>True</td>\n",
       "      <td>110</td>\n",
       "      <td>3</td>\n",
       "      <td>200</td>\n",
       "      <td>{'bootstrap': True, 'max_depth': 110, 'max_fea...</td>\n",
       "      <td>0.981165</td>\n",
       "      <td>0.981750</td>\n",
       "      <td>0.980330</td>\n",
       "      <td>0.981082</td>\n",
       "      <td>0.000583</td>\n",
       "      <td>25</td>\n",
       "    </tr>\n",
       "    <tr>\n",
       "      <th>30</th>\n",
       "      <td>67.629970</td>\n",
       "      <td>0.106992</td>\n",
       "      <td>4.681193</td>\n",
       "      <td>0.007365</td>\n",
       "      <td>True</td>\n",
       "      <td>110</td>\n",
       "      <td>3</td>\n",
       "      <td>300</td>\n",
       "      <td>{'bootstrap': True, 'max_depth': 110, 'max_fea...</td>\n",
       "      <td>0.981233</td>\n",
       "      <td>0.981843</td>\n",
       "      <td>0.980330</td>\n",
       "      <td>0.981136</td>\n",
       "      <td>0.000622</td>\n",
       "      <td>21</td>\n",
       "    </tr>\n",
       "    <tr>\n",
       "      <th>31</th>\n",
       "      <td>236.459968</td>\n",
       "      <td>4.638479</td>\n",
       "      <td>579.346172</td>\n",
       "      <td>26.192661</td>\n",
       "      <td>True</td>\n",
       "      <td>110</td>\n",
       "      <td>3</td>\n",
       "      <td>1000</td>\n",
       "      <td>{'bootstrap': True, 'max_depth': 110, 'max_fea...</td>\n",
       "      <td>0.981257</td>\n",
       "      <td>0.981820</td>\n",
       "      <td>0.980359</td>\n",
       "      <td>0.981145</td>\n",
       "      <td>0.000601</td>\n",
       "      <td>20</td>\n",
       "    </tr>\n",
       "  </tbody>\n",
       "</table>\n",
       "</div>"
      ],
      "text/plain": [
       "    mean_fit_time  std_fit_time  mean_score_time  std_score_time  \\\n",
       "0       18.478439      0.051674         1.536112        0.007378   \n",
       "1       37.332299      0.435606         3.082609        0.026551   \n",
       "2       55.823255      0.082809         4.776392        0.068554   \n",
       "3      196.388380      0.594756       829.078798      238.091417   \n",
       "4       23.504805      0.929207         1.603777        0.019532   \n",
       "5       45.713823      0.216966         3.150269        0.058871   \n",
       "6       67.363243      0.412162         4.754372        0.030012   \n",
       "7      238.339502      3.299726       666.063478       21.978166   \n",
       "8       19.676179      1.089566         1.587533        0.031380   \n",
       "9       37.275020      0.266423         3.244143        0.036739   \n",
       "10      56.051307      0.025361         4.774931        0.064199   \n",
       "11     196.160836      1.600465       719.279687       73.476971   \n",
       "12      23.603095      1.218383         1.619355        0.072362   \n",
       "13      45.996721      0.310471         3.249241        0.071016   \n",
       "14      68.323532      0.265312         4.660361        0.048288   \n",
       "15     234.660131      2.063431       555.714646       22.781147   \n",
       "16      20.215130      1.464711         1.629858        0.051589   \n",
       "17      37.722751      0.200072         3.181553        0.026542   \n",
       "18      55.985206      0.322266         4.624899        0.013978   \n",
       "19     197.527295      2.992714       613.138165       26.284144   \n",
       "20      23.715394      1.313288         1.624657        0.033731   \n",
       "21      45.276755      0.136251         3.134716        0.048339   \n",
       "22      67.905802      0.590277         4.667194        0.020027   \n",
       "23     236.004879      4.199603       573.058667       53.258349   \n",
       "24      19.964098      1.537681         1.624576        0.038210   \n",
       "25      37.562823      0.391619         3.155562        0.055670   \n",
       "26      55.789062      0.400315         4.701991        0.022051   \n",
       "27     198.836170      5.207339       632.917453      102.469186   \n",
       "28      24.521907      2.355847         1.572578        0.048266   \n",
       "29      45.520529      0.284919         3.145095        0.070251   \n",
       "30      67.629970      0.106992         4.681193        0.007365   \n",
       "31     236.459968      4.638479       579.346172       26.192661   \n",
       "\n",
       "   param_bootstrap param_max_depth param_max_features param_n_estimators  \\\n",
       "0             True              80                  2                100   \n",
       "1             True              80                  2                200   \n",
       "2             True              80                  2                300   \n",
       "3             True              80                  2               1000   \n",
       "4             True              80                  3                100   \n",
       "5             True              80                  3                200   \n",
       "6             True              80                  3                300   \n",
       "7             True              80                  3               1000   \n",
       "8             True              90                  2                100   \n",
       "9             True              90                  2                200   \n",
       "10            True              90                  2                300   \n",
       "11            True              90                  2               1000   \n",
       "12            True              90                  3                100   \n",
       "13            True              90                  3                200   \n",
       "14            True              90                  3                300   \n",
       "15            True              90                  3               1000   \n",
       "16            True             100                  2                100   \n",
       "17            True             100                  2                200   \n",
       "18            True             100                  2                300   \n",
       "19            True             100                  2               1000   \n",
       "20            True             100                  3                100   \n",
       "21            True             100                  3                200   \n",
       "22            True             100                  3                300   \n",
       "23            True             100                  3               1000   \n",
       "24            True             110                  2                100   \n",
       "25            True             110                  2                200   \n",
       "26            True             110                  2                300   \n",
       "27            True             110                  2               1000   \n",
       "28            True             110                  3                100   \n",
       "29            True             110                  3                200   \n",
       "30            True             110                  3                300   \n",
       "31            True             110                  3               1000   \n",
       "\n",
       "                                               params  split0_test_score  \\\n",
       "0   {'bootstrap': True, 'max_depth': 80, 'max_feat...           0.981858   \n",
       "1   {'bootstrap': True, 'max_depth': 80, 'max_feat...           0.982342   \n",
       "2   {'bootstrap': True, 'max_depth': 80, 'max_feat...           0.982293   \n",
       "3   {'bootstrap': True, 'max_depth': 80, 'max_feat...           0.982490   \n",
       "4   {'bootstrap': True, 'max_depth': 80, 'max_feat...           0.981045   \n",
       "5   {'bootstrap': True, 'max_depth': 80, 'max_feat...           0.981150   \n",
       "6   {'bootstrap': True, 'max_depth': 80, 'max_feat...           0.981174   \n",
       "7   {'bootstrap': True, 'max_depth': 80, 'max_feat...           0.981286   \n",
       "8   {'bootstrap': True, 'max_depth': 90, 'max_feat...           0.982102   \n",
       "9   {'bootstrap': True, 'max_depth': 90, 'max_feat...           0.982248   \n",
       "10  {'bootstrap': True, 'max_depth': 90, 'max_feat...           0.982437   \n",
       "11  {'bootstrap': True, 'max_depth': 90, 'max_feat...           0.982395   \n",
       "12  {'bootstrap': True, 'max_depth': 90, 'max_feat...           0.980906   \n",
       "13  {'bootstrap': True, 'max_depth': 90, 'max_feat...           0.981159   \n",
       "14  {'bootstrap': True, 'max_depth': 90, 'max_feat...           0.981180   \n",
       "15  {'bootstrap': True, 'max_depth': 90, 'max_feat...           0.981307   \n",
       "16  {'bootstrap': True, 'max_depth': 100, 'max_fea...           0.981997   \n",
       "17  {'bootstrap': True, 'max_depth': 100, 'max_fea...           0.982275   \n",
       "18  {'bootstrap': True, 'max_depth': 100, 'max_fea...           0.982326   \n",
       "19  {'bootstrap': True, 'max_depth': 100, 'max_fea...           0.982463   \n",
       "20  {'bootstrap': True, 'max_depth': 100, 'max_fea...           0.981195   \n",
       "21  {'bootstrap': True, 'max_depth': 100, 'max_fea...           0.981211   \n",
       "22  {'bootstrap': True, 'max_depth': 100, 'max_fea...           0.981241   \n",
       "23  {'bootstrap': True, 'max_depth': 100, 'max_fea...           0.981277   \n",
       "24  {'bootstrap': True, 'max_depth': 110, 'max_fea...           0.981807   \n",
       "25  {'bootstrap': True, 'max_depth': 110, 'max_fea...           0.982135   \n",
       "26  {'bootstrap': True, 'max_depth': 110, 'max_fea...           0.982282   \n",
       "27  {'bootstrap': True, 'max_depth': 110, 'max_fea...           0.982445   \n",
       "28  {'bootstrap': True, 'max_depth': 110, 'max_fea...           0.981026   \n",
       "29  {'bootstrap': True, 'max_depth': 110, 'max_fea...           0.981165   \n",
       "30  {'bootstrap': True, 'max_depth': 110, 'max_fea...           0.981233   \n",
       "31  {'bootstrap': True, 'max_depth': 110, 'max_fea...           0.981257   \n",
       "\n",
       "    split1_test_score  split2_test_score  mean_test_score  std_test_score  \\\n",
       "0            0.981981           0.981278         0.981706        0.000307   \n",
       "1            0.982491           0.981322         0.982052        0.000520   \n",
       "2            0.982459           0.981478         0.982077        0.000429   \n",
       "3            0.982562           0.981515         0.982189        0.000477   \n",
       "4            0.981702           0.980138         0.980962        0.000641   \n",
       "5            0.981738           0.980233         0.981040        0.000619   \n",
       "6            0.981728           0.980330         0.981077        0.000575   \n",
       "7            0.981850           0.980340         0.981159        0.000623   \n",
       "8            0.982158           0.981147         0.981802        0.000464   \n",
       "9            0.982411           0.981331         0.981997        0.000475   \n",
       "10           0.982443           0.981405         0.982095        0.000488   \n",
       "11           0.982574           0.981522         0.982164        0.000460   \n",
       "12           0.981752           0.980069         0.980909        0.000687   \n",
       "13           0.981741           0.980284         0.981061        0.000598   \n",
       "14           0.981787           0.980338         0.981102        0.000594   \n",
       "15           0.981898           0.980408         0.981204        0.000612   \n",
       "16           0.982139           0.981151         0.981762        0.000436   \n",
       "17           0.982367           0.981367         0.982003        0.000452   \n",
       "18           0.982475           0.981447         0.982083        0.000454   \n",
       "19           0.982530           0.981563         0.982185        0.000441   \n",
       "20           0.981585           0.980112         0.980964        0.000623   \n",
       "21           0.981828           0.980276         0.981105        0.000638   \n",
       "22           0.981849           0.980294         0.981128        0.000640   \n",
       "23           0.981855           0.980351         0.981161        0.000620   \n",
       "24           0.982203           0.981086         0.981699        0.000463   \n",
       "25           0.982395           0.981334         0.981955        0.000452   \n",
       "26           0.982409           0.981430         0.982040        0.000435   \n",
       "27           0.982524           0.981504         0.982157        0.000463   \n",
       "28           0.981646           0.980227         0.980967        0.000581   \n",
       "29           0.981750           0.980330         0.981082        0.000583   \n",
       "30           0.981843           0.980330         0.981136        0.000622   \n",
       "31           0.981820           0.980359         0.981145        0.000601   \n",
       "\n",
       "    rank_test_score  \n",
       "0                15  \n",
       "1                 8  \n",
       "2                 7  \n",
       "3                 1  \n",
       "4                31  \n",
       "5                28  \n",
       "6                26  \n",
       "7                19  \n",
       "8                13  \n",
       "9                11  \n",
       "10                5  \n",
       "11                3  \n",
       "12               32  \n",
       "13               27  \n",
       "14               24  \n",
       "15               17  \n",
       "16               14  \n",
       "17               10  \n",
       "18                6  \n",
       "19                2  \n",
       "20               30  \n",
       "21               23  \n",
       "22               22  \n",
       "23               18  \n",
       "24               16  \n",
       "25               12  \n",
       "26                9  \n",
       "27                4  \n",
       "28               29  \n",
       "29               25  \n",
       "30               21  \n",
       "31               20  "
      ]
     },
     "execution_count": 64,
     "metadata": {},
     "output_type": "execute_result"
    }
   ],
   "source": [
    "result_dataframe = pd.DataFrame(grid_search.cv_results_)\n",
    "result_dataframe"
   ]
  },
  {
   "cell_type": "code",
   "execution_count": 65,
   "metadata": {},
   "outputs": [
    {
     "data": {
      "text/html": [
       "<div>\n",
       "<style scoped>\n",
       "    .dataframe tbody tr th:only-of-type {\n",
       "        vertical-align: middle;\n",
       "    }\n",
       "\n",
       "    .dataframe tbody tr th {\n",
       "        vertical-align: top;\n",
       "    }\n",
       "\n",
       "    .dataframe thead th {\n",
       "        text-align: right;\n",
       "    }\n",
       "</style>\n",
       "<table border=\"1\" class=\"dataframe\">\n",
       "  <thead>\n",
       "    <tr style=\"text-align: right;\">\n",
       "      <th></th>\n",
       "      <th>param_max_depth</th>\n",
       "      <th>param_max_features</th>\n",
       "      <th>param_n_estimators</th>\n",
       "      <th>mean_test_score</th>\n",
       "    </tr>\n",
       "  </thead>\n",
       "  <tbody>\n",
       "    <tr>\n",
       "      <th>0</th>\n",
       "      <td>80</td>\n",
       "      <td>2</td>\n",
       "      <td>100</td>\n",
       "      <td>0.981706</td>\n",
       "    </tr>\n",
       "    <tr>\n",
       "      <th>1</th>\n",
       "      <td>80</td>\n",
       "      <td>2</td>\n",
       "      <td>200</td>\n",
       "      <td>0.982052</td>\n",
       "    </tr>\n",
       "    <tr>\n",
       "      <th>2</th>\n",
       "      <td>80</td>\n",
       "      <td>2</td>\n",
       "      <td>300</td>\n",
       "      <td>0.982077</td>\n",
       "    </tr>\n",
       "    <tr>\n",
       "      <th>3</th>\n",
       "      <td>80</td>\n",
       "      <td>2</td>\n",
       "      <td>1000</td>\n",
       "      <td>0.982189</td>\n",
       "    </tr>\n",
       "    <tr>\n",
       "      <th>4</th>\n",
       "      <td>80</td>\n",
       "      <td>3</td>\n",
       "      <td>100</td>\n",
       "      <td>0.980962</td>\n",
       "    </tr>\n",
       "    <tr>\n",
       "      <th>5</th>\n",
       "      <td>80</td>\n",
       "      <td>3</td>\n",
       "      <td>200</td>\n",
       "      <td>0.981040</td>\n",
       "    </tr>\n",
       "    <tr>\n",
       "      <th>6</th>\n",
       "      <td>80</td>\n",
       "      <td>3</td>\n",
       "      <td>300</td>\n",
       "      <td>0.981077</td>\n",
       "    </tr>\n",
       "    <tr>\n",
       "      <th>7</th>\n",
       "      <td>80</td>\n",
       "      <td>3</td>\n",
       "      <td>1000</td>\n",
       "      <td>0.981159</td>\n",
       "    </tr>\n",
       "    <tr>\n",
       "      <th>8</th>\n",
       "      <td>90</td>\n",
       "      <td>2</td>\n",
       "      <td>100</td>\n",
       "      <td>0.981802</td>\n",
       "    </tr>\n",
       "    <tr>\n",
       "      <th>9</th>\n",
       "      <td>90</td>\n",
       "      <td>2</td>\n",
       "      <td>200</td>\n",
       "      <td>0.981997</td>\n",
       "    </tr>\n",
       "    <tr>\n",
       "      <th>10</th>\n",
       "      <td>90</td>\n",
       "      <td>2</td>\n",
       "      <td>300</td>\n",
       "      <td>0.982095</td>\n",
       "    </tr>\n",
       "    <tr>\n",
       "      <th>11</th>\n",
       "      <td>90</td>\n",
       "      <td>2</td>\n",
       "      <td>1000</td>\n",
       "      <td>0.982164</td>\n",
       "    </tr>\n",
       "    <tr>\n",
       "      <th>12</th>\n",
       "      <td>90</td>\n",
       "      <td>3</td>\n",
       "      <td>100</td>\n",
       "      <td>0.980909</td>\n",
       "    </tr>\n",
       "    <tr>\n",
       "      <th>13</th>\n",
       "      <td>90</td>\n",
       "      <td>3</td>\n",
       "      <td>200</td>\n",
       "      <td>0.981061</td>\n",
       "    </tr>\n",
       "    <tr>\n",
       "      <th>14</th>\n",
       "      <td>90</td>\n",
       "      <td>3</td>\n",
       "      <td>300</td>\n",
       "      <td>0.981102</td>\n",
       "    </tr>\n",
       "    <tr>\n",
       "      <th>15</th>\n",
       "      <td>90</td>\n",
       "      <td>3</td>\n",
       "      <td>1000</td>\n",
       "      <td>0.981204</td>\n",
       "    </tr>\n",
       "    <tr>\n",
       "      <th>16</th>\n",
       "      <td>100</td>\n",
       "      <td>2</td>\n",
       "      <td>100</td>\n",
       "      <td>0.981762</td>\n",
       "    </tr>\n",
       "    <tr>\n",
       "      <th>17</th>\n",
       "      <td>100</td>\n",
       "      <td>2</td>\n",
       "      <td>200</td>\n",
       "      <td>0.982003</td>\n",
       "    </tr>\n",
       "    <tr>\n",
       "      <th>18</th>\n",
       "      <td>100</td>\n",
       "      <td>2</td>\n",
       "      <td>300</td>\n",
       "      <td>0.982083</td>\n",
       "    </tr>\n",
       "    <tr>\n",
       "      <th>19</th>\n",
       "      <td>100</td>\n",
       "      <td>2</td>\n",
       "      <td>1000</td>\n",
       "      <td>0.982185</td>\n",
       "    </tr>\n",
       "    <tr>\n",
       "      <th>20</th>\n",
       "      <td>100</td>\n",
       "      <td>3</td>\n",
       "      <td>100</td>\n",
       "      <td>0.980964</td>\n",
       "    </tr>\n",
       "    <tr>\n",
       "      <th>21</th>\n",
       "      <td>100</td>\n",
       "      <td>3</td>\n",
       "      <td>200</td>\n",
       "      <td>0.981105</td>\n",
       "    </tr>\n",
       "    <tr>\n",
       "      <th>22</th>\n",
       "      <td>100</td>\n",
       "      <td>3</td>\n",
       "      <td>300</td>\n",
       "      <td>0.981128</td>\n",
       "    </tr>\n",
       "    <tr>\n",
       "      <th>23</th>\n",
       "      <td>100</td>\n",
       "      <td>3</td>\n",
       "      <td>1000</td>\n",
       "      <td>0.981161</td>\n",
       "    </tr>\n",
       "    <tr>\n",
       "      <th>24</th>\n",
       "      <td>110</td>\n",
       "      <td>2</td>\n",
       "      <td>100</td>\n",
       "      <td>0.981699</td>\n",
       "    </tr>\n",
       "    <tr>\n",
       "      <th>25</th>\n",
       "      <td>110</td>\n",
       "      <td>2</td>\n",
       "      <td>200</td>\n",
       "      <td>0.981955</td>\n",
       "    </tr>\n",
       "    <tr>\n",
       "      <th>26</th>\n",
       "      <td>110</td>\n",
       "      <td>2</td>\n",
       "      <td>300</td>\n",
       "      <td>0.982040</td>\n",
       "    </tr>\n",
       "    <tr>\n",
       "      <th>27</th>\n",
       "      <td>110</td>\n",
       "      <td>2</td>\n",
       "      <td>1000</td>\n",
       "      <td>0.982157</td>\n",
       "    </tr>\n",
       "    <tr>\n",
       "      <th>28</th>\n",
       "      <td>110</td>\n",
       "      <td>3</td>\n",
       "      <td>100</td>\n",
       "      <td>0.980967</td>\n",
       "    </tr>\n",
       "    <tr>\n",
       "      <th>29</th>\n",
       "      <td>110</td>\n",
       "      <td>3</td>\n",
       "      <td>200</td>\n",
       "      <td>0.981082</td>\n",
       "    </tr>\n",
       "    <tr>\n",
       "      <th>30</th>\n",
       "      <td>110</td>\n",
       "      <td>3</td>\n",
       "      <td>300</td>\n",
       "      <td>0.981136</td>\n",
       "    </tr>\n",
       "    <tr>\n",
       "      <th>31</th>\n",
       "      <td>110</td>\n",
       "      <td>3</td>\n",
       "      <td>1000</td>\n",
       "      <td>0.981145</td>\n",
       "    </tr>\n",
       "  </tbody>\n",
       "</table>\n",
       "</div>"
      ],
      "text/plain": [
       "   param_max_depth param_max_features param_n_estimators  mean_test_score\n",
       "0               80                  2                100         0.981706\n",
       "1               80                  2                200         0.982052\n",
       "2               80                  2                300         0.982077\n",
       "3               80                  2               1000         0.982189\n",
       "4               80                  3                100         0.980962\n",
       "5               80                  3                200         0.981040\n",
       "6               80                  3                300         0.981077\n",
       "7               80                  3               1000         0.981159\n",
       "8               90                  2                100         0.981802\n",
       "9               90                  2                200         0.981997\n",
       "10              90                  2                300         0.982095\n",
       "11              90                  2               1000         0.982164\n",
       "12              90                  3                100         0.980909\n",
       "13              90                  3                200         0.981061\n",
       "14              90                  3                300         0.981102\n",
       "15              90                  3               1000         0.981204\n",
       "16             100                  2                100         0.981762\n",
       "17             100                  2                200         0.982003\n",
       "18             100                  2                300         0.982083\n",
       "19             100                  2               1000         0.982185\n",
       "20             100                  3                100         0.980964\n",
       "21             100                  3                200         0.981105\n",
       "22             100                  3                300         0.981128\n",
       "23             100                  3               1000         0.981161\n",
       "24             110                  2                100         0.981699\n",
       "25             110                  2                200         0.981955\n",
       "26             110                  2                300         0.982040\n",
       "27             110                  2               1000         0.982157\n",
       "28             110                  3                100         0.980967\n",
       "29             110                  3                200         0.981082\n",
       "30             110                  3                300         0.981136\n",
       "31             110                  3               1000         0.981145"
      ]
     },
     "execution_count": 65,
     "metadata": {},
     "output_type": "execute_result"
    }
   ],
   "source": [
    "result_dataframe[['param_max_depth','param_max_features','param_n_estimators','mean_test_score']]"
   ]
  },
  {
   "cell_type": "code",
   "execution_count": 66,
   "metadata": {},
   "outputs": [
    {
     "data": {
      "text/html": [
       "<style>#sk-container-id-11 {color: black;background-color: white;}#sk-container-id-11 pre{padding: 0;}#sk-container-id-11 div.sk-toggleable {background-color: white;}#sk-container-id-11 label.sk-toggleable__label {cursor: pointer;display: block;width: 100%;margin-bottom: 0;padding: 0.3em;box-sizing: border-box;text-align: center;}#sk-container-id-11 label.sk-toggleable__label-arrow:before {content: \"▸\";float: left;margin-right: 0.25em;color: #696969;}#sk-container-id-11 label.sk-toggleable__label-arrow:hover:before {color: black;}#sk-container-id-11 div.sk-estimator:hover label.sk-toggleable__label-arrow:before {color: black;}#sk-container-id-11 div.sk-toggleable__content {max-height: 0;max-width: 0;overflow: hidden;text-align: left;background-color: #f0f8ff;}#sk-container-id-11 div.sk-toggleable__content pre {margin: 0.2em;color: black;border-radius: 0.25em;background-color: #f0f8ff;}#sk-container-id-11 input.sk-toggleable__control:checked~div.sk-toggleable__content {max-height: 200px;max-width: 100%;overflow: auto;}#sk-container-id-11 input.sk-toggleable__control:checked~label.sk-toggleable__label-arrow:before {content: \"▾\";}#sk-container-id-11 div.sk-estimator input.sk-toggleable__control:checked~label.sk-toggleable__label {background-color: #d4ebff;}#sk-container-id-11 div.sk-label input.sk-toggleable__control:checked~label.sk-toggleable__label {background-color: #d4ebff;}#sk-container-id-11 input.sk-hidden--visually {border: 0;clip: rect(1px 1px 1px 1px);clip: rect(1px, 1px, 1px, 1px);height: 1px;margin: -1px;overflow: hidden;padding: 0;position: absolute;width: 1px;}#sk-container-id-11 div.sk-estimator {font-family: monospace;background-color: #f0f8ff;border: 1px dotted black;border-radius: 0.25em;box-sizing: border-box;margin-bottom: 0.5em;}#sk-container-id-11 div.sk-estimator:hover {background-color: #d4ebff;}#sk-container-id-11 div.sk-parallel-item::after {content: \"\";width: 100%;border-bottom: 1px solid gray;flex-grow: 1;}#sk-container-id-11 div.sk-label:hover label.sk-toggleable__label {background-color: #d4ebff;}#sk-container-id-11 div.sk-serial::before {content: \"\";position: absolute;border-left: 1px solid gray;box-sizing: border-box;top: 0;bottom: 0;left: 50%;z-index: 0;}#sk-container-id-11 div.sk-serial {display: flex;flex-direction: column;align-items: center;background-color: white;padding-right: 0.2em;padding-left: 0.2em;position: relative;}#sk-container-id-11 div.sk-item {position: relative;z-index: 1;}#sk-container-id-11 div.sk-parallel {display: flex;align-items: stretch;justify-content: center;background-color: white;position: relative;}#sk-container-id-11 div.sk-item::before, #sk-container-id-11 div.sk-parallel-item::before {content: \"\";position: absolute;border-left: 1px solid gray;box-sizing: border-box;top: 0;bottom: 0;left: 50%;z-index: -1;}#sk-container-id-11 div.sk-parallel-item {display: flex;flex-direction: column;z-index: 1;position: relative;background-color: white;}#sk-container-id-11 div.sk-parallel-item:first-child::after {align-self: flex-end;width: 50%;}#sk-container-id-11 div.sk-parallel-item:last-child::after {align-self: flex-start;width: 50%;}#sk-container-id-11 div.sk-parallel-item:only-child::after {width: 0;}#sk-container-id-11 div.sk-dashed-wrapped {border: 1px dashed gray;margin: 0 0.4em 0.5em 0.4em;box-sizing: border-box;padding-bottom: 0.4em;background-color: white;}#sk-container-id-11 div.sk-label label {font-family: monospace;font-weight: bold;display: inline-block;line-height: 1.2em;}#sk-container-id-11 div.sk-label-container {text-align: center;}#sk-container-id-11 div.sk-container {/* jupyter's `normalize.less` sets `[hidden] { display: none; }` but bootstrap.min.css set `[hidden] { display: none !important; }` so we also need the `!important` here to be able to override the default hidden behavior on the sphinx rendered scikit-learn.org. See: https://github.com/scikit-learn/scikit-learn/issues/21755 */display: inline-block !important;position: relative;}#sk-container-id-11 div.sk-text-repr-fallback {display: none;}</style><div id=\"sk-container-id-11\" class=\"sk-top-container\"><div class=\"sk-text-repr-fallback\"><pre>RandomForestRegressor(max_depth=80, max_features=2, n_estimators=1000)</pre><b>In a Jupyter environment, please rerun this cell to show the HTML representation or trust the notebook. <br />On GitHub, the HTML representation is unable to render, please try loading this page with nbviewer.org.</b></div><div class=\"sk-container\" hidden><div class=\"sk-item\"><div class=\"sk-estimator sk-toggleable\"><input class=\"sk-toggleable__control sk-hidden--visually\" id=\"sk-estimator-id-13\" type=\"checkbox\" checked><label for=\"sk-estimator-id-13\" class=\"sk-toggleable__label sk-toggleable__label-arrow\">RandomForestRegressor</label><div class=\"sk-toggleable__content\"><pre>RandomForestRegressor(max_depth=80, max_features=2, n_estimators=1000)</pre></div></div></div></div></div>"
      ],
      "text/plain": [
       "RandomForestRegressor(max_depth=80, max_features=2, n_estimators=1000)"
      ]
     },
     "execution_count": 66,
     "metadata": {},
     "output_type": "execute_result"
    }
   ],
   "source": [
    "best_grid = grid_search.best_estimator_\n",
    "best_grid"
   ]
  },
  {
   "cell_type": "code",
   "execution_count": 67,
   "metadata": {},
   "outputs": [
    {
     "name": "stdout",
     "output_type": "stream",
     "text": [
      "['__abstractmethods__', '__class__', '__delattr__', '__dict__', '__dir__', '__doc__', '__eq__', '__format__', '__ge__', '__getattribute__', '__getstate__', '__gt__', '__hash__', '__init__', '__init_subclass__', '__le__', '__lt__', '__module__', '__ne__', '__new__', '__reduce__', '__reduce_ex__', '__repr__', '__setattr__', '__setstate__', '__sizeof__', '__str__', '__subclasshook__', '__weakref__', '_abc_impl', '_check_feature_names', '_check_n_features', '_check_refit_for_multimetric', '_estimator_type', '_format_results', '_get_param_names', '_get_tags', '_more_tags', '_repr_html_', '_repr_html_inner', '_repr_mimebundle_', '_required_parameters', '_run_search', '_select_best_index', '_validate_data', '_validate_params', 'best_estimator_', 'best_index_', 'best_params_', 'best_score_', 'classes_', 'cv', 'cv_results_', 'decision_function', 'error_score', 'estimator', 'feature_names_in_', 'fit', 'get_params', 'inverse_transform', 'multimetric_', 'n_features_in_', 'n_jobs', 'n_splits_', 'param_grid', 'pre_dispatch', 'predict', 'predict_log_proba', 'predict_proba', 'refit', 'refit_time_', 'return_train_score', 'score', 'score_samples', 'scorer_', 'scoring', 'set_params', 'transform', 'verbose'] \n",
      "\n",
      "best score =  0.9821890537873278\n"
     ]
    }
   ],
   "source": [
    "print(dir(grid_search),'\\n')\n",
    "print('best score = ',grid_search.best_score_)"
   ]
  },
  {
   "cell_type": "code",
   "execution_count": 68,
   "metadata": {},
   "outputs": [
    {
     "data": {
      "text/html": [
       "<style>#sk-container-id-12 {color: black;background-color: white;}#sk-container-id-12 pre{padding: 0;}#sk-container-id-12 div.sk-toggleable {background-color: white;}#sk-container-id-12 label.sk-toggleable__label {cursor: pointer;display: block;width: 100%;margin-bottom: 0;padding: 0.3em;box-sizing: border-box;text-align: center;}#sk-container-id-12 label.sk-toggleable__label-arrow:before {content: \"▸\";float: left;margin-right: 0.25em;color: #696969;}#sk-container-id-12 label.sk-toggleable__label-arrow:hover:before {color: black;}#sk-container-id-12 div.sk-estimator:hover label.sk-toggleable__label-arrow:before {color: black;}#sk-container-id-12 div.sk-toggleable__content {max-height: 0;max-width: 0;overflow: hidden;text-align: left;background-color: #f0f8ff;}#sk-container-id-12 div.sk-toggleable__content pre {margin: 0.2em;color: black;border-radius: 0.25em;background-color: #f0f8ff;}#sk-container-id-12 input.sk-toggleable__control:checked~div.sk-toggleable__content {max-height: 200px;max-width: 100%;overflow: auto;}#sk-container-id-12 input.sk-toggleable__control:checked~label.sk-toggleable__label-arrow:before {content: \"▾\";}#sk-container-id-12 div.sk-estimator input.sk-toggleable__control:checked~label.sk-toggleable__label {background-color: #d4ebff;}#sk-container-id-12 div.sk-label input.sk-toggleable__control:checked~label.sk-toggleable__label {background-color: #d4ebff;}#sk-container-id-12 input.sk-hidden--visually {border: 0;clip: rect(1px 1px 1px 1px);clip: rect(1px, 1px, 1px, 1px);height: 1px;margin: -1px;overflow: hidden;padding: 0;position: absolute;width: 1px;}#sk-container-id-12 div.sk-estimator {font-family: monospace;background-color: #f0f8ff;border: 1px dotted black;border-radius: 0.25em;box-sizing: border-box;margin-bottom: 0.5em;}#sk-container-id-12 div.sk-estimator:hover {background-color: #d4ebff;}#sk-container-id-12 div.sk-parallel-item::after {content: \"\";width: 100%;border-bottom: 1px solid gray;flex-grow: 1;}#sk-container-id-12 div.sk-label:hover label.sk-toggleable__label {background-color: #d4ebff;}#sk-container-id-12 div.sk-serial::before {content: \"\";position: absolute;border-left: 1px solid gray;box-sizing: border-box;top: 0;bottom: 0;left: 50%;z-index: 0;}#sk-container-id-12 div.sk-serial {display: flex;flex-direction: column;align-items: center;background-color: white;padding-right: 0.2em;padding-left: 0.2em;position: relative;}#sk-container-id-12 div.sk-item {position: relative;z-index: 1;}#sk-container-id-12 div.sk-parallel {display: flex;align-items: stretch;justify-content: center;background-color: white;position: relative;}#sk-container-id-12 div.sk-item::before, #sk-container-id-12 div.sk-parallel-item::before {content: \"\";position: absolute;border-left: 1px solid gray;box-sizing: border-box;top: 0;bottom: 0;left: 50%;z-index: -1;}#sk-container-id-12 div.sk-parallel-item {display: flex;flex-direction: column;z-index: 1;position: relative;background-color: white;}#sk-container-id-12 div.sk-parallel-item:first-child::after {align-self: flex-end;width: 50%;}#sk-container-id-12 div.sk-parallel-item:last-child::after {align-self: flex-start;width: 50%;}#sk-container-id-12 div.sk-parallel-item:only-child::after {width: 0;}#sk-container-id-12 div.sk-dashed-wrapped {border: 1px dashed gray;margin: 0 0.4em 0.5em 0.4em;box-sizing: border-box;padding-bottom: 0.4em;background-color: white;}#sk-container-id-12 div.sk-label label {font-family: monospace;font-weight: bold;display: inline-block;line-height: 1.2em;}#sk-container-id-12 div.sk-label-container {text-align: center;}#sk-container-id-12 div.sk-container {/* jupyter's `normalize.less` sets `[hidden] { display: none; }` but bootstrap.min.css set `[hidden] { display: none !important; }` so we also need the `!important` here to be able to override the default hidden behavior on the sphinx rendered scikit-learn.org. See: https://github.com/scikit-learn/scikit-learn/issues/21755 */display: inline-block !important;position: relative;}#sk-container-id-12 div.sk-text-repr-fallback {display: none;}</style><div id=\"sk-container-id-12\" class=\"sk-top-container\"><div class=\"sk-text-repr-fallback\"><pre>RandomForestRegressor(max_depth=90, max_features=2, n_estimators=500)</pre><b>In a Jupyter environment, please rerun this cell to show the HTML representation or trust the notebook. <br />On GitHub, the HTML representation is unable to render, please try loading this page with nbviewer.org.</b></div><div class=\"sk-container\" hidden><div class=\"sk-item\"><div class=\"sk-estimator sk-toggleable\"><input class=\"sk-toggleable__control sk-hidden--visually\" id=\"sk-estimator-id-14\" type=\"checkbox\" checked><label for=\"sk-estimator-id-14\" class=\"sk-toggleable__label sk-toggleable__label-arrow\">RandomForestRegressor</label><div class=\"sk-toggleable__content\"><pre>RandomForestRegressor(max_depth=90, max_features=2, n_estimators=500)</pre></div></div></div></div></div>"
      ],
      "text/plain": [
       "RandomForestRegressor(max_depth=90, max_features=2, n_estimators=500)"
      ]
     },
     "execution_count": 68,
     "metadata": {},
     "output_type": "execute_result"
    }
   ],
   "source": [
    "from sklearn.ensemble import RandomForestRegressor\n",
    "rf = RandomForestRegressor(bootstrap= True, max_depth= 90, max_features= 2, n_estimators= 500)\n",
    "rf.fit(x_train , y_train)"
   ]
  },
  {
   "cell_type": "code",
   "execution_count": 69,
   "metadata": {},
   "outputs": [
    {
     "name": "stdout",
     "output_type": "stream",
     "text": [
      "Training score RandomForestRegressor with n_estimators = 1000:  0.9978323247513\n",
      "Testing Score RandomForestRegressor with n_estimators = 1000:  0.9845985245336283\n",
      "mse value :  0.9011449472396238\n"
     ]
    }
   ],
   "source": [
    "from sklearn.metrics import r2_score\n",
    "from sklearn.metrics import mean_squared_error\n",
    "score = rf.score(x_train, y_train)\n",
    "print(\"Training score RandomForestRegressor with n_estimators = 1000: \", score)\n",
    "\n",
    "y_pred = rf.predict(x_test)\n",
    "r_score = r2_score(y_test, y_pred)\n",
    "print(\"Testing Score RandomForestRegressor with n_estimators = 1000: \", r_score)\n",
    "\n",
    "mse = mean_squared_error(y_test, y_pred)\n",
    "print(\"mse value : \", mse)\n"
   ]
  },
  {
   "cell_type": "code",
   "execution_count": 70,
   "metadata": {},
   "outputs": [
    {
     "name": "stderr",
     "output_type": "stream",
     "text": [
      "C:\\Users\\ABV-IIITM\\AppData\\Local\\Temp\\ipykernel_25184\\1503965675.py:11: FutureWarning: The frame.append method is deprecated and will be removed from pandas in a future version. Use pandas.concat instead.\n",
      "  df = df.append({'K' : K, 'MSE' : mse, 'train_acc' : train_accuracies, 'test_acc':accuracies},\n",
      "C:\\Users\\ABV-IIITM\\AppData\\Local\\Temp\\ipykernel_25184\\1503965675.py:11: FutureWarning: The frame.append method is deprecated and will be removed from pandas in a future version. Use pandas.concat instead.\n",
      "  df = df.append({'K' : K, 'MSE' : mse, 'train_acc' : train_accuracies, 'test_acc':accuracies},\n",
      "C:\\Users\\ABV-IIITM\\AppData\\Local\\Temp\\ipykernel_25184\\1503965675.py:11: FutureWarning: The frame.append method is deprecated and will be removed from pandas in a future version. Use pandas.concat instead.\n",
      "  df = df.append({'K' : K, 'MSE' : mse, 'train_acc' : train_accuracies, 'test_acc':accuracies},\n",
      "C:\\Users\\ABV-IIITM\\AppData\\Local\\Temp\\ipykernel_25184\\1503965675.py:11: FutureWarning: The frame.append method is deprecated and will be removed from pandas in a future version. Use pandas.concat instead.\n",
      "  df = df.append({'K' : K, 'MSE' : mse, 'train_acc' : train_accuracies, 'test_acc':accuracies},\n",
      "C:\\Users\\ABV-IIITM\\AppData\\Local\\Temp\\ipykernel_25184\\1503965675.py:11: FutureWarning: The frame.append method is deprecated and will be removed from pandas in a future version. Use pandas.concat instead.\n",
      "  df = df.append({'K' : K, 'MSE' : mse, 'train_acc' : train_accuracies, 'test_acc':accuracies},\n",
      "C:\\Users\\ABV-IIITM\\AppData\\Local\\Temp\\ipykernel_25184\\1503965675.py:11: FutureWarning: The frame.append method is deprecated and will be removed from pandas in a future version. Use pandas.concat instead.\n",
      "  df = df.append({'K' : K, 'MSE' : mse, 'train_acc' : train_accuracies, 'test_acc':accuracies},\n",
      "C:\\Users\\ABV-IIITM\\AppData\\Local\\Temp\\ipykernel_25184\\1503965675.py:11: FutureWarning: The frame.append method is deprecated and will be removed from pandas in a future version. Use pandas.concat instead.\n",
      "  df = df.append({'K' : K, 'MSE' : mse, 'train_acc' : train_accuracies, 'test_acc':accuracies},\n",
      "C:\\Users\\ABV-IIITM\\AppData\\Local\\Temp\\ipykernel_25184\\1503965675.py:11: FutureWarning: The frame.append method is deprecated and will be removed from pandas in a future version. Use pandas.concat instead.\n",
      "  df = df.append({'K' : K, 'MSE' : mse, 'train_acc' : train_accuracies, 'test_acc':accuracies},\n",
      "C:\\Users\\ABV-IIITM\\AppData\\Local\\Temp\\ipykernel_25184\\1503965675.py:11: FutureWarning: The frame.append method is deprecated and will be removed from pandas in a future version. Use pandas.concat instead.\n",
      "  df = df.append({'K' : K, 'MSE' : mse, 'train_acc' : train_accuracies, 'test_acc':accuracies},\n",
      "C:\\Users\\ABV-IIITM\\AppData\\Local\\Temp\\ipykernel_25184\\1503965675.py:11: FutureWarning: The frame.append method is deprecated and will be removed from pandas in a future version. Use pandas.concat instead.\n",
      "  df = df.append({'K' : K, 'MSE' : mse, 'train_acc' : train_accuracies, 'test_acc':accuracies},\n",
      "C:\\Users\\ABV-IIITM\\AppData\\Local\\Temp\\ipykernel_25184\\1503965675.py:11: FutureWarning: The frame.append method is deprecated and will be removed from pandas in a future version. Use pandas.concat instead.\n",
      "  df = df.append({'K' : K, 'MSE' : mse, 'train_acc' : train_accuracies, 'test_acc':accuracies},\n",
      "C:\\Users\\ABV-IIITM\\AppData\\Local\\Temp\\ipykernel_25184\\1503965675.py:11: FutureWarning: The frame.append method is deprecated and will be removed from pandas in a future version. Use pandas.concat instead.\n",
      "  df = df.append({'K' : K, 'MSE' : mse, 'train_acc' : train_accuracies, 'test_acc':accuracies},\n",
      "C:\\Users\\ABV-IIITM\\AppData\\Local\\Temp\\ipykernel_25184\\1503965675.py:11: FutureWarning: The frame.append method is deprecated and will be removed from pandas in a future version. Use pandas.concat instead.\n",
      "  df = df.append({'K' : K, 'MSE' : mse, 'train_acc' : train_accuracies, 'test_acc':accuracies},\n",
      "C:\\Users\\ABV-IIITM\\AppData\\Local\\Temp\\ipykernel_25184\\1503965675.py:11: FutureWarning: The frame.append method is deprecated and will be removed from pandas in a future version. Use pandas.concat instead.\n",
      "  df = df.append({'K' : K, 'MSE' : mse, 'train_acc' : train_accuracies, 'test_acc':accuracies},\n",
      "C:\\Users\\ABV-IIITM\\AppData\\Local\\Temp\\ipykernel_25184\\1503965675.py:11: FutureWarning: The frame.append method is deprecated and will be removed from pandas in a future version. Use pandas.concat instead.\n",
      "  df = df.append({'K' : K, 'MSE' : mse, 'train_acc' : train_accuracies, 'test_acc':accuracies},\n",
      "C:\\Users\\ABV-IIITM\\AppData\\Local\\Temp\\ipykernel_25184\\1503965675.py:11: FutureWarning: The frame.append method is deprecated and will be removed from pandas in a future version. Use pandas.concat instead.\n",
      "  df = df.append({'K' : K, 'MSE' : mse, 'train_acc' : train_accuracies, 'test_acc':accuracies},\n",
      "C:\\Users\\ABV-IIITM\\AppData\\Local\\Temp\\ipykernel_25184\\1503965675.py:11: FutureWarning: The frame.append method is deprecated and will be removed from pandas in a future version. Use pandas.concat instead.\n",
      "  df = df.append({'K' : K, 'MSE' : mse, 'train_acc' : train_accuracies, 'test_acc':accuracies},\n",
      "C:\\Users\\ABV-IIITM\\AppData\\Local\\Temp\\ipykernel_25184\\1503965675.py:11: FutureWarning: The frame.append method is deprecated and will be removed from pandas in a future version. Use pandas.concat instead.\n",
      "  df = df.append({'K' : K, 'MSE' : mse, 'train_acc' : train_accuracies, 'test_acc':accuracies},\n",
      "C:\\Users\\ABV-IIITM\\AppData\\Local\\Temp\\ipykernel_25184\\1503965675.py:11: FutureWarning: The frame.append method is deprecated and will be removed from pandas in a future version. Use pandas.concat instead.\n",
      "  df = df.append({'K' : K, 'MSE' : mse, 'train_acc' : train_accuracies, 'test_acc':accuracies},\n",
      "C:\\Users\\ABV-IIITM\\AppData\\Local\\Temp\\ipykernel_25184\\1503965675.py:11: FutureWarning: The frame.append method is deprecated and will be removed from pandas in a future version. Use pandas.concat instead.\n",
      "  df = df.append({'K' : K, 'MSE' : mse, 'train_acc' : train_accuracies, 'test_acc':accuracies},\n",
      "C:\\Users\\ABV-IIITM\\AppData\\Local\\Temp\\ipykernel_25184\\1503965675.py:11: FutureWarning: The frame.append method is deprecated and will be removed from pandas in a future version. Use pandas.concat instead.\n",
      "  df = df.append({'K' : K, 'MSE' : mse, 'train_acc' : train_accuracies, 'test_acc':accuracies},\n",
      "C:\\Users\\ABV-IIITM\\AppData\\Local\\Temp\\ipykernel_25184\\1503965675.py:11: FutureWarning: The frame.append method is deprecated and will be removed from pandas in a future version. Use pandas.concat instead.\n",
      "  df = df.append({'K' : K, 'MSE' : mse, 'train_acc' : train_accuracies, 'test_acc':accuracies},\n",
      "C:\\Users\\ABV-IIITM\\AppData\\Local\\Temp\\ipykernel_25184\\1503965675.py:11: FutureWarning: The frame.append method is deprecated and will be removed from pandas in a future version. Use pandas.concat instead.\n",
      "  df = df.append({'K' : K, 'MSE' : mse, 'train_acc' : train_accuracies, 'test_acc':accuracies},\n",
      "C:\\Users\\ABV-IIITM\\AppData\\Local\\Temp\\ipykernel_25184\\1503965675.py:11: FutureWarning: The frame.append method is deprecated and will be removed from pandas in a future version. Use pandas.concat instead.\n",
      "  df = df.append({'K' : K, 'MSE' : mse, 'train_acc' : train_accuracies, 'test_acc':accuracies},\n",
      "C:\\Users\\ABV-IIITM\\AppData\\Local\\Temp\\ipykernel_25184\\1503965675.py:11: FutureWarning: The frame.append method is deprecated and will be removed from pandas in a future version. Use pandas.concat instead.\n",
      "  df = df.append({'K' : K, 'MSE' : mse, 'train_acc' : train_accuracies, 'test_acc':accuracies},\n",
      "C:\\Users\\ABV-IIITM\\AppData\\Local\\Temp\\ipykernel_25184\\1503965675.py:11: FutureWarning: The frame.append method is deprecated and will be removed from pandas in a future version. Use pandas.concat instead.\n",
      "  df = df.append({'K' : K, 'MSE' : mse, 'train_acc' : train_accuracies, 'test_acc':accuracies},\n",
      "C:\\Users\\ABV-IIITM\\AppData\\Local\\Temp\\ipykernel_25184\\1503965675.py:11: FutureWarning: The frame.append method is deprecated and will be removed from pandas in a future version. Use pandas.concat instead.\n",
      "  df = df.append({'K' : K, 'MSE' : mse, 'train_acc' : train_accuracies, 'test_acc':accuracies},\n",
      "C:\\Users\\ABV-IIITM\\AppData\\Local\\Temp\\ipykernel_25184\\1503965675.py:11: FutureWarning: The frame.append method is deprecated and will be removed from pandas in a future version. Use pandas.concat instead.\n",
      "  df = df.append({'K' : K, 'MSE' : mse, 'train_acc' : train_accuracies, 'test_acc':accuracies},\n",
      "C:\\Users\\ABV-IIITM\\AppData\\Local\\Temp\\ipykernel_25184\\1503965675.py:11: FutureWarning: The frame.append method is deprecated and will be removed from pandas in a future version. Use pandas.concat instead.\n",
      "  df = df.append({'K' : K, 'MSE' : mse, 'train_acc' : train_accuracies, 'test_acc':accuracies},\n",
      "C:\\Users\\ABV-IIITM\\AppData\\Local\\Temp\\ipykernel_25184\\1503965675.py:11: FutureWarning: The frame.append method is deprecated and will be removed from pandas in a future version. Use pandas.concat instead.\n",
      "  df = df.append({'K' : K, 'MSE' : mse, 'train_acc' : train_accuracies, 'test_acc':accuracies},\n"
     ]
    },
    {
     "data": {
      "text/html": [
       "<div>\n",
       "<style scoped>\n",
       "    .dataframe tbody tr th:only-of-type {\n",
       "        vertical-align: middle;\n",
       "    }\n",
       "\n",
       "    .dataframe tbody tr th {\n",
       "        vertical-align: top;\n",
       "    }\n",
       "\n",
       "    .dataframe thead th {\n",
       "        text-align: right;\n",
       "    }\n",
       "</style>\n",
       "<table border=\"1\" class=\"dataframe\">\n",
       "  <thead>\n",
       "    <tr style=\"text-align: right;\">\n",
       "      <th></th>\n",
       "      <th>K</th>\n",
       "      <th>MSE</th>\n",
       "      <th>train_acc</th>\n",
       "      <th>test_acc</th>\n",
       "    </tr>\n",
       "  </thead>\n",
       "  <tbody>\n",
       "    <tr>\n",
       "      <th>0</th>\n",
       "      <td>1.0</td>\n",
       "      <td>2.584236</td>\n",
       "      <td>1.000000</td>\n",
       "      <td>0.955833</td>\n",
       "    </tr>\n",
       "    <tr>\n",
       "      <th>1</th>\n",
       "      <td>2.0</td>\n",
       "      <td>0.955029</td>\n",
       "      <td>0.989024</td>\n",
       "      <td>0.983678</td>\n",
       "    </tr>\n",
       "    <tr>\n",
       "      <th>2</th>\n",
       "      <td>3.0</td>\n",
       "      <td>0.943169</td>\n",
       "      <td>0.992776</td>\n",
       "      <td>0.983880</td>\n",
       "    </tr>\n",
       "    <tr>\n",
       "      <th>3</th>\n",
       "      <td>4.0</td>\n",
       "      <td>1.042436</td>\n",
       "      <td>0.991138</td>\n",
       "      <td>0.982184</td>\n",
       "    </tr>\n",
       "    <tr>\n",
       "      <th>4</th>\n",
       "      <td>5.0</td>\n",
       "      <td>1.133248</td>\n",
       "      <td>0.988866</td>\n",
       "      <td>0.980632</td>\n",
       "    </tr>\n",
       "    <tr>\n",
       "      <th>5</th>\n",
       "      <td>6.0</td>\n",
       "      <td>1.212132</td>\n",
       "      <td>0.986566</td>\n",
       "      <td>0.979283</td>\n",
       "    </tr>\n",
       "    <tr>\n",
       "      <th>6</th>\n",
       "      <td>7.0</td>\n",
       "      <td>1.285095</td>\n",
       "      <td>0.984877</td>\n",
       "      <td>0.978036</td>\n",
       "    </tr>\n",
       "    <tr>\n",
       "      <th>7</th>\n",
       "      <td>8.0</td>\n",
       "      <td>1.344547</td>\n",
       "      <td>0.983218</td>\n",
       "      <td>0.977020</td>\n",
       "    </tr>\n",
       "    <tr>\n",
       "      <th>8</th>\n",
       "      <td>9.0</td>\n",
       "      <td>1.401114</td>\n",
       "      <td>0.981905</td>\n",
       "      <td>0.976054</td>\n",
       "    </tr>\n",
       "    <tr>\n",
       "      <th>9</th>\n",
       "      <td>10.0</td>\n",
       "      <td>1.475324</td>\n",
       "      <td>0.980506</td>\n",
       "      <td>0.974785</td>\n",
       "    </tr>\n",
       "    <tr>\n",
       "      <th>10</th>\n",
       "      <td>11.0</td>\n",
       "      <td>1.530511</td>\n",
       "      <td>0.979106</td>\n",
       "      <td>0.973842</td>\n",
       "    </tr>\n",
       "    <tr>\n",
       "      <th>11</th>\n",
       "      <td>12.0</td>\n",
       "      <td>1.581592</td>\n",
       "      <td>0.977851</td>\n",
       "      <td>0.972969</td>\n",
       "    </tr>\n",
       "    <tr>\n",
       "      <th>12</th>\n",
       "      <td>13.0</td>\n",
       "      <td>1.624466</td>\n",
       "      <td>0.976941</td>\n",
       "      <td>0.972236</td>\n",
       "    </tr>\n",
       "    <tr>\n",
       "      <th>13</th>\n",
       "      <td>14.0</td>\n",
       "      <td>1.666539</td>\n",
       "      <td>0.976195</td>\n",
       "      <td>0.971517</td>\n",
       "    </tr>\n",
       "    <tr>\n",
       "      <th>14</th>\n",
       "      <td>15.0</td>\n",
       "      <td>1.722574</td>\n",
       "      <td>0.975393</td>\n",
       "      <td>0.970559</td>\n",
       "    </tr>\n",
       "    <tr>\n",
       "      <th>15</th>\n",
       "      <td>16.0</td>\n",
       "      <td>1.789699</td>\n",
       "      <td>0.974378</td>\n",
       "      <td>0.969412</td>\n",
       "    </tr>\n",
       "    <tr>\n",
       "      <th>16</th>\n",
       "      <td>17.0</td>\n",
       "      <td>1.865404</td>\n",
       "      <td>0.973150</td>\n",
       "      <td>0.968118</td>\n",
       "    </tr>\n",
       "    <tr>\n",
       "      <th>17</th>\n",
       "      <td>18.0</td>\n",
       "      <td>1.922568</td>\n",
       "      <td>0.971903</td>\n",
       "      <td>0.967141</td>\n",
       "    </tr>\n",
       "    <tr>\n",
       "      <th>18</th>\n",
       "      <td>19.0</td>\n",
       "      <td>1.978530</td>\n",
       "      <td>0.970756</td>\n",
       "      <td>0.966185</td>\n",
       "    </tr>\n",
       "    <tr>\n",
       "      <th>19</th>\n",
       "      <td>20.0</td>\n",
       "      <td>2.036225</td>\n",
       "      <td>0.969745</td>\n",
       "      <td>0.965199</td>\n",
       "    </tr>\n",
       "    <tr>\n",
       "      <th>20</th>\n",
       "      <td>21.0</td>\n",
       "      <td>2.096027</td>\n",
       "      <td>0.968745</td>\n",
       "      <td>0.964177</td>\n",
       "    </tr>\n",
       "    <tr>\n",
       "      <th>21</th>\n",
       "      <td>22.0</td>\n",
       "      <td>2.161219</td>\n",
       "      <td>0.967675</td>\n",
       "      <td>0.963063</td>\n",
       "    </tr>\n",
       "    <tr>\n",
       "      <th>22</th>\n",
       "      <td>23.0</td>\n",
       "      <td>2.235546</td>\n",
       "      <td>0.966562</td>\n",
       "      <td>0.961792</td>\n",
       "    </tr>\n",
       "    <tr>\n",
       "      <th>23</th>\n",
       "      <td>24.0</td>\n",
       "      <td>2.305306</td>\n",
       "      <td>0.965335</td>\n",
       "      <td>0.960600</td>\n",
       "    </tr>\n",
       "    <tr>\n",
       "      <th>24</th>\n",
       "      <td>25.0</td>\n",
       "      <td>2.375205</td>\n",
       "      <td>0.964081</td>\n",
       "      <td>0.959405</td>\n",
       "    </tr>\n",
       "    <tr>\n",
       "      <th>25</th>\n",
       "      <td>26.0</td>\n",
       "      <td>2.436351</td>\n",
       "      <td>0.962885</td>\n",
       "      <td>0.958360</td>\n",
       "    </tr>\n",
       "    <tr>\n",
       "      <th>26</th>\n",
       "      <td>27.0</td>\n",
       "      <td>2.504723</td>\n",
       "      <td>0.961736</td>\n",
       "      <td>0.957192</td>\n",
       "    </tr>\n",
       "    <tr>\n",
       "      <th>27</th>\n",
       "      <td>28.0</td>\n",
       "      <td>2.557844</td>\n",
       "      <td>0.960661</td>\n",
       "      <td>0.956284</td>\n",
       "    </tr>\n",
       "    <tr>\n",
       "      <th>28</th>\n",
       "      <td>29.0</td>\n",
       "      <td>2.600144</td>\n",
       "      <td>0.959623</td>\n",
       "      <td>0.955561</td>\n",
       "    </tr>\n",
       "    <tr>\n",
       "      <th>29</th>\n",
       "      <td>30.0</td>\n",
       "      <td>2.643051</td>\n",
       "      <td>0.958718</td>\n",
       "      <td>0.954828</td>\n",
       "    </tr>\n",
       "  </tbody>\n",
       "</table>\n",
       "</div>"
      ],
      "text/plain": [
       "       K       MSE  train_acc  test_acc\n",
       "0    1.0  2.584236   1.000000  0.955833\n",
       "1    2.0  0.955029   0.989024  0.983678\n",
       "2    3.0  0.943169   0.992776  0.983880\n",
       "3    4.0  1.042436   0.991138  0.982184\n",
       "4    5.0  1.133248   0.988866  0.980632\n",
       "5    6.0  1.212132   0.986566  0.979283\n",
       "6    7.0  1.285095   0.984877  0.978036\n",
       "7    8.0  1.344547   0.983218  0.977020\n",
       "8    9.0  1.401114   0.981905  0.976054\n",
       "9   10.0  1.475324   0.980506  0.974785\n",
       "10  11.0  1.530511   0.979106  0.973842\n",
       "11  12.0  1.581592   0.977851  0.972969\n",
       "12  13.0  1.624466   0.976941  0.972236\n",
       "13  14.0  1.666539   0.976195  0.971517\n",
       "14  15.0  1.722574   0.975393  0.970559\n",
       "15  16.0  1.789699   0.974378  0.969412\n",
       "16  17.0  1.865404   0.973150  0.968118\n",
       "17  18.0  1.922568   0.971903  0.967141\n",
       "18  19.0  1.978530   0.970756  0.966185\n",
       "19  20.0  2.036225   0.969745  0.965199\n",
       "20  21.0  2.096027   0.968745  0.964177\n",
       "21  22.0  2.161219   0.967675  0.963063\n",
       "22  23.0  2.235546   0.966562  0.961792\n",
       "23  24.0  2.305306   0.965335  0.960600\n",
       "24  25.0  2.375205   0.964081  0.959405\n",
       "25  26.0  2.436351   0.962885  0.958360\n",
       "26  27.0  2.504723   0.961736  0.957192\n",
       "27  28.0  2.557844   0.960661  0.956284\n",
       "28  29.0  2.600144   0.959623  0.955561\n",
       "29  30.0  2.643051   0.958718  0.954828"
      ]
     },
     "execution_count": 70,
     "metadata": {},
     "output_type": "execute_result"
    }
   ],
   "source": [
    "from sklearn.neighbors import KNeighborsRegressor\n",
    "\n",
    "k_range = range(1,31)\n",
    "df = pd.DataFrame(columns = ['K', 'MSE','train_acc','test_acc'])\n",
    "for K in k_range:\n",
    "    knn = KNeighborsRegressor(n_neighbors = K)\n",
    "    knn.fit(x_train ,y_train)\n",
    "    train_accuracies = knn.score(x_train,y_train)\n",
    "    accuracies = r2_score(y_test, knn.predict(x_test))\n",
    "    mse = mean_squared_error(y_test,  knn.predict(x_test))\n",
    "    df = df.append({'K' : K, 'MSE' : mse, 'train_acc' : train_accuracies, 'test_acc':accuracies}, \n",
    "                ignore_index = True)\n",
    "\n",
    "df"
   ]
  },
  {
   "cell_type": "code",
   "execution_count": 71,
   "metadata": {},
   "outputs": [
    {
     "data": {
      "text/plain": [
       "Text(0.5, 1.0, 'Mean Squared Error values for different k values')"
      ]
     },
     "execution_count": 71,
     "metadata": {},
     "output_type": "execute_result"
    },
    {
     "data": {
      "image/png": "[encoded data removed]",
      "text/plain": [
       "<Figure size 640x480 with 1 Axes>"
      ]
     },
     "metadata": {},
     "output_type": "display_data"
    }
   ],
   "source": [
    "plt.plot(df['K'], df['MSE'])\n",
    "plt.xlabel('K')\n",
    "plt.ylabel('MSE')\n",
    "plt.title('Mean Squared Error values for different k values')"
   ]
  },
  {
   "cell_type": "code",
   "execution_count": 72,
   "metadata": {},
   "outputs": [
    {
     "data": {
      "text/plain": [
       "Text(0.5, 1.0, 'Accuracy for different k values')"
      ]
     },
     "execution_count": 72,
     "metadata": {},
     "output_type": "execute_result"
    },
    {
     "data": {
      "image/png": "[encoded data removed]",
      "text/plain": [
       "<Figure size 640x480 with 1 Axes>"
      ]
     },
     "metadata": {},
     "output_type": "display_data"
    }
   ],
   "source": [
    "plt.plot(df['K'], df['test_acc'])\n",
    "plt.xlabel('K')\n",
    "plt.ylabel('Accuracy')\n",
    "plt.title('Accuracy for different k values')"
   ]
  },
  {
   "cell_type": "code",
   "execution_count": 73,
   "metadata": {},
   "outputs": [],
   "source": [
    "import tensorflow\n",
    "tensorflow.random.set_seed(1)\n",
    "from tensorflow.python.keras.layers import Dense\n",
    "from tensorflow.python.keras.models import Sequential\n",
    "# from tensorflow.python.keras.wrappers.scikit_learn import KerasRegressor"
   ]
  },
  {
   "cell_type": "code",
   "execution_count": 74,
   "metadata": {},
   "outputs": [
    {
     "name": "stdout",
     "output_type": "stream",
     "text": [
      "Model: \"sequential\"\n",
      "_________________________________________________________________\n",
      "Layer (type)                 Output Shape              Param #   \n",
      "=================================================================\n",
      "dense (Dense)                (None, 256)               1280      \n",
      "_________________________________________________________________\n",
      "dense_1 (Dense)              (None, 128)               32896     \n",
      "_________________________________________________________________\n",
      "dense_2 (Dense)              (None, 64)                8256      \n",
      "_________________________________________________________________\n",
      "dense_3 (Dense)              (None, 1)                 65        \n",
      "=================================================================\n",
      "Total params: 42,497\n",
      "Trainable params: 42,497\n",
      "Non-trainable params: 0\n",
      "_________________________________________________________________\n"
     ]
    }
   ],
   "source": [
    "model = Sequential()\n",
    "model.add(Dense(units = 256, input_dim=4, kernel_initializer='normal', activation='relu'))\n",
    "model.add(Dense(units = 128, activation='relu'))\n",
    "model.add(Dense(units = 64, activation='relu'))\n",
    "model.add(Dense(units = 1, activation='linear'))\n",
    "model.summary()"
   ]
  },
  {
   "cell_type": "code",
   "execution_count": 75,
   "metadata": {},
   "outputs": [],
   "source": [
    "model.compile(loss='mse', optimizer='adam', metrics=['mse','mae'])"
   ]
  },
  {
   "cell_type": "code",
   "execution_count": 76,
   "metadata": {},
   "outputs": [
    {
     "name": "stdout",
     "output_type": "stream",
     "text": [
      "Epoch 1/100\n",
      "1119/1119 [==============================] - 11s 2ms/step - loss: 46.8482 - mse: 46.8482 - mae: 5.2070 - val_loss: 28.9414 - val_mse: 28.9414 - val_mae: 3.7789\n",
      "Epoch 2/100\n",
      "1119/1119 [==============================] - 1s 1ms/step - loss: 24.5762 - mse: 24.5762 - mae: 3.4681 - val_loss: 21.9564 - val_mse: 21.9564 - val_mae: 3.1569\n",
      "Epoch 3/100\n",
      "1119/1119 [==============================] - 1s 1ms/step - loss: 18.9079 - mse: 18.9079 - mae: 2.8938 - val_loss: 15.9371 - val_mse: 15.9371 - val_mae: 2.4987\n",
      "Epoch 4/100\n",
      "1119/1119 [==============================] - 1s 1ms/step - loss: 12.0454 - mse: 12.0454 - mae: 2.1215 - val_loss: 8.3512 - val_mse: 8.3512 - val_mae: 1.5024\n",
      "Epoch 5/100\n",
      "1119/1119 [==============================] - 1s 1ms/step - loss: 6.5189 - mse: 6.5189 - mae: 1.4847 - val_loss: 4.5786 - val_mse: 4.5786 - val_mae: 1.2181\n",
      "Epoch 6/100\n",
      "1119/1119 [==============================] - 1s 1ms/step - loss: 4.6088 - mse: 4.6088 - mae: 1.2306 - val_loss: 3.6698 - val_mse: 3.6698 - val_mae: 1.0145\n",
      "Epoch 7/100\n",
      "1119/1119 [==============================] - 1s 1ms/step - loss: 4.0026 - mse: 4.0026 - mae: 1.1356 - val_loss: 4.5660 - val_mse: 4.5660 - val_mae: 1.2264\n",
      "Epoch 8/100\n",
      "1119/1119 [==============================] - 1s 1ms/step - loss: 3.6096 - mse: 3.6096 - mae: 1.0733 - val_loss: 2.8189 - val_mse: 2.8189 - val_mae: 0.9001\n",
      "Epoch 9/100\n",
      "1119/1119 [==============================] - 1s 1ms/step - loss: 3.3814 - mse: 3.3814 - mae: 1.0355 - val_loss: 3.5256 - val_mse: 3.5256 - val_mae: 1.0841\n",
      "Epoch 10/100\n",
      "1119/1119 [==============================] - 1s 1ms/step - loss: 3.3745 - mse: 3.3745 - mae: 1.0409 - val_loss: 3.4771 - val_mse: 3.4771 - val_mae: 1.1198\n",
      "Epoch 11/100\n",
      "1119/1119 [==============================] - 1s 1ms/step - loss: 3.0956 - mse: 3.0956 - mae: 0.9787 - val_loss: 2.9380 - val_mse: 2.9380 - val_mae: 0.8970\n",
      "Epoch 12/100\n",
      "1119/1119 [==============================] - 1s 1ms/step - loss: 3.0209 - mse: 3.0209 - mae: 0.9638 - val_loss: 4.1341 - val_mse: 4.1341 - val_mae: 1.2645\n",
      "Epoch 13/100\n",
      "1119/1119 [==============================] - 1s 1ms/step - loss: 3.0515 - mse: 3.0515 - mae: 0.9570 - val_loss: 4.4753 - val_mse: 4.4753 - val_mae: 1.3491\n",
      "Epoch 14/100\n",
      "1119/1119 [==============================] - 1s 1ms/step - loss: 3.0632 - mse: 3.0632 - mae: 0.9597 - val_loss: 3.3204 - val_mse: 3.3204 - val_mae: 1.1771\n",
      "Epoch 15/100\n",
      "1119/1119 [==============================] - 2s 1ms/step - loss: 2.9992 - mse: 2.9992 - mae: 0.9454 - val_loss: 3.9642 - val_mse: 3.9642 - val_mae: 1.1294\n",
      "Epoch 16/100\n",
      "1119/1119 [==============================] - 2s 1ms/step - loss: 2.7925 - mse: 2.7925 - mae: 0.9145 - val_loss: 2.3699 - val_mse: 2.3699 - val_mae: 0.8781\n",
      "Epoch 17/100\n",
      "1119/1119 [==============================] - 1s 1ms/step - loss: 2.9692 - mse: 2.9692 - mae: 0.9512 - val_loss: 3.6794 - val_mse: 3.6794 - val_mae: 1.0916\n",
      "Epoch 18/100\n",
      "1119/1119 [==============================] - 1s 1ms/step - loss: 2.6801 - mse: 2.6801 - mae: 0.8920 - val_loss: 2.7918 - val_mse: 2.7918 - val_mae: 0.8612\n",
      "Epoch 19/100\n",
      "1119/1119 [==============================] - 2s 1ms/step - loss: 2.8884 - mse: 2.8884 - mae: 0.9229 - val_loss: 4.1595 - val_mse: 4.1595 - val_mae: 1.0964\n",
      "Epoch 20/100\n",
      "1119/1119 [==============================] - 1s 1ms/step - loss: 2.7122 - mse: 2.7122 - mae: 0.8850 - val_loss: 1.9296 - val_mse: 1.9296 - val_mae: 0.7048\n",
      "Epoch 21/100\n",
      "1119/1119 [==============================] - 1s 1ms/step - loss: 2.5456 - mse: 2.5456 - mae: 0.8665 - val_loss: 4.9308 - val_mse: 4.9308 - val_mae: 1.3953\n",
      "Epoch 22/100\n",
      "1119/1119 [==============================] - 2s 1ms/step - loss: 2.5855 - mse: 2.5855 - mae: 0.8720 - val_loss: 2.0832 - val_mse: 2.0832 - val_mae: 0.7106\n",
      "Epoch 23/100\n",
      "1119/1119 [==============================] - 1s 1ms/step - loss: 2.6929 - mse: 2.6929 - mae: 0.8930 - val_loss: 1.9608 - val_mse: 1.9608 - val_mae: 0.7925\n",
      "Epoch 24/100\n",
      "1119/1119 [==============================] - 2s 1ms/step - loss: 2.5277 - mse: 2.5277 - mae: 0.8613 - val_loss: 3.3079 - val_mse: 3.3079 - val_mae: 0.9842\n",
      "Epoch 25/100\n",
      "1119/1119 [==============================] - 2s 1ms/step - loss: 2.5324 - mse: 2.5324 - mae: 0.8747 - val_loss: 8.6093 - val_mse: 8.6093 - val_mae: 1.8596\n",
      "Epoch 26/100\n",
      "1119/1119 [==============================] - 2s 1ms/step - loss: 2.6424 - mse: 2.6424 - mae: 0.8863 - val_loss: 1.8525 - val_mse: 1.8525 - val_mae: 0.7412\n",
      "Epoch 27/100\n",
      "1119/1119 [==============================] - 2s 1ms/step - loss: 2.5753 - mse: 2.5753 - mae: 0.8682 - val_loss: 1.9557 - val_mse: 1.9557 - val_mae: 0.7617\n",
      "Epoch 28/100\n",
      "1119/1119 [==============================] - 1s 1ms/step - loss: 2.5633 - mse: 2.5633 - mae: 0.8675 - val_loss: 1.9351 - val_mse: 1.9351 - val_mae: 0.7430\n",
      "Epoch 29/100\n",
      "1119/1119 [==============================] - 2s 1ms/step - loss: 2.4486 - mse: 2.4486 - mae: 0.8486 - val_loss: 2.9932 - val_mse: 2.9932 - val_mae: 0.9890\n",
      "Epoch 30/100\n",
      "1119/1119 [==============================] - 2s 1ms/step - loss: 2.4661 - mse: 2.4661 - mae: 0.8415 - val_loss: 3.0718 - val_mse: 3.0718 - val_mae: 1.0867\n",
      "Epoch 31/100\n",
      "1119/1119 [==============================] - 1s 1ms/step - loss: 2.3862 - mse: 2.3862 - mae: 0.8363 - val_loss: 3.1922 - val_mse: 3.1922 - val_mae: 0.9623\n",
      "Epoch 32/100\n",
      "1119/1119 [==============================] - 1s 1ms/step - loss: 2.4346 - mse: 2.4346 - mae: 0.8413 - val_loss: 3.6858 - val_mse: 3.6858 - val_mae: 1.0261\n",
      "Epoch 33/100\n",
      "1119/1119 [==============================] - 2s 1ms/step - loss: 2.4802 - mse: 2.4802 - mae: 0.8519 - val_loss: 2.5025 - val_mse: 2.5025 - val_mae: 0.9531\n",
      "Epoch 34/100\n",
      "1119/1119 [==============================] - 1s 1ms/step - loss: 2.3887 - mse: 2.3887 - mae: 0.8347 - val_loss: 1.8654 - val_mse: 1.8654 - val_mae: 0.8129\n",
      "Epoch 35/100\n",
      "1119/1119 [==============================] - 2s 2ms/step - loss: 2.4356 - mse: 2.4356 - mae: 0.8416 - val_loss: 2.3108 - val_mse: 2.3108 - val_mae: 0.7986\n",
      "Epoch 36/100\n",
      "1119/1119 [==============================] - 1s 1ms/step - loss: 2.3395 - mse: 2.3395 - mae: 0.8174 - val_loss: 2.6682 - val_mse: 2.6682 - val_mae: 0.9048\n",
      "Epoch 37/100\n",
      "1119/1119 [==============================] - 1s 1ms/step - loss: 2.1555 - mse: 2.1555 - mae: 0.7905 - val_loss: 1.8225 - val_mse: 1.8225 - val_mae: 0.7662\n",
      "Epoch 38/100\n",
      "1119/1119 [==============================] - 1s 1ms/step - loss: 2.4182 - mse: 2.4182 - mae: 0.8344 - val_loss: 3.9166 - val_mse: 3.9166 - val_mae: 1.1686\n",
      "Epoch 39/100\n",
      "1119/1119 [==============================] - 1s 1ms/step - loss: 2.2200 - mse: 2.2200 - mae: 0.7963 - val_loss: 1.9221 - val_mse: 1.9221 - val_mae: 0.6958\n",
      "Epoch 40/100\n",
      "1119/1119 [==============================] - 2s 2ms/step - loss: 2.2051 - mse: 2.2051 - mae: 0.7984 - val_loss: 2.5829 - val_mse: 2.5829 - val_mae: 0.9110\n",
      "Epoch 41/100\n",
      "1119/1119 [==============================] - 2s 1ms/step - loss: 2.3251 - mse: 2.3251 - mae: 0.8193 - val_loss: 2.3860 - val_mse: 2.3860 - val_mae: 0.9213\n",
      "Epoch 42/100\n",
      "1119/1119 [==============================] - 1s 1ms/step - loss: 2.2739 - mse: 2.2739 - mae: 0.8072 - val_loss: 1.9877 - val_mse: 1.9877 - val_mae: 0.7072\n",
      "Epoch 43/100\n",
      "1119/1119 [==============================] - 1s 1ms/step - loss: 2.3588 - mse: 2.3588 - mae: 0.8275 - val_loss: 4.9205 - val_mse: 4.9205 - val_mae: 1.3277\n",
      "Epoch 44/100\n",
      "1119/1119 [==============================] - 2s 1ms/step - loss: 2.1685 - mse: 2.1685 - mae: 0.7855 - val_loss: 1.5953 - val_mse: 1.5953 - val_mae: 0.6310\n",
      "Epoch 45/100\n",
      "1119/1119 [==============================] - 2s 2ms/step - loss: 2.4024 - mse: 2.4024 - mae: 0.8333 - val_loss: 1.6625 - val_mse: 1.6625 - val_mae: 0.7055\n",
      "Epoch 46/100\n",
      "1119/1119 [==============================] - 1s 1ms/step - loss: 2.1446 - mse: 2.1446 - mae: 0.7834 - val_loss: 1.7834 - val_mse: 1.7834 - val_mae: 0.8063\n",
      "Epoch 47/100\n",
      "1119/1119 [==============================] - 1s 1ms/step - loss: 2.1040 - mse: 2.1040 - mae: 0.7674 - val_loss: 2.6846 - val_mse: 2.6846 - val_mae: 0.9670\n",
      "Epoch 48/100\n",
      "1119/1119 [==============================] - 2s 1ms/step - loss: 2.2653 - mse: 2.2653 - mae: 0.8025 - val_loss: 1.4913 - val_mse: 1.4913 - val_mae: 0.6250\n",
      "Epoch 49/100\n",
      "1119/1119 [==============================] - 2s 1ms/step - loss: 2.2861 - mse: 2.2861 - mae: 0.8026 - val_loss: 2.0721 - val_mse: 2.0721 - val_mae: 0.8456\n",
      "Epoch 50/100\n",
      "1119/1119 [==============================] - 2s 1ms/step - loss: 2.1559 - mse: 2.1559 - mae: 0.7763 - val_loss: 2.4928 - val_mse: 2.4928 - val_mae: 0.8853\n",
      "Epoch 51/100\n",
      "1119/1119 [==============================] - 1s 1ms/step - loss: 2.0706 - mse: 2.0706 - mae: 0.7689 - val_loss: 1.3918 - val_mse: 1.3918 - val_mae: 0.5881\n",
      "Epoch 52/100\n",
      "1119/1119 [==============================] - 1s 1ms/step - loss: 2.1780 - mse: 2.1780 - mae: 0.7738 - val_loss: 3.1434 - val_mse: 3.1434 - val_mae: 0.9324\n",
      "Epoch 53/100\n",
      "1119/1119 [==============================] - 1s 1ms/step - loss: 2.2982 - mse: 2.2982 - mae: 0.8067 - val_loss: 3.1445 - val_mse: 3.1445 - val_mae: 1.0021\n",
      "Epoch 54/100\n",
      "1119/1119 [==============================] - 1s 1ms/step - loss: 2.0600 - mse: 2.0600 - mae: 0.7536 - val_loss: 1.5111 - val_mse: 1.5111 - val_mae: 0.6144\n",
      "Epoch 55/100\n",
      "1119/1119 [==============================] - 1s 1ms/step - loss: 2.0214 - mse: 2.0214 - mae: 0.7475 - val_loss: 1.6472 - val_mse: 1.6472 - val_mae: 0.6276\n",
      "Epoch 56/100\n",
      "1119/1119 [==============================] - 1s 1ms/step - loss: 2.1679 - mse: 2.1679 - mae: 0.7765 - val_loss: 1.7892 - val_mse: 1.7892 - val_mae: 0.6988\n",
      "Epoch 57/100\n",
      "1119/1119 [==============================] - 1s 1ms/step - loss: 2.0110 - mse: 2.0110 - mae: 0.7496 - val_loss: 2.5492 - val_mse: 2.5492 - val_mae: 0.8118\n",
      "Epoch 58/100\n",
      "1119/1119 [==============================] - 1s 1ms/step - loss: 2.0946 - mse: 2.0946 - mae: 0.7588 - val_loss: 1.5225 - val_mse: 1.5225 - val_mae: 0.6395\n",
      "Epoch 59/100\n",
      "1119/1119 [==============================] - 1s 1ms/step - loss: 1.9344 - mse: 1.9344 - mae: 0.7302 - val_loss: 3.6546 - val_mse: 3.6546 - val_mae: 0.9298\n",
      "Epoch 60/100\n",
      "1119/1119 [==============================] - 2s 1ms/step - loss: 2.1961 - mse: 2.1961 - mae: 0.7802 - val_loss: 2.2068 - val_mse: 2.2068 - val_mae: 0.7974\n",
      "Epoch 61/100\n",
      "1119/1119 [==============================] - 1s 1ms/step - loss: 1.9513 - mse: 1.9513 - mae: 0.7276 - val_loss: 2.5121 - val_mse: 2.5121 - val_mae: 0.8851\n",
      "Epoch 62/100\n",
      "1119/1119 [==============================] - 2s 1ms/step - loss: 2.0306 - mse: 2.0306 - mae: 0.7479 - val_loss: 1.7386 - val_mse: 1.7386 - val_mae: 0.6642\n",
      "Epoch 63/100\n",
      "1119/1119 [==============================] - 2s 2ms/step - loss: 1.9324 - mse: 1.9324 - mae: 0.7266 - val_loss: 1.7178 - val_mse: 1.7178 - val_mae: 0.6346\n",
      "Epoch 64/100\n",
      "1119/1119 [==============================] - 1s 1ms/step - loss: 2.0942 - mse: 2.0942 - mae: 0.7518 - val_loss: 2.8427 - val_mse: 2.8427 - val_mae: 0.9483\n",
      "Epoch 65/100\n",
      "1119/1119 [==============================] - 1s 1ms/step - loss: 2.0059 - mse: 2.0059 - mae: 0.7473 - val_loss: 1.7522 - val_mse: 1.7522 - val_mae: 0.7135\n",
      "Epoch 66/100\n",
      "1119/1119 [==============================] - 1s 1ms/step - loss: 2.1073 - mse: 2.1073 - mae: 0.7666 - val_loss: 1.5536 - val_mse: 1.5536 - val_mae: 0.6258\n",
      "Epoch 67/100\n",
      "1119/1119 [==============================] - 1s 1ms/step - loss: 2.1642 - mse: 2.1642 - mae: 0.7655 - val_loss: 1.5952 - val_mse: 1.5952 - val_mae: 0.6464\n",
      "Epoch 68/100\n",
      "1119/1119 [==============================] - 2s 1ms/step - loss: 1.8769 - mse: 1.8769 - mae: 0.7099 - val_loss: 2.4049 - val_mse: 2.4049 - val_mae: 0.8933\n",
      "Epoch 69/100\n",
      "1119/1119 [==============================] - 2s 1ms/step - loss: 2.1039 - mse: 2.1039 - mae: 0.7680 - val_loss: 1.6454 - val_mse: 1.6454 - val_mae: 0.6293\n",
      "Epoch 70/100\n",
      "1119/1119 [==============================] - 2s 1ms/step - loss: 1.8706 - mse: 1.8706 - mae: 0.7111 - val_loss: 1.8158 - val_mse: 1.8158 - val_mae: 0.6613\n",
      "Epoch 71/100\n",
      "1119/1119 [==============================] - 2s 1ms/step - loss: 2.0772 - mse: 2.0772 - mae: 0.7532 - val_loss: 2.2168 - val_mse: 2.2168 - val_mae: 0.8710\n",
      "Epoch 72/100\n",
      "1119/1119 [==============================] - 2s 2ms/step - loss: 2.0655 - mse: 2.0655 - mae: 0.7387 - val_loss: 2.2048 - val_mse: 2.2048 - val_mae: 0.7935\n",
      "Epoch 73/100\n",
      "1119/1119 [==============================] - 2s 1ms/step - loss: 1.9637 - mse: 1.9637 - mae: 0.7348 - val_loss: 1.6655 - val_mse: 1.6655 - val_mae: 0.6099\n",
      "Epoch 74/100\n",
      "1119/1119 [==============================] - 1s 1ms/step - loss: 2.0571 - mse: 2.0571 - mae: 0.7493 - val_loss: 1.5675 - val_mse: 1.5675 - val_mae: 0.6693\n",
      "Epoch 75/100\n",
      "1119/1119 [==============================] - 1s 1ms/step - loss: 2.1104 - mse: 2.1104 - mae: 0.7493 - val_loss: 1.8787 - val_mse: 1.8787 - val_mae: 0.7441\n",
      "Epoch 76/100\n",
      "1119/1119 [==============================] - 2s 1ms/step - loss: 1.9902 - mse: 1.9902 - mae: 0.7383 - val_loss: 2.8841 - val_mse: 2.8841 - val_mae: 0.8751\n",
      "Epoch 77/100\n",
      "1119/1119 [==============================] - 2s 1ms/step - loss: 1.8955 - mse: 1.8955 - mae: 0.7183 - val_loss: 1.6380 - val_mse: 1.6380 - val_mae: 0.6350\n",
      "Epoch 78/100\n",
      "1119/1119 [==============================] - 2s 1ms/step - loss: 2.1257 - mse: 2.1257 - mae: 0.7522 - val_loss: 1.8391 - val_mse: 1.8391 - val_mae: 0.7387\n",
      "Epoch 79/100\n",
      "1119/1119 [==============================] - 1s 1ms/step - loss: 1.9348 - mse: 1.9348 - mae: 0.7205 - val_loss: 2.0112 - val_mse: 2.0112 - val_mae: 0.6976\n",
      "Epoch 80/100\n",
      "1119/1119 [==============================] - 1s 1ms/step - loss: 1.8654 - mse: 1.8654 - mae: 0.7096 - val_loss: 2.7113 - val_mse: 2.7113 - val_mae: 0.8478\n",
      "Epoch 81/100\n",
      "1119/1119 [==============================] - 2s 1ms/step - loss: 1.9304 - mse: 1.9304 - mae: 0.7162 - val_loss: 1.9221 - val_mse: 1.9221 - val_mae: 0.7633\n",
      "Epoch 82/100\n",
      "1119/1119 [==============================] - 2s 2ms/step - loss: 1.9676 - mse: 1.9676 - mae: 0.7349 - val_loss: 2.8566 - val_mse: 2.8566 - val_mae: 1.0498\n",
      "Epoch 83/100\n",
      "1119/1119 [==============================] - 1s 1ms/step - loss: 2.0413 - mse: 2.0413 - mae: 0.7431 - val_loss: 4.2818 - val_mse: 4.2818 - val_mae: 1.2561\n",
      "Epoch 84/100\n",
      "1119/1119 [==============================] - 2s 2ms/step - loss: 1.9844 - mse: 1.9844 - mae: 0.7292 - val_loss: 2.7246 - val_mse: 2.7246 - val_mae: 0.9017\n",
      "Epoch 85/100\n",
      "1119/1119 [==============================] - 1s 1ms/step - loss: 1.9155 - mse: 1.9155 - mae: 0.7192 - val_loss: 2.3031 - val_mse: 2.3031 - val_mae: 0.7596\n",
      "Epoch 86/100\n",
      "1119/1119 [==============================] - 2s 1ms/step - loss: 1.8675 - mse: 1.8675 - mae: 0.7035 - val_loss: 1.3827 - val_mse: 1.3827 - val_mae: 0.6030\n",
      "Epoch 87/100\n",
      "1119/1119 [==============================] - 1s 1ms/step - loss: 1.8637 - mse: 1.8637 - mae: 0.7144 - val_loss: 1.5231 - val_mse: 1.5231 - val_mae: 0.6747\n",
      "Epoch 88/100\n",
      "1119/1119 [==============================] - 2s 1ms/step - loss: 2.0284 - mse: 2.0284 - mae: 0.7392 - val_loss: 1.3267 - val_mse: 1.3267 - val_mae: 0.5681\n",
      "Epoch 89/100\n",
      "1119/1119 [==============================] - 1s 1ms/step - loss: 1.9028 - mse: 1.9028 - mae: 0.7114 - val_loss: 1.5243 - val_mse: 1.5243 - val_mae: 0.5923\n",
      "Epoch 90/100\n",
      "1119/1119 [==============================] - 1s 1ms/step - loss: 2.0415 - mse: 2.0415 - mae: 0.7424 - val_loss: 1.4149 - val_mse: 1.4149 - val_mae: 0.6000\n",
      "Epoch 91/100\n",
      "1119/1119 [==============================] - 2s 1ms/step - loss: 1.8452 - mse: 1.8452 - mae: 0.7089 - val_loss: 1.4337 - val_mse: 1.4337 - val_mae: 0.5886\n",
      "Epoch 92/100\n",
      "1119/1119 [==============================] - 2s 1ms/step - loss: 1.9034 - mse: 1.9034 - mae: 0.7152 - val_loss: 1.7333 - val_mse: 1.7333 - val_mae: 0.6390\n",
      "Epoch 93/100\n",
      "1119/1119 [==============================] - 2s 1ms/step - loss: 1.9840 - mse: 1.9840 - mae: 0.7362 - val_loss: 1.4277 - val_mse: 1.4277 - val_mae: 0.5675\n",
      "Epoch 94/100\n",
      "1119/1119 [==============================] - 2s 2ms/step - loss: 1.8935 - mse: 1.8935 - mae: 0.7088 - val_loss: 2.3026 - val_mse: 2.3026 - val_mae: 0.7865\n",
      "Epoch 95/100\n",
      "1119/1119 [==============================] - 2s 1ms/step - loss: 1.8854 - mse: 1.8854 - mae: 0.7071 - val_loss: 1.7013 - val_mse: 1.7013 - val_mae: 0.7180\n",
      "Epoch 96/100\n",
      "1119/1119 [==============================] - 2s 1ms/step - loss: 1.8548 - mse: 1.8548 - mae: 0.7082 - val_loss: 1.9717 - val_mse: 1.9717 - val_mae: 0.7425\n",
      "Epoch 97/100\n",
      "1119/1119 [==============================] - 2s 1ms/step - loss: 1.9862 - mse: 1.9862 - mae: 0.7316 - val_loss: 1.5490 - val_mse: 1.5490 - val_mae: 0.6585\n",
      "Epoch 98/100\n",
      "1119/1119 [==============================] - 2s 1ms/step - loss: 1.8699 - mse: 1.8699 - mae: 0.7115 - val_loss: 1.8746 - val_mse: 1.8746 - val_mae: 0.7684\n",
      "Epoch 99/100\n",
      "1119/1119 [==============================] - 2s 1ms/step - loss: 2.0280 - mse: 2.0280 - mae: 0.7464 - val_loss: 1.4199 - val_mse: 1.4199 - val_mae: 0.6095\n",
      "Epoch 100/100\n",
      "1119/1119 [==============================] - 2s 1ms/step - loss: 1.8127 - mse: 1.8127 - mae: 0.6984 - val_loss: 2.1125 - val_mse: 2.1125 - val_mae: 0.8159\n"
     ]
    }
   ],
   "source": [
    "history=model.fit(x_train, y_train, epochs=100, batch_size=150, verbose=1, validation_split=0.2)\n",
    "predictions = model.predict(x_test)"
   ]
  },
  {
   "cell_type": "code",
   "execution_count": 77,
   "metadata": {},
   "outputs": [
    {
     "name": "stdout",
     "output_type": "stream",
     "text": [
      "Testing Score:  0.9656111002675518\n",
      "mse value :  2.0121048338965513\n"
     ]
    }
   ],
   "source": [
    "Neural_score = r2_score(y_test, predictions)\n",
    "print(\"Testing Score: \", Neural_score)\n",
    "\n",
    "mse = mean_squared_error(y_test, predictions)\n",
    "print(\"mse value : \", mse)"
   ]
  },
  {
   "cell_type": "code",
   "execution_count": 78,
   "metadata": {},
   "outputs": [],
   "source": [
    "fw = pd.DataFrame(np.arange(start=2.5, stop=3.0, step=0.05),columns=['fw'])\n",
    "He = pd.DataFrame(np.arange(start=-3.0, stop=6.0, step=0.25),columns=['He'])\n",
    "Rad = pd.DataFrame(np.arange(start=6.0, stop=10.0, step=0.25),columns=['Rad'])"
   ]
  },
  {
   "cell_type": "code",
   "execution_count": 79,
   "metadata": {},
   "outputs": [
    {
     "data": {
      "text/html": [
       "<div>\n",
       "<style scoped>\n",
       "    .dataframe tbody tr th:only-of-type {\n",
       "        vertical-align: middle;\n",
       "    }\n",
       "\n",
       "    .dataframe tbody tr th {\n",
       "        vertical-align: top;\n",
       "    }\n",
       "\n",
       "    .dataframe thead th {\n",
       "        text-align: right;\n",
       "    }\n",
       "</style>\n",
       "<table border=\"1\" class=\"dataframe\">\n",
       "  <thead>\n",
       "    <tr style=\"text-align: right;\">\n",
       "      <th></th>\n",
       "      <th>freq</th>\n",
       "    </tr>\n",
       "  </thead>\n",
       "  <tbody>\n",
       "    <tr>\n",
       "      <th>0</th>\n",
       "      <td>2.000000</td>\n",
       "    </tr>\n",
       "    <tr>\n",
       "      <th>1</th>\n",
       "      <td>2.008889</td>\n",
       "    </tr>\n",
       "    <tr>\n",
       "      <th>2</th>\n",
       "      <td>2.017778</td>\n",
       "    </tr>\n",
       "    <tr>\n",
       "      <th>3</th>\n",
       "      <td>2.026667</td>\n",
       "    </tr>\n",
       "    <tr>\n",
       "      <th>4</th>\n",
       "      <td>2.035556</td>\n",
       "    </tr>\n",
       "    <tr>\n",
       "      <th>...</th>\n",
       "      <td>...</td>\n",
       "    </tr>\n",
       "    <tr>\n",
       "      <th>446</th>\n",
       "      <td>5.964444</td>\n",
       "    </tr>\n",
       "    <tr>\n",
       "      <th>447</th>\n",
       "      <td>5.973333</td>\n",
       "    </tr>\n",
       "    <tr>\n",
       "      <th>448</th>\n",
       "      <td>5.982222</td>\n",
       "    </tr>\n",
       "    <tr>\n",
       "      <th>449</th>\n",
       "      <td>5.991111</td>\n",
       "    </tr>\n",
       "    <tr>\n",
       "      <th>450</th>\n",
       "      <td>6.000000</td>\n",
       "    </tr>\n",
       "  </tbody>\n",
       "</table>\n",
       "<p>451 rows × 1 columns</p>\n",
       "</div>"
      ],
      "text/plain": [
       "         freq\n",
       "0    2.000000\n",
       "1    2.008889\n",
       "2    2.017778\n",
       "3    2.026667\n",
       "4    2.035556\n",
       "..        ...\n",
       "446  5.964444\n",
       "447  5.973333\n",
       "448  5.982222\n",
       "449  5.991111\n",
       "450  6.000000\n",
       "\n",
       "[451 rows x 1 columns]"
      ]
     },
     "execution_count": 79,
     "metadata": {},
     "output_type": "execute_result"
    }
   ],
   "source": [
    "Freq = pd.read_excel('freq_yash.xlsx')\n",
    "Freq"
   ]
  },
  {
   "cell_type": "code",
   "execution_count": 80,
   "metadata": {},
   "outputs": [
    {
     "data": {
      "text/html": [
       "<div>\n",
       "<style scoped>\n",
       "    .dataframe tbody tr th:only-of-type {\n",
       "        vertical-align: middle;\n",
       "    }\n",
       "\n",
       "    .dataframe tbody tr th {\n",
       "        vertical-align: top;\n",
       "    }\n",
       "\n",
       "    .dataframe thead th {\n",
       "        text-align: right;\n",
       "    }\n",
       "</style>\n",
       "<table border=\"1\" class=\"dataframe\">\n",
       "  <thead>\n",
       "    <tr style=\"text-align: right;\">\n",
       "      <th></th>\n",
       "      <th>fw</th>\n",
       "      <th>He</th>\n",
       "    </tr>\n",
       "  </thead>\n",
       "  <tbody>\n",
       "    <tr>\n",
       "      <th>0</th>\n",
       "      <td>2.50</td>\n",
       "      <td>-3.00</td>\n",
       "    </tr>\n",
       "    <tr>\n",
       "      <th>1</th>\n",
       "      <td>2.50</td>\n",
       "      <td>-2.75</td>\n",
       "    </tr>\n",
       "    <tr>\n",
       "      <th>2</th>\n",
       "      <td>2.50</td>\n",
       "      <td>-2.50</td>\n",
       "    </tr>\n",
       "    <tr>\n",
       "      <th>3</th>\n",
       "      <td>2.50</td>\n",
       "      <td>-2.25</td>\n",
       "    </tr>\n",
       "    <tr>\n",
       "      <th>4</th>\n",
       "      <td>2.50</td>\n",
       "      <td>-2.00</td>\n",
       "    </tr>\n",
       "    <tr>\n",
       "      <th>...</th>\n",
       "      <td>...</td>\n",
       "      <td>...</td>\n",
       "    </tr>\n",
       "    <tr>\n",
       "      <th>355</th>\n",
       "      <td>2.95</td>\n",
       "      <td>4.75</td>\n",
       "    </tr>\n",
       "    <tr>\n",
       "      <th>356</th>\n",
       "      <td>2.95</td>\n",
       "      <td>5.00</td>\n",
       "    </tr>\n",
       "    <tr>\n",
       "      <th>357</th>\n",
       "      <td>2.95</td>\n",
       "      <td>5.25</td>\n",
       "    </tr>\n",
       "    <tr>\n",
       "      <th>358</th>\n",
       "      <td>2.95</td>\n",
       "      <td>5.50</td>\n",
       "    </tr>\n",
       "    <tr>\n",
       "      <th>359</th>\n",
       "      <td>2.95</td>\n",
       "      <td>5.75</td>\n",
       "    </tr>\n",
       "  </tbody>\n",
       "</table>\n",
       "<p>360 rows × 2 columns</p>\n",
       "</div>"
      ],
      "text/plain": [
       "       fw    He\n",
       "0    2.50 -3.00\n",
       "1    2.50 -2.75\n",
       "2    2.50 -2.50\n",
       "3    2.50 -2.25\n",
       "4    2.50 -2.00\n",
       "..    ...   ...\n",
       "355  2.95  4.75\n",
       "356  2.95  5.00\n",
       "357  2.95  5.25\n",
       "358  2.95  5.50\n",
       "359  2.95  5.75\n",
       "\n",
       "[360 rows x 2 columns]"
      ]
     },
     "execution_count": 80,
     "metadata": {},
     "output_type": "execute_result"
    }
   ],
   "source": [
    "fw['tmp'] = 1\n",
    "He['tmp'] = 1\n",
    "\n",
    "new_dataset = pd.merge(fw, He, on=['tmp'])\n",
    "new_dataset = new_dataset.drop('tmp', axis=1)\n",
    "new_dataset"
   ]
  },
  {
   "cell_type": "code",
   "execution_count": 81,
   "metadata": {},
   "outputs": [
    {
     "data": {
      "text/html": [
       "<div>\n",
       "<style scoped>\n",
       "    .dataframe tbody tr th:only-of-type {\n",
       "        vertical-align: middle;\n",
       "    }\n",
       "\n",
       "    .dataframe tbody tr th {\n",
       "        vertical-align: top;\n",
       "    }\n",
       "\n",
       "    .dataframe thead th {\n",
       "        text-align: right;\n",
       "    }\n",
       "</style>\n",
       "<table border=\"1\" class=\"dataframe\">\n",
       "  <thead>\n",
       "    <tr style=\"text-align: right;\">\n",
       "      <th></th>\n",
       "      <th>fw</th>\n",
       "      <th>He</th>\n",
       "      <th>Rad</th>\n",
       "    </tr>\n",
       "  </thead>\n",
       "  <tbody>\n",
       "    <tr>\n",
       "      <th>0</th>\n",
       "      <td>2.50</td>\n",
       "      <td>-3.00</td>\n",
       "      <td>6.00</td>\n",
       "    </tr>\n",
       "    <tr>\n",
       "      <th>1</th>\n",
       "      <td>2.50</td>\n",
       "      <td>-3.00</td>\n",
       "      <td>6.25</td>\n",
       "    </tr>\n",
       "    <tr>\n",
       "      <th>2</th>\n",
       "      <td>2.50</td>\n",
       "      <td>-3.00</td>\n",
       "      <td>6.50</td>\n",
       "    </tr>\n",
       "    <tr>\n",
       "      <th>3</th>\n",
       "      <td>2.50</td>\n",
       "      <td>-3.00</td>\n",
       "      <td>6.75</td>\n",
       "    </tr>\n",
       "    <tr>\n",
       "      <th>4</th>\n",
       "      <td>2.50</td>\n",
       "      <td>-3.00</td>\n",
       "      <td>7.00</td>\n",
       "    </tr>\n",
       "    <tr>\n",
       "      <th>...</th>\n",
       "      <td>...</td>\n",
       "      <td>...</td>\n",
       "      <td>...</td>\n",
       "    </tr>\n",
       "    <tr>\n",
       "      <th>5755</th>\n",
       "      <td>2.95</td>\n",
       "      <td>5.75</td>\n",
       "      <td>8.75</td>\n",
       "    </tr>\n",
       "    <tr>\n",
       "      <th>5756</th>\n",
       "      <td>2.95</td>\n",
       "      <td>5.75</td>\n",
       "      <td>9.00</td>\n",
       "    </tr>\n",
       "    <tr>\n",
       "      <th>5757</th>\n",
       "      <td>2.95</td>\n",
       "      <td>5.75</td>\n",
       "      <td>9.25</td>\n",
       "    </tr>\n",
       "    <tr>\n",
       "      <th>5758</th>\n",
       "      <td>2.95</td>\n",
       "      <td>5.75</td>\n",
       "      <td>9.50</td>\n",
       "    </tr>\n",
       "    <tr>\n",
       "      <th>5759</th>\n",
       "      <td>2.95</td>\n",
       "      <td>5.75</td>\n",
       "      <td>9.75</td>\n",
       "    </tr>\n",
       "  </tbody>\n",
       "</table>\n",
       "<p>5760 rows × 3 columns</p>\n",
       "</div>"
      ],
      "text/plain": [
       "        fw    He   Rad\n",
       "0     2.50 -3.00  6.00\n",
       "1     2.50 -3.00  6.25\n",
       "2     2.50 -3.00  6.50\n",
       "3     2.50 -3.00  6.75\n",
       "4     2.50 -3.00  7.00\n",
       "...    ...   ...   ...\n",
       "5755  2.95  5.75  8.75\n",
       "5756  2.95  5.75  9.00\n",
       "5757  2.95  5.75  9.25\n",
       "5758  2.95  5.75  9.50\n",
       "5759  2.95  5.75  9.75\n",
       "\n",
       "[5760 rows x 3 columns]"
      ]
     },
     "execution_count": 81,
     "metadata": {},
     "output_type": "execute_result"
    }
   ],
   "source": [
    "new_dataset['tmp'] = 1\n",
    "Rad['tmp'] = 1\n",
    "\n",
    "new_dataset = pd.merge(new_dataset, Rad, on=['tmp'])\n",
    "new_dataset = new_dataset.drop('tmp', axis=1)\n",
    "new_dataset"
   ]
  },
  {
   "cell_type": "code",
   "execution_count": 82,
   "metadata": {},
   "outputs": [
    {
     "data": {
      "text/html": [
       "<div>\n",
       "<style scoped>\n",
       "    .dataframe tbody tr th:only-of-type {\n",
       "        vertical-align: middle;\n",
       "    }\n",
       "\n",
       "    .dataframe tbody tr th {\n",
       "        vertical-align: top;\n",
       "    }\n",
       "\n",
       "    .dataframe thead th {\n",
       "        text-align: right;\n",
       "    }\n",
       "</style>\n",
       "<table border=\"1\" class=\"dataframe\">\n",
       "  <thead>\n",
       "    <tr style=\"text-align: right;\">\n",
       "      <th></th>\n",
       "      <th>fw</th>\n",
       "      <th>He</th>\n",
       "      <th>Rad</th>\n",
       "      <th>freq</th>\n",
       "    </tr>\n",
       "  </thead>\n",
       "  <tbody>\n",
       "    <tr>\n",
       "      <th>0</th>\n",
       "      <td>2.50</td>\n",
       "      <td>-3.00</td>\n",
       "      <td>6.00</td>\n",
       "      <td>2.000000</td>\n",
       "    </tr>\n",
       "    <tr>\n",
       "      <th>1</th>\n",
       "      <td>2.50</td>\n",
       "      <td>-3.00</td>\n",
       "      <td>6.00</td>\n",
       "      <td>2.008889</td>\n",
       "    </tr>\n",
       "    <tr>\n",
       "      <th>2</th>\n",
       "      <td>2.50</td>\n",
       "      <td>-3.00</td>\n",
       "      <td>6.00</td>\n",
       "      <td>2.017778</td>\n",
       "    </tr>\n",
       "    <tr>\n",
       "      <th>3</th>\n",
       "      <td>2.50</td>\n",
       "      <td>-3.00</td>\n",
       "      <td>6.00</td>\n",
       "      <td>2.026667</td>\n",
       "    </tr>\n",
       "    <tr>\n",
       "      <th>4</th>\n",
       "      <td>2.50</td>\n",
       "      <td>-3.00</td>\n",
       "      <td>6.00</td>\n",
       "      <td>2.035556</td>\n",
       "    </tr>\n",
       "    <tr>\n",
       "      <th>...</th>\n",
       "      <td>...</td>\n",
       "      <td>...</td>\n",
       "      <td>...</td>\n",
       "      <td>...</td>\n",
       "    </tr>\n",
       "    <tr>\n",
       "      <th>2597755</th>\n",
       "      <td>2.95</td>\n",
       "      <td>5.75</td>\n",
       "      <td>9.75</td>\n",
       "      <td>5.964444</td>\n",
       "    </tr>\n",
       "    <tr>\n",
       "      <th>2597756</th>\n",
       "      <td>2.95</td>\n",
       "      <td>5.75</td>\n",
       "      <td>9.75</td>\n",
       "      <td>5.973333</td>\n",
       "    </tr>\n",
       "    <tr>\n",
       "      <th>2597757</th>\n",
       "      <td>2.95</td>\n",
       "      <td>5.75</td>\n",
       "      <td>9.75</td>\n",
       "      <td>5.982222</td>\n",
       "    </tr>\n",
       "    <tr>\n",
       "      <th>2597758</th>\n",
       "      <td>2.95</td>\n",
       "      <td>5.75</td>\n",
       "      <td>9.75</td>\n",
       "      <td>5.991111</td>\n",
       "    </tr>\n",
       "    <tr>\n",
       "      <th>2597759</th>\n",
       "      <td>2.95</td>\n",
       "      <td>5.75</td>\n",
       "      <td>9.75</td>\n",
       "      <td>6.000000</td>\n",
       "    </tr>\n",
       "  </tbody>\n",
       "</table>\n",
       "<p>2597760 rows × 4 columns</p>\n",
       "</div>"
      ],
      "text/plain": [
       "           fw    He   Rad      freq\n",
       "0        2.50 -3.00  6.00  2.000000\n",
       "1        2.50 -3.00  6.00  2.008889\n",
       "2        2.50 -3.00  6.00  2.017778\n",
       "3        2.50 -3.00  6.00  2.026667\n",
       "4        2.50 -3.00  6.00  2.035556\n",
       "...       ...   ...   ...       ...\n",
       "2597755  2.95  5.75  9.75  5.964444\n",
       "2597756  2.95  5.75  9.75  5.973333\n",
       "2597757  2.95  5.75  9.75  5.982222\n",
       "2597758  2.95  5.75  9.75  5.991111\n",
       "2597759  2.95  5.75  9.75  6.000000\n",
       "\n",
       "[2597760 rows x 4 columns]"
      ]
     },
     "execution_count": 82,
     "metadata": {},
     "output_type": "execute_result"
    }
   ],
   "source": [
    "new_dataset['tmp'] = 1\n",
    "Freq['tmp'] = 1\n",
    "\n",
    "new_dataset = pd.merge(new_dataset, Freq, on=['tmp'])\n",
    "new_dataset = new_dataset.drop('tmp', axis=1)\n",
    "new_dataset\n"
   ]
  },
  {
   "cell_type": "code",
   "execution_count": 83,
   "metadata": {},
   "outputs": [],
   "source": [
    "knn = KNeighborsRegressor(n_neighbors = 2)\n",
    "knn.fit(x_train ,y_train)\n",
    "accuracies = r2_score(y_test, knn.predict(x_test))\n",
    "mse = mean_squared_error(y_test,  knn.predict(x_test))"
   ]
  },
  {
   "cell_type": "code",
   "execution_count": 84,
   "metadata": {},
   "outputs": [
    {
     "name": "stdout",
     "output_type": "stream",
     "text": [
      "Accuracies =  0.983677585854314\n",
      "Mean Squared Error =  0.9550293454840383\n"
     ]
    }
   ],
   "source": [
    "print(\"Accuracies = \",accuracies)\n",
    "print(\"Mean Squared Error = \",mse)"
   ]
  },
  {
   "cell_type": "code",
   "execution_count": 85,
   "metadata": {},
   "outputs": [
    {
     "data": {
      "text/plain": [
       "array([-8.76659136, -8.76659136, -8.76659136, ..., -5.51687901,\n",
       "       -5.30673714, -5.30673714])"
      ]
     },
     "execution_count": 85,
     "metadata": {},
     "output_type": "execute_result"
    }
   ],
   "source": [
    "y_pred = knn.predict(new_dataset)\n",
    "y_pred"
   ]
  },
  {
   "cell_type": "code",
   "execution_count": 86,
   "metadata": {},
   "outputs": [
    {
     "data": {
      "text/html": [
       "<div>\n",
       "<style scoped>\n",
       "    .dataframe tbody tr th:only-of-type {\n",
       "        vertical-align: middle;\n",
       "    }\n",
       "\n",
       "    .dataframe tbody tr th {\n",
       "        vertical-align: top;\n",
       "    }\n",
       "\n",
       "    .dataframe thead th {\n",
       "        text-align: right;\n",
       "    }\n",
       "</style>\n",
       "<table border=\"1\" class=\"dataframe\">\n",
       "  <thead>\n",
       "    <tr style=\"text-align: right;\">\n",
       "      <th></th>\n",
       "      <th>s11</th>\n",
       "    </tr>\n",
       "  </thead>\n",
       "  <tbody>\n",
       "    <tr>\n",
       "      <th>0</th>\n",
       "      <td>-8.766591</td>\n",
       "    </tr>\n",
       "    <tr>\n",
       "      <th>1</th>\n",
       "      <td>-8.766591</td>\n",
       "    </tr>\n",
       "    <tr>\n",
       "      <th>2</th>\n",
       "      <td>-8.766591</td>\n",
       "    </tr>\n",
       "    <tr>\n",
       "      <th>3</th>\n",
       "      <td>-8.766591</td>\n",
       "    </tr>\n",
       "    <tr>\n",
       "      <th>4</th>\n",
       "      <td>-12.421922</td>\n",
       "    </tr>\n",
       "    <tr>\n",
       "      <th>...</th>\n",
       "      <td>...</td>\n",
       "    </tr>\n",
       "    <tr>\n",
       "      <th>2597755</th>\n",
       "      <td>-5.516879</td>\n",
       "    </tr>\n",
       "    <tr>\n",
       "      <th>2597756</th>\n",
       "      <td>-5.516879</td>\n",
       "    </tr>\n",
       "    <tr>\n",
       "      <th>2597757</th>\n",
       "      <td>-5.516879</td>\n",
       "    </tr>\n",
       "    <tr>\n",
       "      <th>2597758</th>\n",
       "      <td>-5.306737</td>\n",
       "    </tr>\n",
       "    <tr>\n",
       "      <th>2597759</th>\n",
       "      <td>-5.306737</td>\n",
       "    </tr>\n",
       "  </tbody>\n",
       "</table>\n",
       "<p>2597760 rows × 1 columns</p>\n",
       "</div>"
      ],
      "text/plain": [
       "               s11\n",
       "0        -8.766591\n",
       "1        -8.766591\n",
       "2        -8.766591\n",
       "3        -8.766591\n",
       "4       -12.421922\n",
       "...            ...\n",
       "2597755  -5.516879\n",
       "2597756  -5.516879\n",
       "2597757  -5.516879\n",
       "2597758  -5.306737\n",
       "2597759  -5.306737\n",
       "\n",
       "[2597760 rows x 1 columns]"
      ]
     },
     "execution_count": 86,
     "metadata": {},
     "output_type": "execute_result"
    }
   ],
   "source": [
    "y_pred = pd.DataFrame(y_pred,columns=['s11'])\n",
    "y_pred"
   ]
  },
  {
   "cell_type": "code",
   "execution_count": 87,
   "metadata": {
    "scrolled": true
   },
   "outputs": [
    {
     "data": {
      "text/html": [
       "<div>\n",
       "<style scoped>\n",
       "    .dataframe tbody tr th:only-of-type {\n",
       "        vertical-align: middle;\n",
       "    }\n",
       "\n",
       "    .dataframe tbody tr th {\n",
       "        vertical-align: top;\n",
       "    }\n",
       "\n",
       "    .dataframe thead th {\n",
       "        text-align: right;\n",
       "    }\n",
       "</style>\n",
       "<table border=\"1\" class=\"dataframe\">\n",
       "  <thead>\n",
       "    <tr style=\"text-align: right;\">\n",
       "      <th></th>\n",
       "      <th>fw</th>\n",
       "      <th>He</th>\n",
       "      <th>Rad</th>\n",
       "      <th>freq</th>\n",
       "      <th>s11</th>\n",
       "    </tr>\n",
       "  </thead>\n",
       "  <tbody>\n",
       "    <tr>\n",
       "      <th>0</th>\n",
       "      <td>2.50</td>\n",
       "      <td>-3.00</td>\n",
       "      <td>6.00</td>\n",
       "      <td>2.000000</td>\n",
       "      <td>-8.766591</td>\n",
       "    </tr>\n",
       "    <tr>\n",
       "      <th>1</th>\n",
       "      <td>2.50</td>\n",
       "      <td>-3.00</td>\n",
       "      <td>6.00</td>\n",
       "      <td>2.008889</td>\n",
       "      <td>-8.766591</td>\n",
       "    </tr>\n",
       "    <tr>\n",
       "      <th>2</th>\n",
       "      <td>2.50</td>\n",
       "      <td>-3.00</td>\n",
       "      <td>6.00</td>\n",
       "      <td>2.017778</td>\n",
       "      <td>-8.766591</td>\n",
       "    </tr>\n",
       "    <tr>\n",
       "      <th>3</th>\n",
       "      <td>2.50</td>\n",
       "      <td>-3.00</td>\n",
       "      <td>6.00</td>\n",
       "      <td>2.026667</td>\n",
       "      <td>-8.766591</td>\n",
       "    </tr>\n",
       "    <tr>\n",
       "      <th>4</th>\n",
       "      <td>2.50</td>\n",
       "      <td>-3.00</td>\n",
       "      <td>6.00</td>\n",
       "      <td>2.035556</td>\n",
       "      <td>-12.421922</td>\n",
       "    </tr>\n",
       "    <tr>\n",
       "      <th>...</th>\n",
       "      <td>...</td>\n",
       "      <td>...</td>\n",
       "      <td>...</td>\n",
       "      <td>...</td>\n",
       "      <td>...</td>\n",
       "    </tr>\n",
       "    <tr>\n",
       "      <th>2597755</th>\n",
       "      <td>2.95</td>\n",
       "      <td>5.75</td>\n",
       "      <td>9.75</td>\n",
       "      <td>5.964444</td>\n",
       "      <td>-5.516879</td>\n",
       "    </tr>\n",
       "    <tr>\n",
       "      <th>2597756</th>\n",
       "      <td>2.95</td>\n",
       "      <td>5.75</td>\n",
       "      <td>9.75</td>\n",
       "      <td>5.973333</td>\n",
       "      <td>-5.516879</td>\n",
       "    </tr>\n",
       "    <tr>\n",
       "      <th>2597757</th>\n",
       "      <td>2.95</td>\n",
       "      <td>5.75</td>\n",
       "      <td>9.75</td>\n",
       "      <td>5.982222</td>\n",
       "      <td>-5.516879</td>\n",
       "    </tr>\n",
       "    <tr>\n",
       "      <th>2597758</th>\n",
       "      <td>2.95</td>\n",
       "      <td>5.75</td>\n",
       "      <td>9.75</td>\n",
       "      <td>5.991111</td>\n",
       "      <td>-5.306737</td>\n",
       "    </tr>\n",
       "    <tr>\n",
       "      <th>2597759</th>\n",
       "      <td>2.95</td>\n",
       "      <td>5.75</td>\n",
       "      <td>9.75</td>\n",
       "      <td>6.000000</td>\n",
       "      <td>-5.306737</td>\n",
       "    </tr>\n",
       "  </tbody>\n",
       "</table>\n",
       "<p>2597760 rows × 5 columns</p>\n",
       "</div>"
      ],
      "text/plain": [
       "           fw    He   Rad      freq        s11\n",
       "0        2.50 -3.00  6.00  2.000000  -8.766591\n",
       "1        2.50 -3.00  6.00  2.008889  -8.766591\n",
       "2        2.50 -3.00  6.00  2.017778  -8.766591\n",
       "3        2.50 -3.00  6.00  2.026667  -8.766591\n",
       "4        2.50 -3.00  6.00  2.035556 -12.421922\n",
       "...       ...   ...   ...       ...        ...\n",
       "2597755  2.95  5.75  9.75  5.964444  -5.516879\n",
       "2597756  2.95  5.75  9.75  5.973333  -5.516879\n",
       "2597757  2.95  5.75  9.75  5.982222  -5.516879\n",
       "2597758  2.95  5.75  9.75  5.991111  -5.306737\n",
       "2597759  2.95  5.75  9.75  6.000000  -5.306737\n",
       "\n",
       "[2597760 rows x 5 columns]"
      ]
     },
     "execution_count": 87,
     "metadata": {},
     "output_type": "execute_result"
    }
   ],
   "source": [
    "dataset_with_predict = new_dataset.join(y_pred)\n",
    "dataset_with_predict"
   ]
  },
  {
   "cell_type": "code",
   "execution_count": 91,
   "metadata": {},
   "outputs": [
    {
     "data": {
      "text/plain": [
       "-58.26942548767425"
      ]
     },
     "execution_count": 91,
     "metadata": {},
     "output_type": "execute_result"
    }
   ],
   "source": [
    "np.min(y_pred['s11'])"
   ]
  },
  {
   "cell_type": "code",
   "execution_count": 92,
   "metadata": {},
   "outputs": [
    {
     "data": {
      "text/plain": [
       "1295885"
      ]
     },
     "execution_count": 92,
     "metadata": {},
     "output_type": "execute_result"
    }
   ],
   "source": [
    "np.argmin(y_pred['s11'])"
   ]
  },
  {
   "cell_type": "code",
   "execution_count": 93,
   "metadata": {},
   "outputs": [
    {
     "data": {
      "text/plain": [
       "-58.26942548767425"
      ]
     },
     "execution_count": 93,
     "metadata": {},
     "output_type": "execute_result"
    }
   ],
   "source": [
    "y_pred['s11'][1295885]"
   ]
  },
  {
   "cell_type": "code",
   "execution_count": 94,
   "metadata": {},
   "outputs": [
    {
     "data": {
      "text/html": [
       "<div>\n",
       "<style scoped>\n",
       "    .dataframe tbody tr th:only-of-type {\n",
       "        vertical-align: middle;\n",
       "    }\n",
       "\n",
       "    .dataframe tbody tr th {\n",
       "        vertical-align: top;\n",
       "    }\n",
       "\n",
       "    .dataframe thead th {\n",
       "        text-align: right;\n",
       "    }\n",
       "</style>\n",
       "<table border=\"1\" class=\"dataframe\">\n",
       "  <thead>\n",
       "    <tr style=\"text-align: right;\">\n",
       "      <th></th>\n",
       "      <th>fw</th>\n",
       "      <th>He</th>\n",
       "      <th>Rad</th>\n",
       "      <th>freq</th>\n",
       "    </tr>\n",
       "  </thead>\n",
       "  <tbody>\n",
       "    <tr>\n",
       "      <th>1295885</th>\n",
       "      <td>2.7</td>\n",
       "      <td>5.75</td>\n",
       "      <td>8.25</td>\n",
       "      <td>3.44</td>\n",
       "    </tr>\n",
       "  </tbody>\n",
       "</table>\n",
       "</div>"
      ],
      "text/plain": [
       "          fw    He   Rad  freq\n",
       "1295885  2.7  5.75  8.25  3.44"
      ]
     },
     "execution_count": 94,
     "metadata": {},
     "output_type": "execute_result"
    }
   ],
   "source": [
    "new_dataset.loc[[1295885]]"
   ]
  }
 ],
 "metadata": {
  "kernelspec": {
   "display_name": "Python 3 (ipykernel)",
   "language": "python",
   "name": "python3"
  },
  "language_info": {
   "codemirror_mode": {
    "name": "ipython",
    "version": 3
   },
   "file_extension": ".py",
   "mimetype": "text/x-python",
   "name": "python",
   "nbconvert_exporter": "python",
   "pygments_lexer": "ipython3",
   "version": "3.10.9"
  }
 },
 "nbformat": 4,
 "nbformat_minor": 2
}
